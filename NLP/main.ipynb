{
 "cells": [
  {
   "cell_type": "markdown",
   "id": "e021658f",
   "metadata": {},
   "source": [
    "# NLP\n",
    "\n",
    "## Feature Selection\n",
    "- Zipf's Law\n",
    "  - In english, most frequent tokens are unnecessary(top-n token can be discarded)\n",
    "    - a, the, an, of, to, etc\n",
    "  - In english, most rare tokens are unnecessary(botton-n token can be discarded)\n",
    "    - Not used token\n",
    "  - Ex. TF-IDF => BM25(Elastic)\n",
    "  \n",
    "- Stop-words\n",
    "  - In english, just delete the size of token <= 2 is valid\n",
    "  - In korean, Use morphemes, token size is invalid\n",
    "  \n",
    "## Text-Mining vs NLP\n",
    "- Text-Mining : TEXT = DATA\n",
    "- NLP : TEXT = The bagic compoment of language"
   ]
  }
 ],
 "metadata": {
  "kernelspec": {
   "display_name": "Python 3 (ipykernel)",
   "language": "python",
   "name": "python3"
  },
  "language_info": {
   "codemirror_mode": {
    "name": "ipython",
    "version": 3
   },
   "file_extension": ".py",
   "mimetype": "text/x-python",
   "name": "python",
   "nbconvert_exporter": "python",
   "pygments_lexer": "ipython3",
   "version": "3.10.5"
  }
 },
 "nbformat": 4,
 "nbformat_minor": 5
}

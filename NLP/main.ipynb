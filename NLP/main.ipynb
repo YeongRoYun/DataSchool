{
 "cells": [
  {
   "cell_type": "markdown",
   "id": "e021658f",
   "metadata": {},
   "source": [
    "# NLP\n",
    "```\n",
    "NLU            NLG\n",
    "\n",
    "RNN\n",
    "LSTM\n",
    "        ATTENTION\n",
    "\n",
    "BERT  <-- Transformer(ATTENTION) --> GPT\n",
    "\n",
    "--> NLP\n",
    "\n",
    "```\n"
   ]
  }
 ],
 "metadata": {
  "kernelspec": {
   "display_name": "Python 3 (ipykernel)",
   "language": "python",
   "name": "python3"
  },
  "language_info": {
   "codemirror_mode": {
    "name": "ipython",
    "version": 3
   },
   "file_extension": ".py",
   "mimetype": "text/x-python",
   "name": "python",
   "nbconvert_exporter": "python",
   "pygments_lexer": "ipython3",
   "version": "3.10.5"
  }
 },
 "nbformat": 4,
 "nbformat_minor": 5
}

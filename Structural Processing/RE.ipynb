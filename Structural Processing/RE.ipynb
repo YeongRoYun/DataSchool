{
 "cells": [
  {
   "cell_type": "markdown",
   "id": "88e87358",
   "metadata": {},
   "source": [
    "# Regular Expression\n",
    "\n",
    "## Benefits\n",
    "- Very **FAST**\n",
    "\n",
    "## Drawbacks\n",
    "- Low **SCALABILITY**\n",
    "\n",
    "## Symbol\n",
    "- ```(?:) := The group is matched but cannot captured.```\n",
    "  - So, the group cannot do back-reference\n",
    "\n",
    "## Abbreviation\n",
    "- ```\\d := [0-9]; \\D := ^\\d;```\n",
    "- ```\\s := [ \\t\\n\\r\\n]; \\S := ^\\s```\n",
    "- ```\\w := [a-z]; \\W := ^\\s```\n",
    "- ```\\b := Word-boundary; \\B := ^\\b```\n",
    "  - Word-boundary is a zero-width test between two characters\n",
    "  - To pass the test, one side must be a word-character and another must be a non-word-character\n",
    "  ```\n",
    "  Hello World! (Text)\n",
    "  \n",
    "  (Test1) Hello W|orld! (testing W and o) = False\n",
    "  (Test2) |Hello World! (testing the beg and H) = True\n",
    "  ```\n",
    "\n",
    "## Back-reference\n",
    "- Whenever the group of pattern is matched, remains can refer it by ```\\number```\n",
    "- ```\\0``` is the whole matched string\n",
    "- ```\\x``` is the matched ```(pattern)```"
   ]
  },
  {
   "cell_type": "code",
   "execution_count": 89,
   "id": "c171a5f3",
   "metadata": {},
   "outputs": [
    {
     "name": "stdout",
     "output_type": "stream",
     "text": [
      "<re.Match object; span=(0, 23), match='https://naver.naver.com'>\n",
      "naver\n"
     ]
    }
   ],
   "source": [
    "import re\n",
    "\n",
    "url = \"https://naver.naver.com\"\n",
    "pattern = re.compile(r'(?:\\w+)://(\\w+).\\1.com')\n",
    "print(pattern.search(url))\n",
    "print(pattern.search(url).group(1))"
   ]
  },
  {
   "cell_type": "markdown",
   "id": "0d315fb2",
   "metadata": {},
   "source": [
    "## Python RE module\n",
    "### Compile\n",
    "- Pre-define patterns\n",
    "\n",
    "### Group\n",
    "- Index ```0``` matches the entire match\n",
    "- After ```1```, matches the partial groups\n",
    "\n",
    "### Search vs Match\n",
    "- Search return sub-matched ```Match``` object or None\n",
    "- Match return full-matched ```Match``` object or None\n",
    "\n",
    "### find-\n",
    "- Find **ALL** of matched sub-strings\n",
    "\n",
    "### Split\n",
    "- Split string by the occurrences of pattern\n",
    "\n",
    "### Sub\n",
    "- Substitude matched as a differnt string"
   ]
  },
  {
   "cell_type": "code",
   "execution_count": 112,
   "id": "84e6959d",
   "metadata": {},
   "outputs": [
    {
     "name": "stdout",
     "output_type": "stream",
     "text": [
      "search <re.Match object; span=(1, 4), match='123'>\n",
      "match None\n",
      "find ['123', '45', '231', '32323']\n",
      "sub ['a', 'a', 'b', 'b']\n",
      "200202-*******\n"
     ]
    }
   ],
   "source": [
    "import re\n",
    "\n",
    "money = '$123'\n",
    "\n",
    "pattern = re.compile(r'\\d+')\n",
    "\n",
    "print(\"search\", pattern.search(money)) # Return 123\n",
    "print(\"match\", pattern.match(money)) # Return None\n",
    "\n",
    "moneys = '$123 45 231 32323'\n",
    "print(\"find\", pattern.findall(moneys))\n",
    "\n",
    "logicalExpression = 'a&a->b=>b'\n",
    "print(\"sub\", re.split(r'(?:\\&|\\||->|=>)', logicalExpression))\n",
    "\n",
    "identityNumber = '200202-1234567'\n",
    "replaced = r'\\1-*******'\n",
    "hiddenID = re.sub(r'(\\d+)-\\d+', replaced, identityNumber)\n",
    "print(hiddenID)"
   ]
  },
  {
   "cell_type": "markdown",
   "id": "c699f726",
   "metadata": {},
   "source": [
    "## Greedy vs Lazy\n",
    "\n",
    "### Greedy\n",
    "- Default RE\n",
    "- Search entire strings to find matches even if finding it\n",
    "\n",
    "### Lazy\n",
    "- Quantifiers ```+ * {} ?```\n",
    "- Combine ```?``` with Quantifiers. So, ```+? *? {}? ??```\n",
    "- Stop searching if finding first matched"
   ]
  },
  {
   "cell_type": "code",
   "execution_count": 58,
   "id": "22f1c9b4",
   "metadata": {},
   "outputs": [
    {
     "name": "stdout",
     "output_type": "stream",
     "text": [
      "<re.Match object; span=(0, 10), match='0123456789'>\n",
      "<re.Match object; span=(0, 1), match='0'>\n",
      "<re.Match object; span=(0, 10), match='0123456789'>\n",
      "<re.Match object; span=(0, 1), match='0'>\n",
      "<re.Match object; span=(0, 10), match='0123456789'>\n",
      "<re.Match object; span=(0, 0), match=''>\n",
      "<re.Match object; span=(0, 1), match='0'>\n",
      "<re.Match object; span=(0, 0), match=''>\n"
     ]
    }
   ],
   "source": [
    "import re\n",
    "\n",
    "data = '0123456789'\n",
    "greedy = re.compile(r'\\d{1,10}') # Return 0123456789\n",
    "lazy = re.compile(r'\\d{1,10}?') # Return 0\n",
    "print(greedy.search(data))\n",
    "print(lazy.search(data))\n",
    "\n",
    "greedy = re.compile(r'\\d+') # Return 0123456789\n",
    "lazy = re.compile(r'\\d+?') # Return 0\n",
    "print(greedy.search(data))\n",
    "print(lazy.search(data))\n",
    "\n",
    "greedy = re.compile(r'\\d*') # Return 0123456789\n",
    "lazy = re.compile(r'\\d*?') # Return ''\n",
    "print(greedy.search(data))\n",
    "print(lazy.search(data))\n",
    "\n",
    "greedy = re.compile(r'\\d?') # Return 0\n",
    "lazy = re.compile(r'\\d??') # Return ''\n",
    "print(greedy.search(data))\n",
    "print(lazy.search(data))"
   ]
  },
  {
   "cell_type": "markdown",
   "id": "f83f511f",
   "metadata": {},
   "source": [
    "## Lookaround\n",
    "\n",
    "### Lookahead\n",
    "- Exclude the pattern in ```(?=pattern)``` at returned **Match**\n",
    "\n",
    "### Lookbehind\n",
    "- Same as Lookahead except for searching direction reversly\n",
    "- ```(?<=pattern)```\n",
    "\n",
    "### Negative Lookaround\n",
    "- Saerch not matched pattern\n",
    "- Negative Lookahead := ```(?!pattern)```\n",
    "- Negative Lookbehind := ```(?<!pattern)```"
   ]
  },
  {
   "cell_type": "code",
   "execution_count": 79,
   "id": "cbe46797",
   "metadata": {},
   "outputs": [
    {
     "name": "stdout",
     "output_type": "stream",
     "text": [
      "positive <re.Match object; span=(0, 3), match='100'>\n",
      "negative <re.Match object; span=(0, 3), match='100'>\n",
      "positive <re.Match object; span=(1, 4), match='100'>\n",
      "negative <re.Match object; span=(0, 3), match='100'>\n"
     ]
    }
   ],
   "source": [
    "import re\n",
    "\n",
    "# Lookahead\n",
    "print(\"positive\", re.search(r'\\w+(?=₩)', '100₩'))\n",
    "print(\"negative\", re.search(r'\\w+(?!₩)', '100'))\n",
    "\n",
    "# Lookbehind\n",
    "print(\"positive\", re.search(r'\\b(?<=\\$)\\d+\\b', '$100'))\n",
    "print(\"negative\", re.search(r'\\b(?<!\\$)\\d+\\b', '100'))"
   ]
  }
 ],
 "metadata": {
  "kernelspec": {
   "display_name": "Python 3 (ipykernel)",
   "language": "python",
   "name": "python3"
  },
  "language_info": {
   "codemirror_mode": {
    "name": "ipython",
    "version": 3
   },
   "file_extension": ".py",
   "mimetype": "text/x-python",
   "name": "python",
   "nbconvert_exporter": "python",
   "pygments_lexer": "ipython3",
   "version": "3.10.4"
  }
 },
 "nbformat": 4,
 "nbformat_minor": 5
}

{
 "cells": [
  {
   "cell_type": "markdown",
   "id": "0d315fb2",
   "metadata": {},
   "source": [
    "# Regular Expression\n",
    "\n",
    "## Benefits\n",
    "- Very **FAST**\n",
    "\n",
    "## Drawbacks\n",
    "- Low **SCALABILITY**"
   ]
  },
  {
   "cell_type": "code",
   "execution_count": 17,
   "id": "84e6959d",
   "metadata": {},
   "outputs": [
    {
     "name": "stdout",
     "output_type": "stream",
     "text": [
      "010-2701-4912\n",
      "01011233321\n"
     ]
    }
   ],
   "source": [
    "import re\n",
    "\n",
    "for _ in re.finditer('[0-9]{2,3}-?[0-9]{3,4}-?[0-9]{4}', '010-2701-4912 01011233321'):\n",
    "    print(_.group())\n"
   ]
  }
 ],
 "metadata": {
  "kernelspec": {
   "display_name": "Python 3 (ipykernel)",
   "language": "python",
   "name": "python3"
  },
  "language_info": {
   "codemirror_mode": {
    "name": "ipython",
    "version": 3
   },
   "file_extension": ".py",
   "mimetype": "text/x-python",
   "name": "python",
   "nbconvert_exporter": "python",
   "pygments_lexer": "ipython3",
   "version": "3.10.4"
  }
 },
 "nbformat": 4,
 "nbformat_minor": 5
}

{
 "cells": [
  {
   "cell_type": "markdown",
   "id": "5db0a962",
   "metadata": {},
   "source": [
    "# Mangling\n",
    "- Python doesn't support encapsulation. That is, there is no access modifiers\n",
    "- To mimic encapsulation, especially **private**, use mangling technique\n",
    "\n",
    "## Consenting Adults\n",
    "- How to make class is entirely programmer's responsibility"
   ]
  },
  {
   "cell_type": "code",
   "execution_count": 6,
   "id": "7c77a134",
   "metadata": {},
   "outputs": [],
   "source": [
    "class A:\n",
    "    __x = 1 # mangling\n",
    "assert '_A__x' in dir(A) # Change name "
   ]
  },
  {
   "cell_type": "markdown",
   "id": "92351cef",
   "metadata": {},
   "source": [
    "# Property\n",
    "- To support more realistic encapsulation, use property\n",
    "- Function's access modifier is **private** and Class's access modifier is **public**\n",
    "- Use function to seal properties\n",
    "- To check properties\n",
    "  - Use ```object.__dict__``` or ```vars(object)``` for object properties\n",
    "  - Use ```Class.__dict__``` or ```vars(class)``` for class properties"
   ]
  },
  {
   "cell_type": "code",
   "execution_count": 141,
   "id": "9a32d889",
   "metadata": {},
   "outputs": [],
   "source": [
    "class A:\n",
    "    __x = 1\n",
    "    @property\n",
    "    def x(self):\n",
    "        print('getter x')\n",
    "        return self.__x\n",
    "    @x.setter\n",
    "    def x(self, new):\n",
    "        print('setter x')\n",
    "        self.__x = new\n",
    "    @x.deleter\n",
    "    def x(self):\n",
    "        print('deleter x')\n",
    "        del self.__x\n",
    "        \n",
    "    __y = 2\n",
    "    def get_y(self):\n",
    "        print('getter y')\n",
    "        return self.__y\n",
    "    def set_y(self, new):\n",
    "        print('setter y')\n",
    "        self.__y = new\n",
    "    def del_y(self):\n",
    "        print('deleter y')\n",
    "        del self.__y\n",
    "    y = property(get_y, set_y, del_y, \"y's docstring\")\n",
    "    \n",
    "a = A()\n",
    "assert vars(a) == {} #encapsulation is acquired. y and x is private"
   ]
  },
  {
   "cell_type": "markdown",
   "id": "25155e82",
   "metadata": {},
   "source": [
    "# Discriptor\n",
    "- Discriptor let objects customize attribute lookup, storage, and deletion\n",
    "\n",
    "## Primer"
   ]
  },
  {
   "cell_type": "code",
   "execution_count": 68,
   "id": "bfc70ce6",
   "metadata": {},
   "outputs": [],
   "source": [
    "# Simple Example\n",
    "class Ten:\n",
    "    def __get__(self, obj, objtype = None):\n",
    "        return 10\n",
    "class A:\n",
    "    x = 5\n",
    "    y = Ten()\n",
    "a = A()\n",
    "assert a.x == 5\n",
    "\n",
    "# In the a.y lookup, the dot operator finds a discriptor instances, recognized by __get__\n",
    "# The value 10 is computed on demand\n",
    "assert a.y == 10"
   ]
  },
  {
   "cell_type": "markdown",
   "id": "b4304e79",
   "metadata": {},
   "source": [
    "## Dynamic lookup\n",
    "- Run computation instead of returning constant"
   ]
  },
  {
   "cell_type": "code",
   "execution_count": 92,
   "id": "5be051fd",
   "metadata": {},
   "outputs": [
    {
     "name": "stdout",
     "output_type": "stream",
     "text": [
      "obj: <__main__.Array object at 0x1380cca00> objtype: <class '__main__.Array'>\n",
      "Array len\n",
      "0\n"
     ]
    }
   ],
   "source": [
    "from collections.abc import Sequence\n",
    "\n",
    "class ArrSize:\n",
    "    \n",
    "    # obj is passed when calling it\n",
    "    # objtype = type(obj)\n",
    "    def __get__(self, obj, objtype = None):\n",
    "        print(\"obj:\", obj, \"objtype:\", objtype)\n",
    "        return len(obj)\n",
    "    \n",
    "class Array(Sequence):\n",
    "    size = ArrSize()\n",
    "    def __init__(self):\n",
    "        self.__lst = []\n",
    "    def __len__(self):\n",
    "        print(\"Array len\")\n",
    "        return len(self.__lst)\n",
    "    \n",
    "    def __getitem__(self, idx):\n",
    "        return self.__lst[idx]\n",
    "\n",
    "arr = Array()\n",
    "print(arr.size)"
   ]
  },
  {
   "cell_type": "markdown",
   "id": "68f25cb6",
   "metadata": {},
   "source": [
    "## Managed Attributes\n",
    "- "
   ]
  },
  {
   "cell_type": "code",
   "execution_count": null,
   "id": "bc9ae2ab",
   "metadata": {},
   "outputs": [],
   "source": []
  },
  {
   "cell_type": "markdown",
   "id": "b79488b1",
   "metadata": {},
   "source": [
    "# Method\n",
    "## Class Method\n",
    "- if using decorator **@classmethod**, the first argument of method refers class itself\n",
    "```\n",
    "class A:\n",
    "    @classMethod\n",
    "    def f(cls, *args):\n",
    "        pass\n",
    "```\n",
    "- **cls** is just a convention\n",
    "\n",
    "## Static Method\n",
    "- If using decorator **@staticmethod**, the function is treated as static function\n",
    "- Class is used for namespace, decorator can be omitted\n",
    "  - No instnace is generated\n",
    "  \n",
    "## Instance Method\n",
    "- If passing **instance** itself, the function is treated as instance method\n",
    "```\n",
    "class A:\n",
    "    def f(self):\n",
    "        pass\n",
    "```\n",
    "- **self** is just a convention"
   ]
  },
  {
   "cell_type": "code",
   "execution_count": 119,
   "id": "88c2224c",
   "metadata": {},
   "outputs": [
    {
     "name": "stdout",
     "output_type": "stream",
     "text": [
      "static Method\n",
      "class Method. x is 1\n",
      "instance Method\n",
      "instance Method\n"
     ]
    }
   ],
   "source": [
    "class A:\n",
    "    x = 1\n",
    "    @staticmethod\n",
    "    def f():\n",
    "        print('static Method')\n",
    "    @classmethod\n",
    "    def g(thisIsClass):\n",
    "        print('class Method. x is', thisIsClass.x)\n",
    "    def h(thisIsInstancd):\n",
    "        print('instance Method')\n",
    "\n",
    "A.f()\n",
    "A.g()\n",
    "A().h()\n",
    "A.h(A()) #passing instance explicitly"
   ]
  },
  {
   "cell_type": "markdown",
   "id": "7772887e",
   "metadata": {},
   "source": [
    "# Inheritance\n",
    "```\n",
    "class Derived(Base[, Base..])\n",
    "```\n",
    "- In python and C++, base class's properties or method are delegated **not copied**\n",
    "  - In C++, static variable is shared all members of the inheritance tree"
   ]
  },
  {
   "cell_type": "code",
   "execution_count": 23,
   "id": "e1246bc2",
   "metadata": {},
   "outputs": [
    {
     "name": "stdout",
     "output_type": "stream",
     "text": [
      "3 3\n",
      "3 5\n",
      "3 3\n"
     ]
    }
   ],
   "source": [
    "class A:\n",
    "    a = 1\n",
    "class B(A):\n",
    "    def __init__(self):\n",
    "        #super() is determined by MRO reversely by stacking\n",
    "        super(B, self).__init__() # Python 2.x\n",
    "        super().__init__() # Python 3.x\n",
    " \n",
    "A.a = 3\n",
    "print(A.a, B.a)\n",
    "\n",
    "B.a = 5 # At this time, B has its own variable \"a\"\n",
    "print(A.a, B.a)\n",
    "\n",
    "del B.a # At this time, B loses its own variable \"a\", so use A's \"a\"\n",
    "print(A.a, B.a)"
   ]
  },
  {
   "cell_type": "markdown",
   "id": "bbed0d68",
   "metadata": {},
   "source": [
    "## MRO(Method Resolution Order)"
   ]
  },
  {
   "cell_type": "code",
   "execution_count": 40,
   "id": "cf9d83fe",
   "metadata": {},
   "outputs": [
    {
     "name": "stdout",
     "output_type": "stream",
     "text": [
      "(<class '__main__.Me'>, <class '__main__.Mother'>, <class '__main__.Father'>, <class '__main__.Person'>, <class 'object'>)\n",
      "(<class '__main__.Me'>, <class '__main__.Father'>, <class '__main__.Mother'>, <class '__main__.Person'>, <class 'object'>)\n",
      "(<class '__main__.Me'>, <class '__main__.Mother'>, <class '__main__.Father'>, <class '__main__.Person'>, <class 'object'>)\n"
     ]
    },
    {
     "ename": "TypeError",
     "evalue": "Cannot create a consistent method resolution\norder (MRO) for bases A, B, C",
     "output_type": "error",
     "traceback": [
      "\u001b[0;31m---------------------------------------------------------------------------\u001b[0m",
      "\u001b[0;31mTypeError\u001b[0m                                 Traceback (most recent call last)",
      "Input \u001b[0;32mIn [40]\u001b[0m, in \u001b[0;36m<cell line: 53>\u001b[0;34m()\u001b[0m\n\u001b[1;32m     51\u001b[0m \u001b[38;5;28;01mclass\u001b[39;00m \u001b[38;5;21;01mC\u001b[39;00m(A):\n\u001b[1;32m     52\u001b[0m     \u001b[38;5;28;01mpass\u001b[39;00m\n\u001b[0;32m---> 53\u001b[0m \u001b[38;5;28;01mclass\u001b[39;00m \u001b[38;5;21;01mD\u001b[39;00m(A, B, C):\n\u001b[1;32m     54\u001b[0m     \u001b[38;5;28;01mpass\u001b[39;00m\n",
      "\u001b[0;31mTypeError\u001b[0m: Cannot create a consistent method resolution\norder (MRO) for bases A, B, C"
     ]
    }
   ],
   "source": [
    "class Person:\n",
    "    def say(self):\n",
    "        return 'person say'\n",
    "class Mother(Person):\n",
    "    def say(self):\n",
    "        return 'mother say'\n",
    "class Father(Person):\n",
    "    def say(self):\n",
    "        return 'father say'\n",
    "class Me(Mother, Father):\n",
    "    def say(self):\n",
    "        return 'me say'\n",
    "\n",
    "print(Me.__mro__)\n",
    "assert Me().say() == 'me say'\n",
    "\n",
    "del Me.say\n",
    "assert Me().say() == 'mother say'\n",
    "\n",
    "class Me(Father, Mother):\n",
    "    def say(self):\n",
    "        return 'me say'\n",
    "\n",
    "print(Me.__mro__)\n",
    "del Me.say\n",
    "assert Me().say() == 'father say'\n",
    "\n",
    "\n",
    "class Person:\n",
    "    def say(self):\n",
    "        return 'person say'\n",
    "class Mother(Person):\n",
    "    def say(self):\n",
    "        return super().say()\n",
    "class Father(Person):\n",
    "    def say(self):\n",
    "        return 'father say'\n",
    "class Me(Mother, Father):\n",
    "    def say(self):\n",
    "        return 'me say'\n",
    "    \n",
    "print(Me.__mro__)\n",
    "del Me.say\n",
    "assert Me().say() == 'father say' # super() call Person's say. so, Father is called\n",
    "\n",
    "# MRO Error\n",
    "class A:\n",
    "    pass\n",
    "class B(A):\n",
    "    pass\n",
    "class C(A):\n",
    "    pass\n",
    "class D(A, B, C): # B and C is derived by A but A is resolved before B or C\n",
    "    pass\n",
    "\n",
    "# MRO Error\n",
    "class A:\n",
    "    pass\n",
    "class B:\n",
    "    pass\n",
    "class C(A, B):\n",
    "    pass\n",
    "class D(B, A):\n",
    "    pass\n",
    "class E(C, D): # C and D is derived by A and B but different order, so E can't resolve its MRO\n",
    "    pass"
   ]
  },
  {
   "cell_type": "markdown",
   "id": "88c29553",
   "metadata": {},
   "source": [
    "# MetaClass\n",
    "- Class is an object. MetaClass makes the object\n",
    "\n",
    "## type()\n",
    "```\n",
    "type(className, (baseClass), {properties and methoeds})\n",
    "```\n",
    "### Make class **dynamically**"
   ]
  },
  {
   "cell_type": "code",
   "execution_count": 18,
   "id": "ac2bc24d",
   "metadata": {},
   "outputs": [
    {
     "name": "stdout",
     "output_type": "stream",
     "text": [
      "<class '__main__.A'>\n",
      "hello\n",
      "static Hello\n"
     ]
    }
   ],
   "source": [
    "A = type('A', (object,), {'x': 1, 'staticF': lambda: print('static Hello'), 'f': lambda self: print('hello')})\n",
    "a = A()\n",
    "print(type(a))\n",
    "a.f()\n",
    "A.staticF()\n",
    "\n",
    "# After python 2.x, data type is object of type\n",
    "assert isinstance(int, type)\n",
    "\n",
    "a = 3\n",
    "assert a.__class__ == type(a)"
   ]
  },
  {
   "cell_type": "markdown",
   "id": "f6e76d75",
   "metadata": {},
   "source": [
    "### Make metaclass"
   ]
  },
  {
   "cell_type": "code",
   "execution_count": 77,
   "id": "830c6a89",
   "metadata": {},
   "outputs": [
    {
     "name": "stdout",
     "output_type": "stream",
     "text": [
      "Calcuator\n"
     ]
    }
   ],
   "source": [
    "class MakeCalc(type):\n",
    "    def __new__(metacls, name, bases, namespace):\n",
    "        namespace['desc'] = 'Calcuator'\n",
    "        namespace['add'] = lambda a, b: a + b\n",
    "        return type.__new__(metacls, name, bases, namespace)\n",
    "\n",
    "Calc = MakeCalc('Calc', (), {})\n",
    "c = Calc()\n",
    "print(c.desc)"
   ]
  },
  {
   "cell_type": "markdown",
   "id": "c8156cfe",
   "metadata": {},
   "source": [
    "### Use for singleton"
   ]
  },
  {
   "cell_type": "code",
   "execution_count": 86,
   "id": "2a5390cc",
   "metadata": {},
   "outputs": [],
   "source": [
    "class Singleton(type):\n",
    "    __instances = {}\n",
    "    def __call__(cls, *args, **kwargs): #__call__ in cls!!\n",
    "        if cls not in cls.__instances:\n",
    "            cls.__instances[cls] = super().__call__(*args, **kwargs)\n",
    "        return cls.__instances[cls]\n",
    "\n",
    "class Hello(metaclass=Singleton):\n",
    "    pass\n",
    "a = Hello()\n",
    "b = Hello()\n",
    "assert a == b"
   ]
  },
  {
   "cell_type": "markdown",
   "id": "38e17710",
   "metadata": {},
   "source": [
    "## Instance creation flow\n",
    "- \\_\\_new\\_\\_ => \\_\\_init\\_\\_ => \\_\\_call\\_\\_\n",
    "\n",
    "### \\_\\_new\\_\\_\n",
    "- Memory allocator\n",
    "- passed by called class, arguments\n",
    "```\n",
    "class B(object):\n",
    "    def __new__(cls):\n",
    "        return super().__new__(cls) # equal to object.__new__(cls)\n",
    "```\n",
    "\n",
    "### \\_\\_init\\_\\_\n",
    "- Initialize memory\n",
    "- passed by called arguments\n",
    "\n",
    "### \\_\\_call\\_\\_\n",
    "- execute instance(with self) or class(with cls)\n",
    "- passed by called arguments\n",
    "- The initialization of metaclass is done in ```metaclass=MetaClass```\n",
    "- Type's \\_\\_call\\_\\_  method calls cls's \\_\\_init\\_\\_"
   ]
  },
  {
   "cell_type": "code",
   "execution_count": 21,
   "id": "5b762879",
   "metadata": {},
   "outputs": [
    {
     "name": "stdout",
     "output_type": "stream",
     "text": [
      "metaclass new\n",
      "metaclass init\n",
      "========================\n",
      "metaclass call\n",
      "class init\n",
      "class call\n",
      "========================\n",
      "metaclass new\n",
      "metaclass init\n",
      "========================\n",
      "metaclass call\n",
      "Derived init\n",
      "========================\n",
      "Derived call\n"
     ]
    }
   ],
   "source": [
    "class CustomMetaClass(type):\n",
    "    def __new__(cls, *args, **kwargs): #cls is \"self\"\n",
    "        print('metaclass new')\n",
    "        return super().__new__(cls, *args, **kwargs) #cls is passed `cause allocating specific memory\n",
    "    def __init__(cls, *args, **kwargs):\n",
    "        print('metaclass init')\n",
    "        super().__init__(*args, **kwargs)\n",
    "    def __call__(cls, *args, **kwargs):\n",
    "        print('metaclass call')\n",
    "        return super().__call__(*args, **kwargs)\n",
    "\n",
    "\n",
    "class MyClass(metaclass = CustomMetaClass): # At this time, MyClass, that is the instance of CustomMetaClass, is created\n",
    "    def __init__(self):\n",
    "        print('class init')\n",
    "    def __call__(self):\n",
    "        print('class call')\n",
    "        \n",
    "print('========================')\n",
    "a = MyClass() # MyClass is the instance of CustomMetaClass, so, __call__ in CustomMetaClass is called\n",
    "a()\n",
    "\n",
    "assert isinstance(MyClass, CustomMetaClass)\n",
    "assert isinstance(a, MyClass)\n",
    "\n",
    "print('========================')\n",
    "\n",
    "# Both inheritance and metaclass can be used together\n",
    "class Base:\n",
    "    def say(self):\n",
    "        print('hello')\n",
    "        \n",
    "class Derived(Base, metaclass=CustomMetaClass):\n",
    "    def __init__(self):\n",
    "        print('Derived init')\n",
    "    def __call__(self):\n",
    "        print('Derived call')\n",
    "        \n",
    "print('========================')\n",
    "d = Derived()\n",
    "print('========================')\n",
    "d()\n",
    "assert isinstance(Derived, CustomMetaClass) #Class is a instance of metaclass\n",
    "assert not isinstance(Derived, Base) # Base class just inherits its functions to derived classes\n",
    "\n",
    "# Default\n",
    "class A:\n",
    "    pass\n",
    "# Equal to\n",
    "class A(object, metaclass = type):\n",
    "    pass\n",
    "\n",
    "# To find metaclass\n",
    "assert A.__class__ == type\n",
    "assert isinstance(A, type)\n",
    "assert type(A) == type\n"
   ]
  },
  {
   "cell_type": "code",
   "execution_count": 17,
   "id": "cd2a9e93",
   "metadata": {},
   "outputs": [
    {
     "data": {
      "text/plain": [
       "int"
      ]
     },
     "execution_count": 17,
     "metadata": {},
     "output_type": "execute_result"
    }
   ],
   "source": [
    "a = 3\n",
    "a.__class__"
   ]
  },
  {
   "cell_type": "markdown",
   "id": "ac083dcc",
   "metadata": {},
   "source": [
    "## Abstraction\n",
    "- Using **ABCMeta**, make **protocol**\n",
    "- Protocol is inherited by subclass\n",
    "- Using **ABC**, make **Abstract Class**\n",
    "- **ABC** is an instance of **ABCMeta**"
   ]
  },
  {
   "cell_type": "code",
   "execution_count": 130,
   "id": "65bad1f6",
   "metadata": {},
   "outputs": [
    {
     "data": {
      "text/plain": [
       "[abc.ABC, object]"
      ]
     },
     "execution_count": 130,
     "metadata": {},
     "output_type": "execute_result"
    }
   ],
   "source": [
    "from abc import *\n",
    "\n",
    "class PersonProtocol(metaclass=ABCMeta):\n",
    "    @abstractmethod\n",
    "    def say(self):\n",
    "        pass\n",
    "\n",
    "class Student(PersonProtocol):\n",
    "    def say(self):\n",
    "        print('hello')\n",
    "s = Student()\n",
    "\n",
    "class Person(ABC):\n",
    "    @abstractmethod\n",
    "    def say(self):\n",
    "        pass\n",
    "class Student(Person):\n",
    "    def say(self):\n",
    "        print('hello')\n",
    "s = Student()\n",
    "\n",
    "assert isinstance(ABC, ABCMeta)"
   ]
  },
  {
   "cell_type": "markdown",
   "id": "870ae6bc",
   "metadata": {},
   "source": [
    "# Generic\n",
    "\n",
    "## Overloading vs Dispatch\n",
    "- Overloading is the generic functions with static types of parameters(like C++)\n",
    "- Dispatch is the generic functions with dynamic types of parameters(like Python)\n",
    "\n",
    "## Dispatch\n",
    "\n",
    "### Single Dispatch\n",
    "https://peps.python.org/pep-0443/\n",
    "- Python only supports single dispatch"
   ]
  },
  {
   "cell_type": "code",
   "execution_count": 58,
   "id": "39334913",
   "metadata": {},
   "outputs": [
    {
     "name": "stdout",
     "output_type": "stream",
     "text": [
      "<function <lambda> at 0x12de2ad40>\n",
      "3.14 Half is 1.57\n",
      "3 Half is 1.5\n",
      "<function half at 0x12e2c6560>\n",
      "<function <lambda> at 0x12de2ad40>\n",
      "dict_keys([<class 'object'>, <class 'int'>, <class 'str'>, <class 'float'>])\n",
      "string is hello\n"
     ]
    }
   ],
   "source": [
    "from functools import singledispatch\n",
    "\n",
    "@singledispatch\n",
    "def func(arg, verbose=False):\n",
    "    if verbose:\n",
    "        print(\"Let's say \", end = '')\n",
    "    print(arg)\n",
    "\n",
    "@func.register(int)\n",
    "def integer(arg, verbose=False):\n",
    "    if verbose:\n",
    "        print(\"Strength in numbers, eh? \", end = '')\n",
    "    print(arg)\n",
    "\n",
    "# Register returns undecorated function. So, chainning and independent unit-test possible\n",
    "print(func.register(str, lambda arg, verbose=False: print(\"string is\", arg)))\n",
    "@func.register(float)\n",
    "@func.register(int)\n",
    "def half(arg, verbose=False):\n",
    "    if verbose:\n",
    "        print(arg, \"Half is \", end='')\n",
    "    print(arg / 2)\n",
    "    \n",
    "#register both float and int\n",
    "func(3.14, True)\n",
    "func(3, True)\n",
    "\n",
    "# Where there is no registered implementation for a specific type, its MRO is used to find a more generic implementation\n",
    "# Default register is Object\n",
    "\n",
    "# To check which function is really called, \n",
    "print(func.dispatch(float))\n",
    "print(func.dispatch(str))\n",
    "\n",
    "# To access all registried implementations,\n",
    "print(func.registry.keys())\n",
    "func.registry[str](\"hello\")"
   ]
  },
  {
   "cell_type": "markdown",
   "id": "09189824",
   "metadata": {},
   "source": [
    "### Multiple Dispatch\n",
    "- Use 3rd party libraries like ```multipledispatch```"
   ]
  },
  {
   "cell_type": "code",
   "execution_count": 59,
   "id": "c5d09562",
   "metadata": {},
   "outputs": [
    {
     "name": "stdout",
     "output_type": "stream",
     "text": [
      "tie\n",
      "y win\n",
      "x win\n",
      "x win\n",
      "tie\n",
      "y win\n",
      "y win\n",
      "x win\n",
      "tie\n"
     ]
    }
   ],
   "source": [
    "from multipledispatch import dispatch\n",
    "\n",
    "class Rock:\n",
    "    pass\n",
    "class Scissors:\n",
    "    pass\n",
    "class Paper:\n",
    "    pass\n",
    "\n",
    "@dispatch(Rock, Rock)\n",
    "def beats3(x, y): print('tie')\n",
    "@dispatch(Rock, Paper)\n",
    "def beats3(x, y): print('y win')\n",
    "@dispatch(Rock, Scissors)\n",
    "def beats3(x, y): print('x win')\n",
    "@dispatch(Paper, Rock)\n",
    "def beats3(x, y): print('x win')\n",
    "@dispatch(Paper, Paper)\n",
    "def beats3(x, y): print('tie')\n",
    "@dispatch(Paper, Scissors)\n",
    "def beats3(x, y): print('y win')\n",
    "@dispatch(Scissors, Rock)\n",
    "def beats3(x, y): print('y win')\n",
    "@dispatch(Scissors, Paper)\n",
    "def beats3(x, y): print('x win')\n",
    "@dispatch(Scissors, Scissors)\n",
    "def beats3(x, y): print('tie')\n",
    "@dispatch(object, object)\n",
    "def beats3(x, y):\n",
    "    raise TypeError\n",
    "\n",
    "\n",
    "cmb = Rock(), Paper(), Scissors()\n",
    "for i in range(3):\n",
    "    for j in range(3):\n",
    "        beats3(cmb[i], cmb[j])"
   ]
  },
  {
   "cell_type": "markdown",
   "id": "51d56622",
   "metadata": {},
   "source": [
    "# Tensorflow\n",
    "- Base Classes\n",
    "```\n",
    "tf.keras.callbacks.Callback\n",
    "tf.keras.losses.Loss\n",
    "tf.keras.optimizers.Optimizer\n",
    "```\n",
    "- Above classes has no functions. Just used for abstraction"
   ]
  },
  {
   "cell_type": "code",
   "execution_count": 34,
   "id": "a0c0129d",
   "metadata": {},
   "outputs": [],
   "source": [
    "import tensorflow as tf\n",
    "\n",
    "assert issubclass(tf.keras.callbacks.EarlyStopping, tf.keras.callbacks.Callback)"
   ]
  }
 ],
 "metadata": {
  "kernelspec": {
   "display_name": "Python 3 (ipykernel)",
   "language": "python",
   "name": "python3"
  },
  "language_info": {
   "codemirror_mode": {
    "name": "ipython",
    "version": 3
   },
   "file_extension": ".py",
   "mimetype": "text/x-python",
   "name": "python",
   "nbconvert_exporter": "python",
   "pygments_lexer": "ipython3",
   "version": "3.10.5"
  }
 },
 "nbformat": 4,
 "nbformat_minor": 5
}

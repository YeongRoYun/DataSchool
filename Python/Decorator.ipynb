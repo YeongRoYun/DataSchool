{
 "cells": [
  {
   "cell_type": "markdown",
   "id": "a88ac4d7",
   "metadata": {},
   "source": [
    "# Decorator(Function Closure)\n",
    "\n",
    "## Decorators wrap existing callables\n",
    "- A decorator is callable that takes an callable as arguments and produces an enhanced callable as a result"
   ]
  },
  {
   "cell_type": "code",
   "execution_count": 3,
   "id": "2816876b",
   "metadata": {},
   "outputs": [
    {
     "name": "stdout",
     "output_type": "stream",
     "text": [
      "before executing bar\n",
      "executing bar\n",
      "after executing bar\n"
     ]
    }
   ],
   "source": [
    "def foo(bar: 'callable') -> 'callable':\n",
    "    def inner(*args, **kwargs):\n",
    "        print('before executing bar')\n",
    "        bar(*args, **kwargs)\n",
    "        print('after executing bar')\n",
    "    return inner\n",
    "\n",
    "@foo\n",
    "def bar():\n",
    "    print('executing bar')\n",
    "    \n",
    "bar()"
   ]
  },
  {
   "cell_type": "markdown",
   "id": "ba4be3e3",
   "metadata": {},
   "source": [
    "## @ syntax\n",
    "- @ indicates the callable is wrapped by decorator\n",
    "```\n",
    "@f\n",
    "@g\n",
    "def h():\n",
    "    pass\n",
    "```\n",
    "is equivalent to\n",
    "```\n",
    "k = f(g(h))\n",
    "```"
   ]
  },
  {
   "cell_type": "markdown",
   "id": "82f5429a",
   "metadata": {},
   "source": [
    "## Preserving function metadata\n",
    "- As ```k = f(g(h))```, the useful metadata of h can be lost, docstring or name or etc"
   ]
  },
  {
   "cell_type": "code",
   "execution_count": 8,
   "id": "1d700f3a",
   "metadata": {},
   "outputs": [
    {
     "name": "stdout",
     "output_type": "stream",
     "text": [
      "f.<locals>.inner\n",
      "{'args': \"f's inner args\", 'kwargs': \"f's inner kwargs\", 'return': \"f's inner output\"}\n",
      "f's inner's docstring\n"
     ]
    }
   ],
   "source": [
    "def f(g: \"f's input\") -> \"f's output\":\n",
    "    \"\"\"f's docstring\"\"\"\n",
    "    def inner(*args: \"f's inner args\", **kwargs: \"f's inner kwargs\") -> \"f's inner output\":\n",
    "        \"\"\"f's inner's docstring\"\"\"\n",
    "        return g(*args, **kwargs)\n",
    "    return inner\n",
    "\n",
    "@f\n",
    "def g(*args: \"g's args\", **kwargs: \"g's kwargs\") -> \"g's output\":\n",
    "    \"\"\"g's docstring\"\"\"\n",
    "    print(\"g's message\")\n",
    "\n",
    "print(g.__qualname__)\n",
    "print(g.__annotations__)\n",
    "print(g.__doc__)"
   ]
  },
  {
   "cell_type": "markdown",
   "id": "3814f59d",
   "metadata": {},
   "source": [
    "- To preserve metadata, use ```functools.wraps(callable)```"
   ]
  },
  {
   "cell_type": "code",
   "execution_count": 9,
   "id": "0caa2b07",
   "metadata": {},
   "outputs": [
    {
     "name": "stdout",
     "output_type": "stream",
     "text": [
      "g\n",
      "{'args': \"g's args\", 'kwargs': \"g's kwargs\", 'return': \"g's output\"}\n",
      "g's docstring\n"
     ]
    }
   ],
   "source": [
    "from functools import wraps\n",
    "\n",
    "def f(g: \"f's input\") -> \"f's output\":\n",
    "    \"\"\"f's docstring\"\"\"\n",
    "    @wraps(g) # Preserve g's metadata\n",
    "    def inner(*args: \"f's inner args\", **kwargs: \"f's inner kwargs\") -> \"f's inner output\":\n",
    "        \"\"\"f's inner's docstring\"\"\"\n",
    "        return g(*args, **kwargs)\n",
    "    return inner\n",
    "\n",
    "@f\n",
    "def g(*args: \"g's args\", **kwargs: \"g's kwargs\") -> \"g's output\":\n",
    "    \"\"\"g's docstring\"\"\"\n",
    "    print(\"g's message\")\n",
    "\n",
    "print(g.__qualname__)\n",
    "print(g.__annotations__)\n",
    "print(g.__doc__)"
   ]
  },
  {
   "cell_type": "markdown",
   "id": "628f285f",
   "metadata": {},
   "source": [
    "## Decorator with parameters\n",
    "- If a decorator needs arguments except for a callable, just passing parameters\n",
    "- If decorator is called, ```@deco(parameters)```, the produced callable by ```deco``` is used for decorator"
   ]
  },
  {
   "cell_type": "code",
   "execution_count": 12,
   "id": "7d5a6049",
   "metadata": {},
   "outputs": [
    {
     "name": "stdout",
     "output_type": "stream",
     "text": [
      "n is 5\n",
      "f's message\n",
      "enter\n",
      "Calling decorated function\n",
      "example1\n",
      "Calling decorated function\n",
      "example2\n"
     ]
    }
   ],
   "source": [
    "from functools import wraps\n",
    "def print_num(n):\n",
    "    def decorator(f):\n",
    "        @wraps(f)\n",
    "        def wrapper(*args, **kwargs):\n",
    "            print('n is', n)\n",
    "            return f(*args, **kwargs)\n",
    "        return wrapper\n",
    "    return decorator\n",
    "\n",
    "@print_num(5)\n",
    "def f():\n",
    "    print(\"f's message\")\n",
    "f()\n",
    "\n",
    "#Advanced\n",
    "\n",
    "from functools import partial, wraps\n",
    "# Decorator technique\n",
    "def deco(f=None, n=1):\n",
    "    if f == None:\n",
    "        print('enter')\n",
    "        return partial(deco, n=n)\n",
    "    @wraps(f)\n",
    "    def wrapper(*args, **kwargs):\n",
    "        print('Calling decorated function')\n",
    "        return f(*args, **kwargs)\n",
    "    return wrapper\n",
    "\n",
    "# deco(example1) executed\n",
    "@deco\n",
    "def example1():\n",
    "    print('example1')\n",
    "\n",
    "# deco(n=3) executed -> partial(deco, n=n)(example2) executed\n",
    "@deco(n=3)\n",
    "def example2():\n",
    "    print('example2')\n",
    "    \n",
    "example1()\n",
    "example2()"
   ]
  },
  {
   "cell_type": "markdown",
   "id": "4982507e",
   "metadata": {},
   "source": [
    "## Chaining decorators\n",
    "```\n",
    "def outer1(fn):\n",
    "    def inner1():\n",
    "        return fn()\n",
    "    return inner1\n",
    "   \n",
    "def outer2(fn):\n",
    "    def inner2():\n",
    "        return fn()\n",
    "    return inner2\n",
    "    \n",
    "@outer1\n",
    "@outer2\n",
    "def fn():\n",
    "    return\n",
    "```\n",
    "is queued by definition order in **definition step**\n",
    "```\n",
    "(front) - outer2 - outer1 - (end)\n",
    "```\n",
    "```\n",
    "(front) - outer1 - (end) #pop outer2\n",
    "```\n",
    "```\n",
    "(front) - (end) #pop outer1\n",
    "```\n",
    "is stacked by calling order in **calling step**\n",
    "```\n",
    " (top)                         (top)                         (top)                       (top)\n",
    " inner1                        inner2                          |                           |\n",
    "   |                             |                             fn        ==>(pop fn)    (bottom)\n",
    " inner2    ==>(pop inner1)       fn        ==>(pop inner2)     |\n",
    "   |                             |                          (bottom)\n",
    "   fn                         (bottom)\n",
    "(bottom)\n",
    "```\n",
    "\n",
    "- According to the python version, **decorator can be cached**, so its order maybe defferent"
   ]
  },
  {
   "cell_type": "code",
   "execution_count": 16,
   "id": "565a1d9d",
   "metadata": {},
   "outputs": [
    {
     "name": "stdout",
     "output_type": "stream",
     "text": [
      "deco2\n",
      "deco1\n",
      "===========\n",
      "inner1\n",
      "inner2\n",
      "fn\n"
     ]
    }
   ],
   "source": [
    "def deco1(fn):\n",
    "    print(\"deco1\")\n",
    "    def inner1():\n",
    "        print(\"inner1\")\n",
    "        return fn()\n",
    "    return inner1\n",
    "def deco2(fn):\n",
    "    print(\"deco2\")\n",
    "    def inner2():\n",
    "        print(\"inner2\")\n",
    "        return fn()\n",
    "    return inner2\n",
    "\n",
    "@deco1\n",
    "@deco2\n",
    "def fn():\n",
    "    print(\"fn\")\n",
    "    \n",
    "print(\"===========\")\n",
    "fn()"
   ]
  },
  {
   "cell_type": "markdown",
   "id": "c519811d",
   "metadata": {},
   "source": [
    "## Class Decorators\n",
    "- When needing to maintain some state about the different functions it is wrapping, it is good to maintain states in namespace, that is, **class**\n",
    "- Not mean decorating **class**\n",
    "- Class must be **Callable**. so implement ```__call__```\n",
    "- The decorated callable becomes the instance of decorator class"
   ]
  },
  {
   "cell_type": "code",
   "execution_count": 122,
   "id": "f3968656",
   "metadata": {},
   "outputs": [
    {
     "name": "stdout",
     "output_type": "stream",
     "text": [
      "init f\n",
      "init g\n",
      "call\n",
      "call\n",
      "call\n",
      "call\n",
      "2\n",
      "{'f': 2, 'g': 2}\n",
      "init A\n",
      "value is <function decorated_func at 0x107f15f30>\n",
      "---------------\n",
      "<__main__.A object at 0x108356bf0>\n",
      "---------------\n",
      "init A\n",
      "value is 1\n",
      "call A\n",
      "---------------\n",
      "Hello!\n"
     ]
    }
   ],
   "source": [
    "class countcalls(object):\n",
    "    __instances = {} # To save instances is a default pattern\n",
    "    \n",
    "    def __init__(self, f): #Decorated callable is passed at initializer\n",
    "        print('init', f.__name__)\n",
    "        self.__f = f\n",
    "        self.__numCalls = 0\n",
    "        countcalls.__instances[f] = self #key is raw callable. value is decorated callable\n",
    "    def __call__(self, *args, **kwargs): #Arguments of decorated callable is passed at call\n",
    "        print('call')\n",
    "        self.__numCalls += 1\n",
    "        return self.__f(*args, **kwargs)\n",
    "    def count(self):\n",
    "        return self.__numCalls\n",
    "    @staticmethod\n",
    "    def counts():\n",
    "        return dict([\n",
    "            (f.__name__, countcalls.__instances[f].__numCalls) for f in countcalls.__instances # loop is in keys\n",
    "        ])\n",
    "            \n",
    "@countcalls\n",
    "def f():\n",
    "    pass\n",
    "\n",
    "@countcalls\n",
    "def g():\n",
    "    pass\n",
    "\n",
    "assert isinstance(f, countcalls)\n",
    "assert isinstance(g, countcalls)\n",
    "\n",
    "for _ in range(2):\n",
    "    f()\n",
    "    g()\n",
    "print(f.count())\n",
    "print(countcalls.counts())\n",
    "\n",
    "#Decorator with arguments\n",
    "class A(object):\n",
    "    def __init__(self, value = 5): # Decorator's arguments is here\n",
    "        print(\"init A\")\n",
    "        print(\"value is\", value)\n",
    "    def __call__(self, fn): #Decorated function is here\n",
    "        print(\"call A\")\n",
    "\n",
    "        def decorator(n): # Decorated function's arguments is here\n",
    "            fn(n)\n",
    "        return decorator\n",
    "\n",
    "\n",
    "# Class decorator consumes the decorated callable as its arguments.\n",
    "# So, just writing A means to initialize object like A(decorated_func)\n",
    "# As the result, decorated_func is an object of A\n",
    "@A\n",
    "def decorated_func(n):\n",
    "    print(\"Hello!\")\n",
    "print(\"---------------\")\n",
    "print(decorated_func)\n",
    "\n",
    "print(\"---------------\")\n",
    "\n",
    "# Writing A with argument, A(1), means to initialize A with arguments and then execute object.__call__\n",
    "# The execution of class decorator ends when decorated_func is reached\n",
    "# Below executions is A(1) -> A(1).__call__(decorated_func) -> decorated_func = decorator(returned by __call__)\n",
    "@A(1)\n",
    "def decorated_func(n):\n",
    "    print(\"Hello!\")\n",
    "\n",
    "print(\"---------------\")\n",
    "decorated_func(5)"
   ]
  },
  {
   "cell_type": "markdown",
   "id": "a6713514",
   "metadata": {},
   "source": [
    "## Decorate Class\n",
    "- To decorate classes is similar to decorating functions\n",
    "- To decorate the initializer, use it same as fucntions"
   ]
  },
  {
   "cell_type": "code",
   "execution_count": 50,
   "id": "09c961d9",
   "metadata": {},
   "outputs": [
    {
     "name": "stdout",
     "output_type": "stream",
     "text": [
      "hello\n",
      "Init AddSay\n",
      "================\n",
      "call AddSay\n",
      "================\n",
      "hello\n"
     ]
    }
   ],
   "source": [
    "# function decorator\n",
    "def addSay(person:'Person') -> 'Person':\n",
    "    def say(self):\n",
    "        print(\"hello\")\n",
    "    if 'say' not in vars(person):\n",
    "        person.say = say\n",
    "    return person\n",
    "\n",
    "@addSay\n",
    "class Person:\n",
    "    def __init__(self, name):\n",
    "        self.name = name\n",
    "        \n",
    "assert 'say' in vars(Person)\n",
    "Person(\"yyr\").say()\n",
    "\n",
    "# class decorator\n",
    "class AddSay:\n",
    "    def __init__(self, person): #Decorated callable is passed at initializer\n",
    "        print(\"Init AddSay\")\n",
    "        self.__person = person\n",
    "    def __call__(self, name): #Arguments of the decorated callable's initializer is passed at call\n",
    "        print(\"call AddSay\")\n",
    "        def say(self):\n",
    "            print(\"hello\")\n",
    "        \n",
    "        self.__person.say = say\n",
    "        newPerson = self.__person(name)\n",
    "        return newPerson\n",
    "\n",
    "@AddSay\n",
    "class Person:\n",
    "    def __init__(self, name):\n",
    "        self.name = name\n",
    "print(\"================\")\n",
    "assert isinstance(Person, AddSay) #Person is instance of AddSay\n",
    "person = Person(\"yyr\")\n",
    "print(\"================\")\n",
    "person.say()"
   ]
  },
  {
   "cell_type": "code",
   "execution_count": 4,
   "id": "d97cf072",
   "metadata": {},
   "outputs": [
    {
     "name": "stdout",
     "output_type": "stream",
     "text": [
      "accept\n",
      "accept\n",
      "decorator\n",
      "decorator\n",
      "==============\n",
      "wrapper\n",
      "init\n",
      "================\n",
      "wrapper\n",
      "call\n",
      "================\n",
      "accept\n",
      "decorator\n",
      "================\n",
      "wrapper\n"
     ]
    }
   ],
   "source": [
    "from dataclasses import dataclass\n",
    "from functools import wraps\n",
    "from itertools import chain\n",
    "\n",
    "def accept(*types):\n",
    "    print('accept')\n",
    "    def decorator(fn):\n",
    "        print('decorator')\n",
    "        @wraps(fn)\n",
    "        def wrapper(*args, **kwargs):\n",
    "            print('wrapper')\n",
    "            for t, a in zip(iter(types), chain(iter(args), iter(kwargs.values()))):\n",
    "                if not isinstance(a, t):\n",
    "                    raise TypeError\n",
    "            return fn(*args, **kwargs)\n",
    "        return wrapper\n",
    "    return decorator\n",
    "\n",
    "\n",
    "@accept(float, float)\n",
    "class Obj:\n",
    "    def __init__(self, x, y):\n",
    "        print('init')\n",
    "    \n",
    "    @accept()\n",
    "    def __call__(self):\n",
    "        print('call')\n",
    "print(\"==============\")\n",
    "obj = Obj(3., 4.)\n",
    "print(\"================\")\n",
    "obj()\n",
    "\n",
    "print(\"================\")\n",
    "\n",
    "# So, in dataclass\n",
    "@accept(float, float)\n",
    "@dataclass\n",
    "class Point:\n",
    "    x:float\n",
    "    y:float\n",
    "\n",
    "print(\"================\")\n",
    "p = Point(3., 4.)"
   ]
  },
  {
   "cell_type": "markdown",
   "id": "1df3fed5",
   "metadata": {},
   "source": [
    "## Exercise\n",
    "\n",
    "### Timing\n",
    "- Decorator to time the execution of functions"
   ]
  },
  {
   "cell_type": "code",
   "execution_count": 61,
   "id": "e026b6e7",
   "metadata": {},
   "outputs": [
    {
     "name": "stdout",
     "output_type": "stream",
     "text": [
      "f : 1.00 sec\n",
      "g : 9.41 sec\n",
      "callable intervals\n",
      "f : 1.00 sec\n",
      "g : 9.41 sec\n"
     ]
    }
   ],
   "source": [
    "import time\n",
    "from functools import wraps\n",
    "def timeit(fn):\n",
    "    @wraps(fn)\n",
    "    def wrapper(*args, **kwargs):\n",
    "        start = time.time()\n",
    "        retVal = fn(*args, **kwargs)\n",
    "        end = time.time()\n",
    "        interval = end - start\n",
    "        print(\"%s : %2.2f sec\" % (fn.__name__, interval))\n",
    "        return retVal\n",
    "    return wrapper\n",
    "\n",
    "\n",
    "class TimeIt:\n",
    "    __instances = {}\n",
    "    \n",
    "    def __init__(self, fn):\n",
    "        self.__fn = fn\n",
    "        self.__interval = 0.0\n",
    "        TimeIt.__instances[fn] = self\n",
    "    \n",
    "    def __call__(self, *args, **kwargs):\n",
    "        start = time.time()\n",
    "        retVal = self.__fn(*args, **kwargs)\n",
    "        end = time.time()\n",
    "        self.__interval = end - start\n",
    "        print(\"%s : %2.2f sec\" %(self.__fn.__name__, self.__interval))\n",
    "        return retVal\n",
    "    \n",
    "    @classmethod\n",
    "    def get_intervals(cls):\n",
    "        print(\"callable intervals\")\n",
    "        for fn in cls.__instances:\n",
    "            print(\"%s : %2.2f sec\" %(fn.__name__, cls.__instances[fn].__interval))\n",
    "    \n",
    "@timeit\n",
    "def f():\n",
    "    for _ in range(10**8):\n",
    "        pass\n",
    "\n",
    "@TimeIt\n",
    "def f():\n",
    "    for _ in range(10**8):\n",
    "        pass\n",
    "\n",
    "@TimeIt\n",
    "def g():\n",
    "    for _ in range(10**9):\n",
    "        pass\n",
    "\n",
    "f()\n",
    "g()\n",
    "TimeIt.get_intervals()"
   ]
  },
  {
   "cell_type": "markdown",
   "id": "96a727da",
   "metadata": {},
   "source": [
    "### Type-Checking\n",
    "- Raise TypeError if arguments aren't matched"
   ]
  },
  {
   "cell_type": "code",
   "execution_count": 79,
   "id": "290c1e41",
   "metadata": {},
   "outputs": [
    {
     "ename": "TypeError",
     "evalue": "",
     "output_type": "error",
     "traceback": [
      "\u001b[0;31m---------------------------------------------------------------------------\u001b[0m",
      "\u001b[0;31mTypeError\u001b[0m                                 Traceback (most recent call last)",
      "Input \u001b[0;32mIn [79]\u001b[0m, in \u001b[0;36m<cell line: 20>\u001b[0;34m()\u001b[0m\n\u001b[1;32m     16\u001b[0m \u001b[38;5;129m@accept\u001b[39m(\u001b[38;5;28mint\u001b[39m, \u001b[38;5;28mfloat\u001b[39m)\n\u001b[1;32m     17\u001b[0m \u001b[38;5;28;01mdef\u001b[39;00m \u001b[38;5;21mf\u001b[39m(x:\u001b[38;5;28mint\u001b[39m, y:\u001b[38;5;28mfloat\u001b[39m):\n\u001b[1;32m     18\u001b[0m     \u001b[38;5;28;01mpass\u001b[39;00m\n\u001b[0;32m---> 20\u001b[0m \u001b[43mf\u001b[49m\u001b[43m(\u001b[49m\u001b[38;5;241;43m1\u001b[39;49m\u001b[43m,\u001b[49m\u001b[43m \u001b[49m\u001b[43my\u001b[49m\u001b[38;5;241;43m=\u001b[39;49m\u001b[38;5;241;43m3\u001b[39;49m\u001b[43m)\u001b[49m\n",
      "Input \u001b[0;32mIn [79]\u001b[0m, in \u001b[0;36maccept.<locals>.decorator.<locals>.wrapper\u001b[0;34m(*args, **kwargs)\u001b[0m\n\u001b[1;32m      9\u001b[0m \u001b[38;5;28;01mfor\u001b[39;00m t, a \u001b[38;5;129;01min\u001b[39;00m zip_longest(\u001b[38;5;28miter\u001b[39m(types), chain(\u001b[38;5;28miter\u001b[39m(args), \u001b[38;5;28miter\u001b[39m(kwargs\u001b[38;5;241m.\u001b[39mvalues()))):\n\u001b[1;32m     10\u001b[0m     \u001b[38;5;28;01mif\u001b[39;00m \u001b[38;5;129;01mnot\u001b[39;00m \u001b[38;5;28misinstance\u001b[39m(a, t):\n\u001b[0;32m---> 11\u001b[0m         \u001b[38;5;28;01mraise\u001b[39;00m \u001b[38;5;167;01mTypeError\u001b[39;00m\n\u001b[1;32m     12\u001b[0m \u001b[38;5;28;01mreturn\u001b[39;00m fn(\u001b[38;5;241m*\u001b[39margs, \u001b[38;5;241m*\u001b[39m\u001b[38;5;241m*\u001b[39mkwargs)\n",
      "\u001b[0;31mTypeError\u001b[0m: "
     ]
    }
   ],
   "source": [
    "from itertools import chain\n",
    "from functools import wraps\n",
    "from itertools import zip_longest\n",
    "\n",
    "def accept(*types):\n",
    "    def decorator(fn):\n",
    "        @wraps(fn)\n",
    "        def wrapper(*args, **kwargs):\n",
    "            for t, a in zip_longest(iter(types), chain(iter(args), iter(kwargs.values()))):\n",
    "                if not isinstance(a, t):\n",
    "                    raise TypeError\n",
    "            return fn(*args, **kwargs)\n",
    "        return wrapper\n",
    "    return decorator\n",
    "\n",
    "@accept(int, float)\n",
    "def f(x:int, y:float):\n",
    "    pass\n",
    "\n",
    "f(1, y=3) "
   ]
  },
  {
   "cell_type": "markdown",
   "id": "0a6a50bb",
   "metadata": {},
   "source": [
    "### Deprecation\n",
    "- With the **warning** module, deprecated warning can be made\n",
    "- To behave differently by version, use ```sys.version_info```"
   ]
  },
  {
   "cell_type": "code",
   "execution_count": 88,
   "id": "ca94e714",
   "metadata": {},
   "outputs": [
    {
     "name": "stderr",
     "output_type": "stream",
     "text": [
      "/var/folders/qn/1t13bg7n0h1c7sv6dh677kq00000gn/T/ipykernel_52540/2579985892.py:9: DeprecationWarning: Deprecated: f\n",
      "  warnings.warn(\"Deprecated: {}\".format(fn.__name__), category=DeprecationWarning)\n"
     ]
    }
   ],
   "source": [
    "from sys import version_info\n",
    "import warnings\n",
    "from functools import wraps\n",
    "\n",
    "def deprecated(fn):\n",
    "    @wraps(fn)\n",
    "    def wrapper(*args, **kwargs):\n",
    "        if version_info.major > 2:\n",
    "            warnings.warn(\"Deprecated: {}\".format(fn.__name__), category=DeprecationWarning)\n",
    "        return fn(*args, **kwargs)\n",
    "    return wrapper\n",
    "\n",
    "@deprecated\n",
    "def f():\n",
    "    pass\n",
    "f()"
   ]
  },
  {
   "cell_type": "markdown",
   "id": "f258fa15",
   "metadata": {},
   "source": [
    "### Memorization\n",
    "- Pure functions always returns the same results. So, the memorization is useful\n",
    "- ```functools.lru_cache(maximum)``` is used to memorize the latest **maximum** number of function calls"
   ]
  },
  {
   "cell_type": "code",
   "execution_count": 93,
   "id": "a698187d",
   "metadata": {},
   "outputs": [
    {
     "name": "stdout",
     "output_type": "stream",
     "text": [
      "factorial 5\n",
      "factorial 4\n",
      "factorial 3\n",
      "factorial 2\n",
      "factorial 1\n",
      "factorial 0\n",
      "======================\n",
      "factorial 5\n",
      "factorial 4\n",
      "factorial 3\n",
      "factorial 2\n",
      "factorial 1\n",
      "factorial 0\n"
     ]
    },
    {
     "data": {
      "text/plain": [
       "120"
      ]
     },
     "execution_count": 93,
     "metadata": {},
     "output_type": "execute_result"
    }
   ],
   "source": [
    "from functools import wraps\n",
    "# Memorize a factorial\n",
    "def memorize(fn):\n",
    "    cache = {}\n",
    "    @wraps(fn)\n",
    "    def wrapper(n):\n",
    "        if n not in cache:\n",
    "            cache[n] = fn(n)\n",
    "        return cache[n]\n",
    "    return wrapper\n",
    "\n",
    "@memorize\n",
    "def factorial(n):\n",
    "    print(\"factorial {}\".format(n))\n",
    "    if n == 0:\n",
    "        return 1\n",
    "    return n * factorial(n-1)\n",
    "\n",
    "factorial(5)\n",
    "print('======================')\n",
    "\n",
    "# General memorize(lru_cache)\n",
    "class Memorize:\n",
    "    __instances = {}\n",
    "    def __init__(self, fn):\n",
    "        self.__fn = fn\n",
    "        self.__args = []\n",
    "        self.__kwargs = {}\n",
    "        self.__retVal = None\n",
    "    \n",
    "    def __call__(self, *args, **kwargs):\n",
    "        if not self.__fn in Memorize.__instances:\n",
    "            Memorize.__instances[self.__fn] = self\n",
    "        if self.__args != args or self.__kwargs != kwargs:\n",
    "            self.__args = args\n",
    "            self.__kwargs = kwargs\n",
    "            self.__retVal = self.__fn(*args, **kwargs)\n",
    "        return self.__retVal\n",
    "    \n",
    "@Memorize\n",
    "def factorial(n):\n",
    "    print(\"factorial {}\".format(n))\n",
    "    if n == 0:\n",
    "        return 1\n",
    "    return n * factorial(n-1)\n",
    "\n",
    "factorial(5)"
   ]
  },
  {
   "cell_type": "markdown",
   "id": "17c17822",
   "metadata": {},
   "source": [
    "### Print arguments"
   ]
  },
  {
   "cell_type": "code",
   "execution_count": 96,
   "id": "9bfde0ea",
   "metadata": {},
   "outputs": [
    {
     "name": "stdout",
     "output_type": "stream",
     "text": [
      "args: (1, 2, 3)\n",
      "kwargs: {'x': 4, 'y': 5}\n"
     ]
    }
   ],
   "source": [
    "from functools import wraps\n",
    "def print_args(fn):\n",
    "    @wraps(fn)\n",
    "    def wrapper(*args, **kwargs):\n",
    "        print(\"args: {}\".format(args))\n",
    "        print(\"kwargs: {}\".format(kwargs))\n",
    "        return fn(*args, **kwargs)\n",
    "    return wrapper\n",
    "\n",
    "@print_args\n",
    "def f(*args, **kwargs):\n",
    "    pass\n",
    "f(1,2,3, x=4, y=5)"
   ]
  },
  {
   "cell_type": "markdown",
   "id": "3fa8c949",
   "metadata": {},
   "source": [
    "### Assert when return None"
   ]
  },
  {
   "cell_type": "code",
   "execution_count": 97,
   "id": "1cabe57f",
   "metadata": {},
   "outputs": [
    {
     "ename": "AssertionError",
     "evalue": "",
     "output_type": "error",
     "traceback": [
      "\u001b[0;31m---------------------------------------------------------------------------\u001b[0m",
      "\u001b[0;31mAssertionError\u001b[0m                            Traceback (most recent call last)",
      "Input \u001b[0;32mIn [97]\u001b[0m, in \u001b[0;36m<cell line: 13>\u001b[0;34m()\u001b[0m\n\u001b[1;32m     10\u001b[0m \u001b[38;5;129m@assert_None\u001b[39m\n\u001b[1;32m     11\u001b[0m \u001b[38;5;28;01mdef\u001b[39;00m \u001b[38;5;21mf\u001b[39m():\n\u001b[1;32m     12\u001b[0m     \u001b[38;5;28;01mreturn\u001b[39;00m \u001b[38;5;28;01mNone\u001b[39;00m\n\u001b[0;32m---> 13\u001b[0m \u001b[43mf\u001b[49m\u001b[43m(\u001b[49m\u001b[43m)\u001b[49m\n",
      "Input \u001b[0;32mIn [97]\u001b[0m, in \u001b[0;36massert_None.<locals>.wrapper\u001b[0;34m(*args, **kwargs)\u001b[0m\n\u001b[1;32m      3\u001b[0m \u001b[38;5;129m@wraps\u001b[39m(fn)\n\u001b[1;32m      4\u001b[0m \u001b[38;5;28;01mdef\u001b[39;00m \u001b[38;5;21mwrapper\u001b[39m(\u001b[38;5;241m*\u001b[39margs, \u001b[38;5;241m*\u001b[39m\u001b[38;5;241m*\u001b[39mkwargs):\n\u001b[1;32m      5\u001b[0m     retVal \u001b[38;5;241m=\u001b[39m fn(\u001b[38;5;241m*\u001b[39margs, \u001b[38;5;241m*\u001b[39m\u001b[38;5;241m*\u001b[39mkwargs)\n\u001b[0;32m----> 6\u001b[0m     \u001b[38;5;28;01massert\u001b[39;00m retVal \u001b[38;5;241m!=\u001b[39m \u001b[38;5;28;01mNone\u001b[39;00m\n\u001b[1;32m      7\u001b[0m     \u001b[38;5;28;01mreturn\u001b[39;00m retVal\n",
      "\u001b[0;31mAssertionError\u001b[0m: "
     ]
    }
   ],
   "source": [
    "from functools import wraps\n",
    "def assert_None(fn):\n",
    "    @wraps(fn)\n",
    "    def wrapper(*args, **kwargs):\n",
    "        retVal = fn(*args, **kwargs)\n",
    "        assert retVal != None\n",
    "        return retVal\n",
    "    return wrapper\n",
    "\n",
    "@assert_None\n",
    "def f():\n",
    "    return None\n",
    "f()"
   ]
  },
  {
   "cell_type": "markdown",
   "id": "27fd7f4c",
   "metadata": {},
   "source": [
    "### Restart functions"
   ]
  },
  {
   "cell_type": "code",
   "execution_count": 129,
   "id": "17ccd9eb",
   "metadata": {},
   "outputs": [
    {
     "name": "stdout",
     "output_type": "stream",
     "text": [
      "error count: 1\n",
      "error count: 2\n",
      "error count: 3\n",
      "error count: 4\n",
      "error count: 5\n",
      "error count: 6\n"
     ]
    },
    {
     "ename": "RuntimeError",
     "evalue": "",
     "output_type": "error",
     "traceback": [
      "\u001b[0;31m---------------------------------------------------------------------------\u001b[0m",
      "\u001b[0;31mRuntimeError\u001b[0m                              Traceback (most recent call last)",
      "Input \u001b[0;32mIn [129]\u001b[0m, in \u001b[0;36mRestart.__call__.<locals>.wrapper\u001b[0;34m(*args, **kwargs)\u001b[0m\n\u001b[1;32m     15\u001b[0m \u001b[38;5;28;01mtry\u001b[39;00m:\n\u001b[0;32m---> 16\u001b[0m     \u001b[38;5;28;01mreturn\u001b[39;00m \u001b[38;5;28;43mself\u001b[39;49m\u001b[38;5;241;43m.\u001b[39;49m\u001b[43m__fn\u001b[49m\u001b[43m(\u001b[49m\u001b[38;5;241;43m*\u001b[39;49m\u001b[43margs\u001b[49m\u001b[43m,\u001b[49m\u001b[43m \u001b[49m\u001b[38;5;241;43m*\u001b[39;49m\u001b[38;5;241;43m*\u001b[39;49m\u001b[43mkwargs\u001b[49m\u001b[43m)\u001b[49m\n\u001b[1;32m     17\u001b[0m \u001b[38;5;28;01mexcept\u001b[39;00m:\n",
      "Input \u001b[0;32mIn [129]\u001b[0m, in \u001b[0;36mf\u001b[0;34m()\u001b[0m\n\u001b[1;32m     26\u001b[0m \u001b[38;5;129m@Restart\u001b[39m(\u001b[38;5;241m5\u001b[39m, \u001b[38;5;241m1\u001b[39m)\n\u001b[1;32m     27\u001b[0m \u001b[38;5;28;01mdef\u001b[39;00m \u001b[38;5;21mf\u001b[39m():\n\u001b[0;32m---> 28\u001b[0m     \u001b[38;5;28;01mraise\u001b[39;00m \u001b[38;5;167;01mRuntimeError\u001b[39;00m\n",
      "\u001b[0;31mRuntimeError\u001b[0m: ",
      "\nDuring handling of the above exception, another exception occurred:\n",
      "\u001b[0;31mRuntimeError\u001b[0m                              Traceback (most recent call last)",
      "Input \u001b[0;32mIn [129]\u001b[0m, in \u001b[0;36mRestart.__call__.<locals>.wrapper\u001b[0;34m(*args, **kwargs)\u001b[0m\n\u001b[1;32m     15\u001b[0m \u001b[38;5;28;01mtry\u001b[39;00m:\n\u001b[0;32m---> 16\u001b[0m     \u001b[38;5;28;01mreturn\u001b[39;00m \u001b[38;5;28;43mself\u001b[39;49m\u001b[38;5;241;43m.\u001b[39;49m\u001b[43m__fn\u001b[49m\u001b[43m(\u001b[49m\u001b[38;5;241;43m*\u001b[39;49m\u001b[43margs\u001b[49m\u001b[43m,\u001b[49m\u001b[43m \u001b[49m\u001b[38;5;241;43m*\u001b[39;49m\u001b[38;5;241;43m*\u001b[39;49m\u001b[43mkwargs\u001b[49m\u001b[43m)\u001b[49m\n\u001b[1;32m     17\u001b[0m \u001b[38;5;28;01mexcept\u001b[39;00m:\n",
      "Input \u001b[0;32mIn [129]\u001b[0m, in \u001b[0;36mf\u001b[0;34m()\u001b[0m\n\u001b[1;32m     26\u001b[0m \u001b[38;5;129m@Restart\u001b[39m(\u001b[38;5;241m5\u001b[39m, \u001b[38;5;241m1\u001b[39m)\n\u001b[1;32m     27\u001b[0m \u001b[38;5;28;01mdef\u001b[39;00m \u001b[38;5;21mf\u001b[39m():\n\u001b[0;32m---> 28\u001b[0m     \u001b[38;5;28;01mraise\u001b[39;00m \u001b[38;5;167;01mRuntimeError\u001b[39;00m\n",
      "\u001b[0;31mRuntimeError\u001b[0m: ",
      "\nDuring handling of the above exception, another exception occurred:\n",
      "\u001b[0;31mRuntimeError\u001b[0m                              Traceback (most recent call last)",
      "Input \u001b[0;32mIn [129]\u001b[0m, in \u001b[0;36mRestart.__call__.<locals>.wrapper\u001b[0;34m(*args, **kwargs)\u001b[0m\n\u001b[1;32m     15\u001b[0m \u001b[38;5;28;01mtry\u001b[39;00m:\n\u001b[0;32m---> 16\u001b[0m     \u001b[38;5;28;01mreturn\u001b[39;00m \u001b[38;5;28;43mself\u001b[39;49m\u001b[38;5;241;43m.\u001b[39;49m\u001b[43m__fn\u001b[49m\u001b[43m(\u001b[49m\u001b[38;5;241;43m*\u001b[39;49m\u001b[43margs\u001b[49m\u001b[43m,\u001b[49m\u001b[43m \u001b[49m\u001b[38;5;241;43m*\u001b[39;49m\u001b[38;5;241;43m*\u001b[39;49m\u001b[43mkwargs\u001b[49m\u001b[43m)\u001b[49m\n\u001b[1;32m     17\u001b[0m \u001b[38;5;28;01mexcept\u001b[39;00m:\n",
      "Input \u001b[0;32mIn [129]\u001b[0m, in \u001b[0;36mf\u001b[0;34m()\u001b[0m\n\u001b[1;32m     26\u001b[0m \u001b[38;5;129m@Restart\u001b[39m(\u001b[38;5;241m5\u001b[39m, \u001b[38;5;241m1\u001b[39m)\n\u001b[1;32m     27\u001b[0m \u001b[38;5;28;01mdef\u001b[39;00m \u001b[38;5;21mf\u001b[39m():\n\u001b[0;32m---> 28\u001b[0m     \u001b[38;5;28;01mraise\u001b[39;00m \u001b[38;5;167;01mRuntimeError\u001b[39;00m\n",
      "\u001b[0;31mRuntimeError\u001b[0m: ",
      "\nDuring handling of the above exception, another exception occurred:\n",
      "\u001b[0;31mRuntimeError\u001b[0m                              Traceback (most recent call last)",
      "Input \u001b[0;32mIn [129]\u001b[0m, in \u001b[0;36mRestart.__call__.<locals>.wrapper\u001b[0;34m(*args, **kwargs)\u001b[0m\n\u001b[1;32m     15\u001b[0m \u001b[38;5;28;01mtry\u001b[39;00m:\n\u001b[0;32m---> 16\u001b[0m     \u001b[38;5;28;01mreturn\u001b[39;00m \u001b[38;5;28;43mself\u001b[39;49m\u001b[38;5;241;43m.\u001b[39;49m\u001b[43m__fn\u001b[49m\u001b[43m(\u001b[49m\u001b[38;5;241;43m*\u001b[39;49m\u001b[43margs\u001b[49m\u001b[43m,\u001b[49m\u001b[43m \u001b[49m\u001b[38;5;241;43m*\u001b[39;49m\u001b[38;5;241;43m*\u001b[39;49m\u001b[43mkwargs\u001b[49m\u001b[43m)\u001b[49m\n\u001b[1;32m     17\u001b[0m \u001b[38;5;28;01mexcept\u001b[39;00m:\n",
      "Input \u001b[0;32mIn [129]\u001b[0m, in \u001b[0;36mf\u001b[0;34m()\u001b[0m\n\u001b[1;32m     26\u001b[0m \u001b[38;5;129m@Restart\u001b[39m(\u001b[38;5;241m5\u001b[39m, \u001b[38;5;241m1\u001b[39m)\n\u001b[1;32m     27\u001b[0m \u001b[38;5;28;01mdef\u001b[39;00m \u001b[38;5;21mf\u001b[39m():\n\u001b[0;32m---> 28\u001b[0m     \u001b[38;5;28;01mraise\u001b[39;00m \u001b[38;5;167;01mRuntimeError\u001b[39;00m\n",
      "\u001b[0;31mRuntimeError\u001b[0m: ",
      "\nDuring handling of the above exception, another exception occurred:\n",
      "\u001b[0;31mRuntimeError\u001b[0m                              Traceback (most recent call last)",
      "Input \u001b[0;32mIn [129]\u001b[0m, in \u001b[0;36mRestart.__call__.<locals>.wrapper\u001b[0;34m(*args, **kwargs)\u001b[0m\n\u001b[1;32m     15\u001b[0m \u001b[38;5;28;01mtry\u001b[39;00m:\n\u001b[0;32m---> 16\u001b[0m     \u001b[38;5;28;01mreturn\u001b[39;00m \u001b[38;5;28;43mself\u001b[39;49m\u001b[38;5;241;43m.\u001b[39;49m\u001b[43m__fn\u001b[49m\u001b[43m(\u001b[49m\u001b[38;5;241;43m*\u001b[39;49m\u001b[43margs\u001b[49m\u001b[43m,\u001b[49m\u001b[43m \u001b[49m\u001b[38;5;241;43m*\u001b[39;49m\u001b[38;5;241;43m*\u001b[39;49m\u001b[43mkwargs\u001b[49m\u001b[43m)\u001b[49m\n\u001b[1;32m     17\u001b[0m \u001b[38;5;28;01mexcept\u001b[39;00m:\n",
      "Input \u001b[0;32mIn [129]\u001b[0m, in \u001b[0;36mf\u001b[0;34m()\u001b[0m\n\u001b[1;32m     26\u001b[0m \u001b[38;5;129m@Restart\u001b[39m(\u001b[38;5;241m5\u001b[39m, \u001b[38;5;241m1\u001b[39m)\n\u001b[1;32m     27\u001b[0m \u001b[38;5;28;01mdef\u001b[39;00m \u001b[38;5;21mf\u001b[39m():\n\u001b[0;32m---> 28\u001b[0m     \u001b[38;5;28;01mraise\u001b[39;00m \u001b[38;5;167;01mRuntimeError\u001b[39;00m\n",
      "\u001b[0;31mRuntimeError\u001b[0m: ",
      "\nDuring handling of the above exception, another exception occurred:\n",
      "\u001b[0;31mRuntimeError\u001b[0m                              Traceback (most recent call last)",
      "Input \u001b[0;32mIn [129]\u001b[0m, in \u001b[0;36m<cell line: 30>\u001b[0;34m()\u001b[0m\n\u001b[1;32m     26\u001b[0m \u001b[38;5;129m@Restart\u001b[39m(\u001b[38;5;241m5\u001b[39m, \u001b[38;5;241m1\u001b[39m)\n\u001b[1;32m     27\u001b[0m \u001b[38;5;28;01mdef\u001b[39;00m \u001b[38;5;21mf\u001b[39m():\n\u001b[1;32m     28\u001b[0m     \u001b[38;5;28;01mraise\u001b[39;00m \u001b[38;5;167;01mRuntimeError\u001b[39;00m\n\u001b[0;32m---> 30\u001b[0m \u001b[43mf\u001b[49m\u001b[43m(\u001b[49m\u001b[43m)\u001b[49m\n",
      "Input \u001b[0;32mIn [129]\u001b[0m, in \u001b[0;36mRestart.__call__.<locals>.wrapper\u001b[0;34m(*args, **kwargs)\u001b[0m\n\u001b[1;32m     20\u001b[0m \u001b[38;5;28;01mif\u001b[39;00m \u001b[38;5;28mself\u001b[39m\u001b[38;5;241m.\u001b[39m__count \u001b[38;5;241m<\u001b[39m\u001b[38;5;241m=\u001b[39m \u001b[38;5;28mself\u001b[39m\u001b[38;5;241m.\u001b[39m__maximum:\n\u001b[1;32m     21\u001b[0m     time\u001b[38;5;241m.\u001b[39msleep(\u001b[38;5;28mself\u001b[39m\u001b[38;5;241m.\u001b[39m__sleep)\n\u001b[0;32m---> 22\u001b[0m     \u001b[38;5;28;01mreturn\u001b[39;00m \u001b[43mwrapper\u001b[49m\u001b[43m(\u001b[49m\u001b[38;5;241;43m*\u001b[39;49m\u001b[43margs\u001b[49m\u001b[43m,\u001b[49m\u001b[43m \u001b[49m\u001b[38;5;241;43m*\u001b[39;49m\u001b[38;5;241;43m*\u001b[39;49m\u001b[43mkwargs\u001b[49m\u001b[43m)\u001b[49m\n\u001b[1;32m     23\u001b[0m \u001b[38;5;28;01mraise\u001b[39;00m\n",
      "Input \u001b[0;32mIn [129]\u001b[0m, in \u001b[0;36mRestart.__call__.<locals>.wrapper\u001b[0;34m(*args, **kwargs)\u001b[0m\n\u001b[1;32m     20\u001b[0m \u001b[38;5;28;01mif\u001b[39;00m \u001b[38;5;28mself\u001b[39m\u001b[38;5;241m.\u001b[39m__count \u001b[38;5;241m<\u001b[39m\u001b[38;5;241m=\u001b[39m \u001b[38;5;28mself\u001b[39m\u001b[38;5;241m.\u001b[39m__maximum:\n\u001b[1;32m     21\u001b[0m     time\u001b[38;5;241m.\u001b[39msleep(\u001b[38;5;28mself\u001b[39m\u001b[38;5;241m.\u001b[39m__sleep)\n\u001b[0;32m---> 22\u001b[0m     \u001b[38;5;28;01mreturn\u001b[39;00m \u001b[43mwrapper\u001b[49m\u001b[43m(\u001b[49m\u001b[38;5;241;43m*\u001b[39;49m\u001b[43margs\u001b[49m\u001b[43m,\u001b[49m\u001b[43m \u001b[49m\u001b[38;5;241;43m*\u001b[39;49m\u001b[38;5;241;43m*\u001b[39;49m\u001b[43mkwargs\u001b[49m\u001b[43m)\u001b[49m\n\u001b[1;32m     23\u001b[0m \u001b[38;5;28;01mraise\u001b[39;00m\n",
      "    \u001b[0;31m[... skipping similar frames: Restart.__call__.<locals>.wrapper at line 22 (2 times)]\u001b[0m\n",
      "Input \u001b[0;32mIn [129]\u001b[0m, in \u001b[0;36mRestart.__call__.<locals>.wrapper\u001b[0;34m(*args, **kwargs)\u001b[0m\n\u001b[1;32m     20\u001b[0m \u001b[38;5;28;01mif\u001b[39;00m \u001b[38;5;28mself\u001b[39m\u001b[38;5;241m.\u001b[39m__count \u001b[38;5;241m<\u001b[39m\u001b[38;5;241m=\u001b[39m \u001b[38;5;28mself\u001b[39m\u001b[38;5;241m.\u001b[39m__maximum:\n\u001b[1;32m     21\u001b[0m     time\u001b[38;5;241m.\u001b[39msleep(\u001b[38;5;28mself\u001b[39m\u001b[38;5;241m.\u001b[39m__sleep)\n\u001b[0;32m---> 22\u001b[0m     \u001b[38;5;28;01mreturn\u001b[39;00m \u001b[43mwrapper\u001b[49m\u001b[43m(\u001b[49m\u001b[38;5;241;43m*\u001b[39;49m\u001b[43margs\u001b[49m\u001b[43m,\u001b[49m\u001b[43m \u001b[49m\u001b[38;5;241;43m*\u001b[39;49m\u001b[38;5;241;43m*\u001b[39;49m\u001b[43mkwargs\u001b[49m\u001b[43m)\u001b[49m\n\u001b[1;32m     23\u001b[0m \u001b[38;5;28;01mraise\u001b[39;00m\n",
      "Input \u001b[0;32mIn [129]\u001b[0m, in \u001b[0;36mRestart.__call__.<locals>.wrapper\u001b[0;34m(*args, **kwargs)\u001b[0m\n\u001b[1;32m     13\u001b[0m \u001b[38;5;129m@wraps\u001b[39m(\u001b[38;5;28mself\u001b[39m\u001b[38;5;241m.\u001b[39m__fn)\n\u001b[1;32m     14\u001b[0m \u001b[38;5;28;01mdef\u001b[39;00m \u001b[38;5;21mwrapper\u001b[39m(\u001b[38;5;241m*\u001b[39margs, \u001b[38;5;241m*\u001b[39m\u001b[38;5;241m*\u001b[39mkwargs):\n\u001b[1;32m     15\u001b[0m     \u001b[38;5;28;01mtry\u001b[39;00m:\n\u001b[0;32m---> 16\u001b[0m         \u001b[38;5;28;01mreturn\u001b[39;00m \u001b[38;5;28;43mself\u001b[39;49m\u001b[38;5;241;43m.\u001b[39;49m\u001b[43m__fn\u001b[49m\u001b[43m(\u001b[49m\u001b[38;5;241;43m*\u001b[39;49m\u001b[43margs\u001b[49m\u001b[43m,\u001b[49m\u001b[43m \u001b[49m\u001b[38;5;241;43m*\u001b[39;49m\u001b[38;5;241;43m*\u001b[39;49m\u001b[43mkwargs\u001b[49m\u001b[43m)\u001b[49m\n\u001b[1;32m     17\u001b[0m     \u001b[38;5;28;01mexcept\u001b[39;00m:\n\u001b[1;32m     18\u001b[0m         \u001b[38;5;28mself\u001b[39m\u001b[38;5;241m.\u001b[39m__count \u001b[38;5;241m+\u001b[39m\u001b[38;5;241m=\u001b[39m \u001b[38;5;241m1\u001b[39m\n",
      "Input \u001b[0;32mIn [129]\u001b[0m, in \u001b[0;36mf\u001b[0;34m()\u001b[0m\n\u001b[1;32m     26\u001b[0m \u001b[38;5;129m@Restart\u001b[39m(\u001b[38;5;241m5\u001b[39m, \u001b[38;5;241m1\u001b[39m)\n\u001b[1;32m     27\u001b[0m \u001b[38;5;28;01mdef\u001b[39;00m \u001b[38;5;21mf\u001b[39m():\n\u001b[0;32m---> 28\u001b[0m     \u001b[38;5;28;01mraise\u001b[39;00m \u001b[38;5;167;01mRuntimeError\u001b[39;00m\n",
      "\u001b[0;31mRuntimeError\u001b[0m: "
     ]
    }
   ],
   "source": [
    "from functools import wraps\n",
    "import time\n",
    "\n",
    "\n",
    "class Restart:\n",
    "    def __init__(self, maximum=5, sleep=1):\n",
    "        self.__maximum = maximum\n",
    "        self.__sleep = sleep\n",
    "        self.__count = 0\n",
    "        self.__fn = None\n",
    "    def __call__(self, fn):\n",
    "        self.__fn = fn\n",
    "        @wraps(self.__fn)\n",
    "        def wrapper(*args, **kwargs):\n",
    "            try:\n",
    "                return self.__fn(*args, **kwargs)\n",
    "            except:\n",
    "                self.__count += 1\n",
    "                print(\"error count: {}\".format(self.__count))\n",
    "                if self.__count <= self.__maximum:\n",
    "                    time.sleep(self.__sleep)\n",
    "                    return wrapper(*args, **kwargs)\n",
    "                raise\n",
    "        return wrapper\n",
    "\n",
    "@Restart(5, 1)\n",
    "def f():\n",
    "    raise RuntimeError\n",
    "    \n",
    "f()"
   ]
  }
 ],
 "metadata": {
  "kernelspec": {
   "display_name": "Python 3 (ipykernel)",
   "language": "python",
   "name": "python3"
  },
  "language_info": {
   "codemirror_mode": {
    "name": "ipython",
    "version": 3
   },
   "file_extension": ".py",
   "mimetype": "text/x-python",
   "name": "python",
   "nbconvert_exporter": "python",
   "pygments_lexer": "ipython3",
   "version": "3.9.10"
  }
 },
 "nbformat": 4,
 "nbformat_minor": 5
}

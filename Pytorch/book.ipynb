{
 "cells": [
  {
   "cell_type": "markdown",
   "id": "b95882be",
   "metadata": {},
   "source": [
    "# Book\n",
    "https://wikidocs.net/book/2788"
   ]
  },
  {
   "cell_type": "markdown",
   "id": "08864686",
   "metadata": {},
   "source": [
    "```\n",
    "torch --- tensor, like numpy\n",
    "   |\n",
    "   | ---- torch.autograd : Function, enable_grad/no_grad\n",
    "   |\n",
    "   | ---- torch.nn : Module, Loss functions\n",
    "   |\n",
    "   | ---- torch.optim : Optimization alogs centered on SGD\n",
    "   |\n",
    "   | ---- torch.utils.data : DataLoader, Dataset, minibatch utils\n",
    "   |\n",
    "   | ---- torch.onnx : ONNX(Open Neural Network Exchange) format\n",
    "```"
   ]
  },
  {
   "cell_type": "markdown",
   "id": "b5b63d26",
   "metadata": {},
   "source": [
    "# Tensor\n",
    "```\n",
    "torch.tensor(arr, dtype)\n",
    "torch.from_numpy(ndarray)\n",
    "```\n",
    "- Similar to Ndarray\n",
    "- dType MUST be same"
   ]
  },
  {
   "cell_type": "code",
   "execution_count": 82,
   "id": "f62db9c7",
   "metadata": {},
   "outputs": [],
   "source": [
    "import torch\n",
    "import numpy\n",
    "\n",
    "x = torch.arange(10, dtype=torch.uint8).resize(2, 5) # shape [2, 5]\n",
    "y = torch.eye(5, dtype=torch.uint8) # shape [5, 5]\n",
    "z = torch.zeros(2, 5, dtype=torch.uint8) # shape\n",
    "\n",
    "x @ y # x.matmul(y)\n",
    "x * z # x.mul(y)\n",
    "\n",
    "x = x.to(torch.float16)\n",
    "x.mean(dim=-1)\n",
    "\n",
    "\n",
    "# tensor.view == ndarray.reshape\n",
    "x = x.view(5, 2)\n",
    "x = x.view(-1, 5) # -1 is determined automatically\n",
    "# tensor.shape == tensor.size()\n",
    "assert x.shape == x.size()\n",
    "assert x.shape[0] == x.size(0)\n",
    "\n",
    "# Squeeze & Unsqueeze\n",
    "t = torch.randn(1, 10, 1, 3, 1)\n",
    "assert t.squeeze().shape == torch.Size([10, 3]) # Remove 1-dim\n",
    "\n",
    "t = torch.randn(10)\n",
    "assert t.unsqueeze(1).shape == torch.Size([10, 1]) # Add 1-dim\n",
    "assert t.unsqueeze(0).shape == torch.Size([1, 10])\n",
    "\n",
    "# Concat & Stacking\n",
    "x = torch.ones(1, 2, 3)\n",
    "y = torch.ones(1, 2, 3)\n",
    "# Extend dim\n",
    "# Other dimensions MUST be same\n",
    "assert torch.cat([x,y]).shape == torch.Size([2, 2, 3]) \n",
    "assert torch.cat([x,y], dim=1).shape == torch.Size([1, 4, 3])\n",
    "\n",
    "# Stack at dim\n",
    "# All dim must be same\n",
    "assert torch.stack([x, y], dim = 0).shape == torch.Size([2, 1, 2, 3])\n",
    "assert torch.stack([x, y], dim = 1).shape == torch.Size([1, 2, 2, 3])\n",
    "assert torch.stack([x, y], dim = 2).shape == torch.Size([1, 2, 2, 3])\n",
    "assert torch.stack([x, y], dim = 3).shape == torch.Size([1, 2, 3, 2])\n",
    "\n",
    "# in-place operator has _ postfix\n",
    "x = torch.ones(1)\n",
    "x.mul_(2)\n",
    "assert x == torch.ones(1) * 2"
   ]
  },
  {
   "cell_type": "markdown",
   "id": "62c5f74e",
   "metadata": {},
   "source": [
    "## Linear Regression\n",
    "- To train & eval, dataset and model MUST be in same device\n",
    "- To pass data, data & parameters MUST be same dtype"
   ]
  },
  {
   "cell_type": "code",
   "execution_count": 107,
   "id": "12e37731",
   "metadata": {},
   "outputs": [
    {
     "data": {
      "text/plain": [
       "<matplotlib.collections.PathCollection at 0x13e21f460>"
      ]
     },
     "execution_count": 107,
     "metadata": {},
     "output_type": "execute_result"
    },
    {
     "data": {
      "image/png": "[encoded data removed]",
      "text/plain": [
       "<Figure size 288x288 with 1 Axes>"
      ]
     },
     "metadata": {
      "needs_background": "light"
     },
     "output_type": "display_data"
    }
   ],
   "source": [
    "import torch\n",
    "import matplotlib.pyplot as plt\n",
    "\n",
    "x_train = torch.FloatTensor([1,2,3]).unsqueeze(1) # batchsize, x\n",
    "y_train = torch.FloatTensor([2,4,6]).unsqueeze(1) # batchsize, y\n",
    "\n",
    "x_valid = torch.FloatTensor([7,8,9]).unsqueeze(1)\n",
    "y_valid = torch.FloatTensor([14,16,18]).unsqueeze(1)\n",
    "\n",
    "x_test = torch.FloatTensor([4,5,6]).unsqueeze(1)\n",
    "y_test = torch.FloatTensor([8,10,12]).unsqueeze(1)\n",
    "plt.figure(figsize=(4,4))\n",
    "plt.title(\"Sample\")\n",
    "plt.xlabel(\"x\")\n",
    "plt.ylabel(\"y\")\n",
    "plt.scatter(x_train, y_train)"
   ]
  },
  {
   "cell_type": "code",
   "execution_count": 106,
   "id": "84387cab",
   "metadata": {},
   "outputs": [
    {
     "data": {
      "text/plain": [
       "tensor([[0.7756]], requires_grad=True)"
      ]
     },
     "execution_count": 106,
     "metadata": {},
     "output_type": "execute_result"
    }
   ],
   "source": [
    "import torch\n",
    "from torch import nn\n",
    "import torch.nn.functional as F\n",
    "from torch import optim\n",
    "\n",
    "torch.manual_seed(1) # Fix seed\n",
    "\n",
    "plt.figure(figsize=(8.4))\n",
    "plt.subplot(211)\n",
    "plt.title(\"Hypothesis\")\n",
    "plt.subplot(212)\n",
    "plt.title(\"Cost\")\n",
    "\n",
    "def show_hypothesis_and_cost(H, cost):\n",
    "    plt.subplot(211)\n",
    "    \n",
    "# Initialize parameters\n",
    "W = torch.randn(1, 1, requires_grad=True) # Track gradients\n",
    "b = torch.randn(1, 1, requires_grad=True) # Track gradients\n",
    "\n",
    "\n",
    "\n",
    "# Hypothesis\n",
    "H = x_train @ W + b\n",
    "\n",
    "# Cost function\n",
    "cost = torch.mean((H - y_train) ** 2, dim = 0)\n",
    "\n",
    "for epoch, _ in enumerate(x_train):\n",
    "    \n",
    "    # Optimizer\n",
    "    optimizer = optim.SGD([W, b], lr=1e-2)\n",
    "\n",
    "    # Learning\n",
    "    ## Reset gradient\n",
    "    optimizer.zero_grad()\n",
    "    ## Calcuate gradient\n",
    "    cost.backward()\n",
    "    ## Update parameters\n",
    "    optimizer.step()\n"
   ]
  },
  {
   "cell_type": "code",
   "execution_count": 121,
   "id": "63224d2a",
   "metadata": {},
   "outputs": [
    {
     "data": {
      "text/plain": [
       "[<matplotlib.lines.Line2D at 0x15ce93cd0>]"
      ]
     },
     "execution_count": 121,
     "metadata": {},
     "output_type": "execute_result"
    },
    {
     "data": {
      "image/png": "[encoded data removed]",
      "text/plain": [
       "<Figure size 576x288 with 3 Axes>"
      ]
     },
     "metadata": {
      "needs_background": "light"
     },
     "output_type": "display_data"
    }
   ],
   "source": [
    "import matplotlib.pyplot as plt\n",
    "\n",
    "plt.figure(figsize=(8,4))\n",
    "plt.subplot(221)\n",
    "plt.title(\"hello\")\n",
    "plt.plot([1,2,3])\n",
    "plt.subplot(212)\n",
    "plt.plot([3,2,1])\n",
    "plt.subplot(223)\n",
    "plt.plot([3,2,1])\n",
    "plt.subplot(224)\n",
    "plt.plot([1,2,3])"
   ]
  }
 ],
 "metadata": {
  "kernelspec": {
   "display_name": "Python 3 (ipykernel)",
   "language": "python",
   "name": "python3"
  },
  "language_info": {
   "codemirror_mode": {
    "name": "ipython",
    "version": 3
   },
   "file_extension": ".py",
   "mimetype": "text/x-python",
   "name": "python",
   "nbconvert_exporter": "python",
   "pygments_lexer": "ipython3",
   "version": "3.10.5"
  }
 },
 "nbformat": 4,
 "nbformat_minor": 5
}

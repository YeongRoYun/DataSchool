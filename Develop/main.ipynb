{
 "cells": [
  {
   "cell_type": "markdown",
   "id": "38099fe7",
   "metadata": {},
   "source": [
    "# Archtecture\n",
    "```\n",
    "Front-end                   Back-end                                         DB\n",
    "  Vue.js                   Apach Tomcat   CGI   PL(C, Python)\n",
    "                           Nginx          JSP   JAVA\n",
    "                           IIS            ASP   C#\n",
    "                           Nodejs         JS\n",
    "                                      \n",
    "                                          WSGI  Python <- Flask, Django\n",
    "                                          \n",
    "```"
   ]
  }
 ],
 "metadata": {
  "kernelspec": {
   "display_name": "Python 3 (ipykernel)",
   "language": "python",
   "name": "python3"
  },
  "language_info": {
   "codemirror_mode": {
    "name": "ipython",
    "version": 3
   },
   "file_extension": ".py",
   "mimetype": "text/x-python",
   "name": "python",
   "nbconvert_exporter": "python",
   "pygments_lexer": "ipython3",
   "version": "3.10.5"
  }
 },
 "nbformat": 4,
 "nbformat_minor": 5
}

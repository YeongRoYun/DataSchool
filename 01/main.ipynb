{
 "cells": [
  {
   "cell_type": "markdown",
   "id": "0125eee6",
   "metadata": {},
   "source": [
    "https://docs.python.org/3/reference/index.html"
   ]
  },
  {
   "cell_type": "markdown",
   "id": "a4640f03",
   "metadata": {},
   "source": [
    "# Numeric Type\n",
    "## Integer Type\n",
    "- Arbitary Precition(based by String)\n",
    "- Interning(== compares values and is compares references)\n",
    "  - -5 ~ 256 is cached, so reference is same\n",
    "- 4 type: bin, oct, hex, dec\n",
    "\n",
    "## Float Type\n",
    "- sys.float_info\n",
    "- inf + x = inf\n",
    "- Coercion(Implicit Type Conversion): Integer + Float = Float\n",
    "\n",
    "## Bool Type\n",
    "- True / False\n",
    "- Subclass of Integer\n",
    "\n",
    "## Imaginary Type\n",
    "- Real Part: just Integer\n",
    "- Imaginary Part: Literal 'J|j'\n",
    "- 3 + 4j"
   ]
  },
  {
   "cell_type": "markdown",
   "id": "331abf61",
   "metadata": {},
   "source": [
    "# String Type\n",
    "\n",
    "## Byte String\n",
    "- Use Ascii Code\n",
    "- Literal b\n",
    "- b'data analysis'\n",
    "- Immutable bytestream\n",
    "\n",
    "## ByteArray\n",
    "- Mutable bytestream\n",
    "- Not exist Literal\n",
    "- bytearray(b'data analysis')\n",
    "\n",
    "## String\n",
    "- General String"
   ]
  },
  {
   "cell_type": "markdown",
   "id": "01957b2d",
   "metadata": {},
   "source": [
    "# Tuple\n",
    "- Literal: \",\" like x = 1,2 === (1,2)\n",
    "- Tuple is Record so, Heterogenious Type\n",
    "- Immutable Type"
   ]
  },
  {
   "cell_type": "markdown",
   "id": "0ac88eaa",
   "metadata": {},
   "source": [
    "# List\n",
    "- Mutable Object"
   ]
  },
  {
   "cell_type": "markdown",
   "id": "9a587ed6",
   "metadata": {},
   "source": [
    "# Ellipsis\n",
    "- Used to ellipse indexing\n",
    "- Used to delay implemantations\n",
    "- Literal: ..."
   ]
  },
  {
   "cell_type": "code",
   "execution_count": 104,
   "id": "496205d3",
   "metadata": {},
   "outputs": [
    {
     "name": "stdout",
     "output_type": "stream",
     "text": [
      "(1, 2, 3)\n",
      "[[[1 2 3]\n",
      "  [4 5 6]]]\n",
      "[[1 2 3]\n",
      " [4 5 6]]\n",
      "[[1 4]]\n",
      "[[1 2 3]]\n"
     ]
    }
   ],
   "source": [
    "# Ellipsis Examples\n",
    "def x():\n",
    "    ...\n",
    "import numpy as np\n",
    "x = np.array([\n",
    "    [\n",
    "        [1,2,3],\n",
    "        [4,5,6]\n",
    "    ]\n",
    "])\n",
    "print(x.shape)\n",
    "print(x[...])\n",
    "print(x[0,...])\n",
    "print(x[...,0])\n",
    "print(x[...,0,:])"
   ]
  },
  {
   "cell_type": "markdown",
   "id": "23c4295e",
   "metadata": {},
   "source": [
    "# Object\n",
    "- Object id is never changed\n",
    "- \"is\" compares ids\n",
    "- Object id is shown by \"id(identifier)\"\n",
    "- Python doesn't have const variable\n",
    "  - All object can be reassigned\n",
    "  - Except keywords, All can be reassigned(import keyword -> keyword.kwlist)"
   ]
  },
  {
   "cell_type": "markdown",
   "id": "643e9423",
   "metadata": {},
   "source": [
    "- To show methods, dir(variable)\n",
    "\n",
    "# Homogenious Type\n",
    "\n",
    "- Using Coercion\n",
    "- Numpy, Pandas\n",
    "- Faster\n",
    "\n",
    "# Heterogenious Type\n",
    "\n",
    "- Not Using Coerction\n",
    "- List, Array\n",
    "- Slower\n",
    "\n",
    "# Sequential Type\n",
    "- List, Array\n",
    "- Good to accessing\n",
    "\n",
    "# NonSequeytial Type\n",
    "- Dictionary, Set\n",
    "- Use hash to be accessed\n",
    "- Good to searching\n",
    "\n",
    "# Duck-typing\n",
    "- For polymorphism, Just check the interfaces, not type\n",
    "- \\_\\_len\\_\\_, \\_\\_getitem\\_\\_ to be used to make an object sequential\n",
    "\n",
    "# Mutable Type\n",
    "- \\_\\_setitem\\_\\_ to be used to make an object mutable\n",
    "- Without Reassigning object id, can change it's value\n",
    "- Set, List, Dictionary, Kernel in tensorflow\n",
    "\n",
    "## Operation\n",
    "\n",
    "### Change itself and Return None\n",
    "- pandas's inplace option\n",
    "\n",
    "### Change itself and Return Value\n",
    "- List's pop method\n",
    "\n",
    "### Don't change itself and Return Value\n",
    "- List's count method\n",
    "\n",
    "# Immutable Type\n",
    "- Frozenset, Tuple ..\n",
    "- Mutable and Immutable types can be usually interchanged\n",
    "  - Since Duck typing, nessasary interface is implementated\n",
    "  - List <-> Tuple, Set <-> Frozenset\n",
    " \n",
    "### dis module can be used to check register load/store"
   ]
  },
  {
   "cell_type": "markdown",
   "id": "4729cc67",
   "metadata": {},
   "source": [
    "# Call Funcion\n",
    "- Call by reference(Default)\n",
    "- Object is passed with same object id"
   ]
  },
  {
   "cell_type": "markdown",
   "id": "bd3ce48b",
   "metadata": {},
   "source": [
    "# Overloading\n",
    "\n",
    "## Arithmetic Operator\n",
    "- \\_\\_add\\_\\_\n",
    "\n",
    "## Bitwise Opeartor"
   ]
  },
  {
   "cell_type": "code",
   "execution_count": 120,
   "id": "80d50136",
   "metadata": {},
   "outputs": [],
   "source": [
    "import dis"
   ]
  },
  {
   "cell_type": "code",
   "execution_count": 130,
   "id": "3be4e498",
   "metadata": {},
   "outputs": [
    {
     "data": {
      "text/plain": [
       "3"
      ]
     },
     "execution_count": 130,
     "metadata": {},
     "output_type": "execute_result"
    }
   ],
   "source": [
    "class A:\n",
    "    def __init__(self, x):\n",
    "        self.x = x\n",
    "    def __add__(self, b):\n",
    "        self.x = self.x + b.x\n",
    "a = A(1)\n",
    "b = A(2)\n",
    "a + b\n",
    "a.x"
   ]
  }
 ],
 "metadata": {
  "kernelspec": {
   "display_name": "Python 3 (ipykernel)",
   "language": "python",
   "name": "python3"
  },
  "language_info": {
   "codemirror_mode": {
    "name": "ipython",
    "version": 3
   },
   "file_extension": ".py",
   "mimetype": "text/x-python",
   "name": "python",
   "nbconvert_exporter": "python",
   "pygments_lexer": "ipython3",
   "version": "3.10.4"
  }
 },
 "nbformat": 4,
 "nbformat_minor": 5
}

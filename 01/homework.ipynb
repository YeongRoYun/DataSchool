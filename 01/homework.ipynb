{
 "cells": [
  {
   "cell_type": "markdown",
   "id": "f315b79b",
   "metadata": {},
   "source": [
    "# Implement fibonacci\n",
    "index : 0 1 2 3 4 5  \n",
    "value : 1 1 2 3 5 8"
   ]
  },
  {
   "cell_type": "markdown",
   "id": "f1afb02c",
   "metadata": {},
   "source": [
    "## 01. basic fibonacci\n",
    "- O(2^n)"
   ]
  },
  {
   "cell_type": "code",
   "execution_count": 5,
   "id": "60855996",
   "metadata": {},
   "outputs": [],
   "source": [
    "def fibo(n):\n",
    "    def __fibo(c, n):\n",
    "        if c in (0,1):\n",
    "            return 1\n",
    "        else:\n",
    "            return __fibo(c-1, n) + __fibo(c-2, n)\n",
    "    return __fibo(n, n)"
   ]
  },
  {
   "cell_type": "markdown",
   "id": "1b297b6b",
   "metadata": {},
   "source": [
    "## 02. reduce memory\n",
    "- O(2^n)"
   ]
  },
  {
   "cell_type": "code",
   "execution_count": null,
   "id": "8d4e211b",
   "metadata": {},
   "outputs": [],
   "source": []
  }
 ],
 "metadata": {
  "kernelspec": {
   "display_name": "Python 3 (ipykernel)",
   "language": "python",
   "name": "python3"
  },
  "language_info": {
   "codemirror_mode": {
    "name": "ipython",
    "version": 3
   },
   "file_extension": ".py",
   "mimetype": "text/x-python",
   "name": "python",
   "nbconvert_exporter": "python",
   "pygments_lexer": "ipython3",
   "version": "3.10.4"
  }
 },
 "nbformat": 4,
 "nbformat_minor": 5
}

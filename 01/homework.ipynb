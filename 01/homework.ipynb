{
 "cells": [
  {
   "cell_type": "markdown",
   "id": "bfdf9c19",
   "metadata": {},
   "source": [
    "# Implement fibonacci\n",
    "index : 0 1 2 3 4 5  \n",
    "value : 1 1 2 3 5 8"
   ]
  },
  {
   "cell_type": "markdown",
   "id": "0e779afb",
   "metadata": {},
   "source": [
    "## 01. basic fibonacci\n",
    "- O(2^n)"
   ]
  },
  {
   "cell_type": "code",
   "execution_count": 5,
   "id": "0d10ae59",
   "metadata": {},
   "outputs": [],
   "source": [
    "def fibo(n):\n",
    "    def __fibo(c, n):\n",
    "        if c in (0,1):\n",
    "            return 1\n",
    "        else:\n",
    "            return __fibo(c-1, n) + __fibo(c-2, n)\n",
    "    return __fibo(n, n)"
   ]
  },
  {
   "cell_type": "markdown",
   "id": "e187e159",
   "metadata": {},
   "source": [
    "## 02. reduce memory & time\n",
    "- O(n)"
   ]
  },
  {
   "cell_type": "code",
   "execution_count": 10,
   "id": "1b840e36",
   "metadata": {},
   "outputs": [],
   "source": [
    "def fibo(n):\n",
    "    prv, cur, = 1, 1,\n",
    "    for _ in range(2, n+1):\n",
    "        prv, cur = cur, prv + cur\n",
    "    return cur"
   ]
  },
  {
   "cell_type": "markdown",
   "id": "0479b6b7",
   "metadata": {},
   "source": [
    "# 03. Use backward passing"
   ]
  },
  {
   "cell_type": "code",
   "execution_count": 22,
   "id": "ce6e31b3",
   "metadata": {},
   "outputs": [
    {
     "name": "stdout",
     "output_type": "stream",
     "text": [
      "89\n"
     ]
    }
   ],
   "source": [
    "def fibo(n):\n",
    "    cache = {0:1, 1:1}\n",
    "    def __fibo(c, n):\n",
    "        nonlocal cache\n",
    "        try:\n",
    "            return cache[c]\n",
    "        except KeyError:\n",
    "            cache[c] = __fibo(c-1, n) + __fibo(c-2, n)\n",
    "            return cache[c]\n",
    "    return __fibo(n, n)"
   ]
  }
 ],
 "metadata": {
  "kernelspec": {
   "display_name": "Python 3 (ipykernel)",
   "language": "python",
   "name": "python3"
  },
  "language_info": {
   "codemirror_mode": {
    "name": "ipython",
    "version": 3
   },
   "file_extension": ".py",
   "mimetype": "text/x-python",
   "name": "python",
   "nbconvert_exporter": "python",
   "pygments_lexer": "ipython3",
   "version": "3.10.4"
  }
 },
 "nbformat": 4,
 "nbformat_minor": 5
}

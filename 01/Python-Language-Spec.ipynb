{
 "cells": [
  {
   "cell_type": "markdown",
   "id": "efd7fed8",
   "metadata": {},
   "source": [
    "https://docs.python.org/3/reference/index.html"
   ]
  },
  {
   "cell_type": "markdown",
   "id": "2451f814",
   "metadata": {},
   "source": [
    "# Numeric Type\n",
    "## Integer Type\n",
    "- Arbitary Precition(based by String)\n",
    "- Interning(== compares values and is compares references)\n",
    "  - -5 ~ 256 is cached, so reference is same\n",
    "- 4 type: bin, oct, hex, dec\n",
    "\n",
    "## Float Type\n",
    "- sys.float_info\n",
    "- inf + x = inf\n",
    "- Coercion(Implicit Type Conversion): Integer + Float = Float\n",
    "\n",
    "## Bool Type\n",
    "- True / False\n",
    "- Subclass of Integer\n",
    "\n",
    "## Imaginary Type\n",
    "- Real Part: just Integer\n",
    "- Imaginary Part: Literal 'J|j'\n",
    "- 3 + 4j"
   ]
  },
  {
   "cell_type": "markdown",
   "id": "99bac2f0",
   "metadata": {},
   "source": [
    "# String Type\n",
    "\n",
    "## Byte String\n",
    "- Use Ascii Code\n",
    "- Literal b\n",
    "- b'data analysis'\n",
    "- Immutable bytestream\n",
    "\n",
    "## ByteArray\n",
    "- Mutable bytestream\n",
    "- Not exist Literal\n",
    "- bytearray(b'data analysis')\n",
    "\n",
    "## String\n",
    "- General String"
   ]
  },
  {
   "cell_type": "markdown",
   "id": "3b05e98b",
   "metadata": {},
   "source": [
    "# Tuple\n",
    "- Literal: \",\" like x = 1,2 === (1,2)\n",
    "- Tuple is Record so, Heterogenious Type\n",
    "- Immutable Type"
   ]
  },
  {
   "cell_type": "markdown",
   "id": "a1b9fc74",
   "metadata": {},
   "source": [
    "# List\n",
    "- Mutable Object\n",
    "- \\_\\_\\[get|set|del\\]item\\_\\_\n",
    "- Access Error: IndexError\n",
    "- Error Timing\n",
    "  - If OOR, immediately occurs"
   ]
  },
  {
   "cell_type": "markdown",
   "id": "c100a09b",
   "metadata": {},
   "source": [
    "# Dictionary\n",
    "- Literal: {}, {\"a\": 1}\n",
    "- \\_\\_\\[get|set|del\\]item\\_\\_\n",
    "- Access Error: KeyError\n",
    "- Error Timing\n",
    "  - After assigning key, error occurs\n",
    "- Key type is hashable Type\n"
   ]
  },
  {
   "cell_type": "markdown",
   "id": "cee492a1",
   "metadata": {},
   "source": [
    "# Assignment Expression\n",
    "## identifier = value\n",
    "- The identifier's style follows Poscal Style\n",
    "- a = b = **mutable object**\n",
    "  - Object id is shared\n",
    "  - To assign different objects, use **copy** method\n",
    "\n",
    "## Shallow vs Deep Copy\n",
    "\n",
    "- import copy -> copy.deepcopy(object)\n",
    "\n",
    "### Numpy\n",
    "- The index slicing is shallow copy\n",
    "- default copy method is deep copy\n",
    "\n",
    "### Pandas\n",
    "- default copy method is deep copy\n",
    "\n",
    "## Data Analysis Basic\n",
    "- Before preprocessing dataset, Must copy it\n",
    "\n",
    "## Len technique\n",
    "- To check dataset size, Use len() function\n",
    "\n",
    "## Assignment vs Declaration vs Definition\n",
    "\n",
    "### Assignment\n",
    "- Not allocate memory\n",
    "- Indicate location or signiture\n",
    "\n",
    "### Declaration\n",
    "- Allocate memory\n",
    "- Declaration and Assignment are usually used together\n",
    "\n",
    "### Definition\n",
    "- Complete signiture\n",
    "- In C, to complete function or structure body is the definition\n",
    "\n",
    "### Python\n",
    "- Python allocate object in memory before an identifier indicates it\n",
    "- So, if an identifier indicate cached memory, then usually assignment is approprate\n",
    "- In the case of general objects, not integer, ..., usually declaration is approprate\n",
    "\n"
   ]
  },
  {
   "cell_type": "code",
   "execution_count": 6,
   "id": "92dda5b1",
   "metadata": {},
   "outputs": [
    {
     "name": "stdout",
     "output_type": "stream",
     "text": [
      "2\n",
      "2 2\n",
      "60000 60000 10000 10000\n"
     ]
    }
   ],
   "source": [
    "import tensorflow as tf\n",
    "print(len(tf.keras.datasets.mnist.load_data()))\n",
    "x, y = tf.keras.datasets.mnist.load_data()\n",
    "print(len(x), len(y))\n",
    "xx, xy = x\n",
    "yx, yy = y\n",
    "print(len(xx), len(xy), len(yx), len(yy))"
   ]
  },
  {
   "cell_type": "code",
   "execution_count": 7,
   "id": "c0274ff8",
   "metadata": {},
   "outputs": [
    {
     "name": "stdout",
     "output_type": "stream",
     "text": [
      "False\n",
      "[ True  True  True]\n",
      "[ True False  True]\n",
      "False\n",
      "   a\n",
      "0  1\n",
      "1  2\n",
      "2  3\n"
     ]
    }
   ],
   "source": [
    "import pandas as pd\n",
    "import numpy as np\n",
    "\n",
    "a = np.array([1,2,3])\n",
    "b = a[...]\n",
    "c = a.copy()\n",
    "print(a is b)\n",
    "b[1] = 10\n",
    "c[1] = 20\n",
    "print(a == b)\n",
    "print(a == c)\n",
    "\n",
    "df1 = pd.DataFrame([1,2,3], columns=[\"a\"])\n",
    "df2 = df1.copy()\n",
    "print(df1 is df2)\n",
    "df2[\"a\"][0] = 5\n",
    "print(df1)"
   ]
  },
  {
   "cell_type": "markdown",
   "id": "6935fa6a",
   "metadata": {},
   "source": [
    "# Unpacking\n",
    "- a, \\*b = 1,2,3 # a = 1; b = \\[2,3\\];\n",
    "- \\*a, b = 1,2,3 # a = \\[1,2\\]; b = 3;\n",
    "- a, \\*b, c = 1,2,3,4,5 # a = 1; b = \\[2,3,4\\]; c = 5;\n",
    "- \\*a, = 1,2,3,4,5 # a = \\[1,2,3,4,5\\]\n",
    "  - trailling comma must be required\n",
    "  - convert tuple to list"
   ]
  },
  {
   "cell_type": "markdown",
   "id": "37afcf4a",
   "metadata": {},
   "source": [
    "# Ellipsis\n",
    "- Used to ellipse indexing\n",
    "- Used to delay implemantations\n",
    "- Literal: ..."
   ]
  },
  {
   "cell_type": "code",
   "execution_count": 104,
   "id": "9a04ca22",
   "metadata": {},
   "outputs": [
    {
     "name": "stdout",
     "output_type": "stream",
     "text": [
      "(1, 2, 3)\n",
      "[[[1 2 3]\n",
      "  [4 5 6]]]\n",
      "[[1 2 3]\n",
      " [4 5 6]]\n",
      "[[1 4]]\n",
      "[[1 2 3]]\n"
     ]
    }
   ],
   "source": [
    "# Ellipsis Examples\n",
    "def x():\n",
    "    ...\n",
    "import numpy as np\n",
    "x = np.array([\n",
    "    [\n",
    "        [1,2,3],\n",
    "        [4,5,6]\n",
    "    ]\n",
    "])\n",
    "print(x.shape)\n",
    "print(x[...])\n",
    "print(x[0,...])\n",
    "print(x[...,0])\n",
    "print(x[...,0,:])"
   ]
  },
  {
   "cell_type": "markdown",
   "id": "9af33e07",
   "metadata": {},
   "source": [
    "# Object\n",
    "- Object id is never changed\n",
    "- \"is\" compares ids\n",
    "- Object id is shown by \"id(identifier)\"\n",
    "- Python doesn't have const variable\n",
    "  - All object can be reassigned\n",
    "  - Except keywords, All can be reassigned(import keyword -> keyword.kwlist)"
   ]
  },
  {
   "cell_type": "markdown",
   "id": "20b0f9d4",
   "metadata": {},
   "source": [
    "- To show methods, dir(variable)\n",
    "\n",
    "# Homogenious Type\n",
    "\n",
    "- Using Coercion\n",
    "- Numpy, Pandas\n",
    "- Faster\n",
    "\n",
    "# Heterogenious Type\n",
    "\n",
    "- Not Using Coerction\n",
    "- List, Array\n",
    "- Slower\n",
    "- Preserve member types\n",
    "\n",
    "# Sequential Type\n",
    "- \\_\\_len\\_\\_, \\_\\_getitem\\_\\_ to be used to make an object sequential\n",
    "- List, Array\n",
    "- Good to accessing\n",
    "\n",
    "# NonSequeytial Type\n",
    "- Dictionary, Set\n",
    "- Use hash to be accessed\n",
    "- Good to searching\n",
    "\n",
    "# Duck-typing\n",
    "- For polymorphism, Just check the interfaces, not type\n",
    "\n",
    "# Inheritance-typing\n",
    "- For polymorphism, inherit super class, so issubclass(me, super) is True\n",
    "\n",
    "# Mutable Type\n",
    "- \\_\\_setitem\\_\\_ to be used to make an object mutable\n",
    "- Without Reassigning object id, can change it's value\n",
    "- Set, List, Dictionary, Kernel in tensorflow\n",
    "\n",
    "## Operation\n",
    "\n",
    "### Change itself and Return None\n",
    "- pandas's inplace option\n",
    "\n",
    "### Change itself and Return Value\n",
    "- List's pop method\n",
    "\n",
    "### Don't change itself and Return Value\n",
    "- List's count method\n",
    "\n",
    "# Immutable Type\n",
    "- Frozenset, Tuple ..\n",
    "- Mutable and Immutable types can be usually interchanged\n",
    "  - Since Duck typing, nessasary interface is implementated\n",
    "  - List <-> Tuple, Set <-> Frozenset\n",
    " \n",
    "### dis module can be used to check register load/store\n",
    "\n",
    "# Hashable Type\n",
    "- \\_\\_hash\\_\\_ is implemented and all elements must also hashable type\n",
    "- Immutable Types are usually hashable\n",
    "\n",
    "# Iterable Type\n",
    "- \\_\\_iter\\_\\_ is implemented\n",
    "  ```\n",
    "  def __iter__(self):\n",
    "      return iter(container)\n",
    "  ```\n",
    "- with \\_\\_next\\_\\_, **iter** object is automatically implemented\n",
    "  ```\n",
    "  class Counter:\n",
    "      def __init__(self, stop):\n",
    "          self.cur = 0\n",
    "          self.stop = stop\n",
    "      def __iter__(self):\n",
    "          return self\n",
    "      def __next__(self):\n",
    "          if self.cur < self.stop:\n",
    "              r = self.cur\n",
    "              self.cur = self.cur + 1\n",
    "              return r\n",
    "          else:\n",
    "              raise StopIteration\n",
    "          \n",
    "  ```"
   ]
  },
  {
   "cell_type": "markdown",
   "id": "d4ee149e",
   "metadata": {},
   "source": [
    "# Call Funcion\n",
    "- Call by reference(Default)\n",
    "- Object is passed with same object id\n",
    "\n",
    "## Parameters vs Arguments\n",
    "```\n",
    "def f(x): <-- arguments\n",
    "   statements\n",
    "f(3) <-- parameters\n",
    "```\n",
    "### Arguments\n",
    "```\n",
    "def f(*args, **kwargs):\n",
    "    pass\n",
    "    \n",
    "f(1,2,3, x=4, y=5,)\n",
    "```\n",
    "- args type is list(Variadic positional parameters)\n",
    "  - All positional parameters matches args\n",
    "  - f()'s argument is an empty list\n",
    "- kwargs type is dictionary(Variadic keyword parameters)\n",
    "  - All keyword parameters matches kwargs\n",
    "  - f()'s argument is an empty dictionary\n",
    "\n",
    "### Positional-Only and Keyword-Only Parameters\n",
    "```\n",
    "def f(a,b, / , c, d, *, e, f):\n",
    "    pass\n",
    "f(3,4,5, 6, e=7, f=8)\n",
    "```\n",
    "- Before **/**, positional-only parameters\n",
    "- After **\\***, keyword-only parameters\n",
    "\n",
    "### Unpacking parameters\n",
    "```\n",
    "def f(a,b,c):\n",
    "    pass\n",
    "f(*[1,2,3])\n",
    "\n",
    "def f(a, b):\n",
    "    pass\n",
    "f(**{'a': 1, 'b': 2})\n",
    "```\n",
    "- if \\* is used with a container in parameters, unpack container\n",
    "- if \\*\\* is used with a dictionary in parameters, unpack it as key = argument and value = value\n",
    "\n",
    "#### Positional parameters must be before keyword parameters\n",
    "\n",
    "## Annotation\n",
    "```\n",
    "def f(x:str, y:1+1, z:'hello') -> \"wow\":\n",
    "    '''Function Specification'''\n",
    "    pass\n",
    "    \n",
    "f(1,2,3)\n",
    "```\n",
    "- def functionName(arguments\\[:annotation\\]) \\[->annotation\\]\n",
    "- To use function easily, can annotate expected values\n",
    "- But, it doesn't force calling function type\n",
    "- According to customs, Optional arguments is denoted as \\[arg\\]\n",
    "- Function Annotation can be viewed with **\\_\\_annotations\\_\\_**\n",
    "- Function Specification can be viewed with **\\_\\_doc\\_\\_**\n",
    "```\n",
    "def f(x: [x], y: 1+1) -> \"wow\":\n",
    "    pass\n",
    "```\n",
    "\n",
    "## Signature\n",
    "- functionName(arguments\\[:annotation\\]) \\[->annotation\\]"
   ]
  },
  {
   "cell_type": "code",
   "execution_count": 22,
   "id": "83c0b3c3",
   "metadata": {},
   "outputs": [
    {
     "name": "stdout",
     "output_type": "stream",
     "text": [
      "1 2\n",
      "1 2\n"
     ]
    }
   ],
   "source": [
    "def f(a, b):\n",
    "    print(a, b)\n",
    "f(*[1,2])\n",
    "f(**{'a': 1, 'b': 2})"
   ]
  },
  {
   "cell_type": "code",
   "execution_count": 26,
   "id": "239ee377",
   "metadata": {},
   "outputs": [
    {
     "data": {
      "text/plain": [
       "{'x': str, 'y': 2, 'z': 'hello', 'return': 'wow'}"
      ]
     },
     "execution_count": 26,
     "metadata": {},
     "output_type": "execute_result"
    }
   ],
   "source": [
    "def f(x:str, y:1+1, z:'hello') -> \"wow\":\n",
    "    '''f의 문서'''\n",
    "    pass\n",
    "print(f.__doc__)\n",
    "print(f.__annotations__)"
   ]
  },
  {
   "cell_type": "code",
   "execution_count": 15,
   "id": "e8daa2e5",
   "metadata": {},
   "outputs": [
    {
     "name": "stdout",
     "output_type": "stream",
     "text": [
      "1\n",
      "2\n",
      "1\n"
     ]
    }
   ],
   "source": [
    "# How to Use Variadic parameters\n",
    "# Upgrade API versions without changing signiture\n",
    "\n",
    "#ver1\n",
    "def x(**kwa):\n",
    "    print(1)\n",
    "\n",
    "#ver2\n",
    "def x(**kwa):\n",
    "    if 'color' in kwa:\n",
    "        print(2)\n",
    "    print(1)\n",
    "\n",
    "#ver1\n",
    "x(view = 2)\n",
    "#ver2\n",
    "x(view = 2, color=3)"
   ]
  },
  {
   "cell_type": "code",
   "execution_count": 20,
   "id": "22e56953",
   "metadata": {},
   "outputs": [
    {
     "data": {
      "image/png": "[encoded data removed]",
      "text/plain": [
       "<Figure size 432x288 with 1 Axes>"
      ]
     },
     "metadata": {
      "needs_background": "light"
     },
     "output_type": "display_data"
    },
    {
     "name": "stdout",
     "output_type": "stream",
     "text": [
      "@_copy_docstring_and_deprecators(Axes.bar)\n",
      "def bar(\n",
      "        x, height, width=0.8, bottom=None, *, align='center',\n",
      "        data=None, **kwargs):\n",
      "    return gca().bar(\n",
      "        x, height, width=width, bottom=bottom, align=align,\n",
      "        **({\"data\": data} if data is not None else {}), **kwargs)\n",
      "\n"
     ]
    },
    {
     "data": {
      "image/png": "[encoded data removed]",
      "text/plain": [
       "<Figure size 432x288 with 1 Axes>"
      ]
     },
     "metadata": {},
     "output_type": "display_data"
    }
   ],
   "source": [
    "# Optional arguments and API versioning Examples\n",
    "import matplotlib.pyplot as plt\n",
    "\n",
    "# plot([x], y, [fmt], *, data=None, **kwargs)\n",
    "plt.plot([1,2,3]) # If one argument is passed, it is y\n",
    "plt.plot([1,2,3], [4,5,6]) # if two argument are passed, they are x and y\n",
    "plt.show()\n",
    "\n",
    "# Check additional parameters\n",
    "import inspect\n",
    "print(inspect.getsource(plt.bar)) #Check original code\n",
    "\n",
    "# Use shift + tap, view function docs\n",
    "plt.pie([3, 2])\n",
    "plt.show()"
   ]
  },
  {
   "cell_type": "markdown",
   "id": "43f41c2b",
   "metadata": {},
   "source": [
    "# Scope\n",
    "\n",
    "```\n",
    "# outer(), inner() 함수 입장에서 전역(global) 범위\n",
    "def outer():\n",
    "    # outer() 함수 입장에서 지역(local) 범위\n",
    "    # inner() 함수 입장에서 비지역(nonlocal) 범위\n",
    "    def inner():\n",
    "        # inner 함수 입장에서 지역(local) 범위\n",
    "```\n",
    "- If nonlocal variables are bound a global keyword, nonlocal keyword in \"inner\" function raise SyntaxError\n",
    "\n",
    "## LEGB\n",
    "- The order to find identifier\n",
    "- Local -> Enclosing -> Global -> Builtin\n",
    "- The order is resulted by Encapsulation\n",
    "\n",
    "## DEL\n",
    "- **del** keyword erase an identifier in global scope\n",
    "```\n",
    "print = 1 #global scope\n",
    "print(1) #Error. global scope print isn't callable\n",
    "del print #erase global scope print\n",
    "print(1) #find print in builtin scope\n",
    "```"
   ]
  },
  {
   "cell_type": "code",
   "execution_count": 163,
   "id": "a7798e10",
   "metadata": {
    "scrolled": true
   },
   "outputs": [
    {
     "ename": "SyntaxError",
     "evalue": "no binding for nonlocal 'y' found (201309035.py, line 7)",
     "output_type": "error",
     "traceback": [
      "\u001b[0;36m  Input \u001b[0;32mIn [163]\u001b[0;36m\u001b[0m\n\u001b[0;31m    nonlocal y\u001b[0m\n\u001b[0m    ^\u001b[0m\n\u001b[0;31mSyntaxError\u001b[0m\u001b[0;31m:\u001b[0m no binding for nonlocal 'y' found\n"
     ]
    }
   ],
   "source": [
    "happy = 1 #global\n",
    "def x():\n",
    "    happy = 2 #local\n",
    "    return happy\n",
    "\n",
    "# Scope Error\n",
    "y = 1\n",
    "def f():\n",
    "    global y\n",
    "    y = 2\n",
    "    def g():\n",
    "        nonlocal y\n",
    "        y = 3\n",
    "    g()\n",
    "f()\n",
    "print(y)"
   ]
  },
  {
   "cell_type": "code",
   "execution_count": 50,
   "id": "8212b6f8",
   "metadata": {},
   "outputs": [
    {
     "name": "stdout",
     "output_type": "stream",
     "text": [
      "  3           0 LOAD_GLOBAL              0 (range)\n",
      "              2 LOAD_CONST               1 (1)\n",
      "              4 LOAD_CONST               2 (3)\n",
      "              6 CALL_FUNCTION            2\n",
      "              8 GET_ITER\n",
      "        >>   10 FOR_ITER                 2 (to 16)\n",
      "             12 STORE_FAST               0 (i)\n",
      "\n",
      "  4          14 JUMP_ABSOLUTE            5 (to 10)\n",
      "\n",
      "  3     >>   16 LOAD_CONST               0 (None)\n",
      "             18 RETURN_VALUE\n"
     ]
    }
   ],
   "source": [
    "# Iterable Check\n",
    "def x():\n",
    "    for i in range(1,3):\n",
    "        pass\n",
    "import dis\n",
    "dis.dis(x)"
   ]
  },
  {
   "cell_type": "markdown",
   "id": "9bf7942d",
   "metadata": {},
   "source": [
    "# False Expression\n",
    "- Integer: 0\n",
    "- Float: 0.\n",
    "  - Boolean is subclass of Integer. So, 0 and 0.0 are exactly same with False\n",
    "  - Other objects also have False, like \"\", {}, but it's just semantical same expression with False\n",
    "  - Thus, \"\" == False, {} == False, list() == False None == False are all False\n",
    "\n",
    "# Short-Circuit Evaluation\n",
    "- Doesn't evaluate remaining expression\n",
    "\n",
    "## a && b\n",
    "- Return a if a is semantical same with False, else b\n",
    "\n",
    "## a || b\n",
    "- Return b if a is semantical same with False, else a\n",
    "\n",
    "# In Expression\n",
    "- member **in** Iterable\n",
    "- If **in** is used with the homogeneous objects, tested member type must be same real member type. Else, Raise TypeError\n",
    "- If **in** is used with the dictionary, only compared with keys\n",
    "- If **in** is used with for-in statement, access member indecated by iterable\n",
    "\n",
    "# For Expression\n",
    "``` \n",
    "for identifier in iterable:\n",
    "    statements\n",
    "    [break|continue]\n",
    "else:\n",
    "    run if statement exit normally\n",
    "```\n",
    "- If for statement exits by **break**, else statment doesn't run\n",
    "\n",
    "# While Expression\n",
    "```\n",
    "while condition:\n",
    "    statements\n",
    "    [break|continue]\n",
    "else:\n",
    "    run if statmenet exit normally\n",
    "```\n",
    "- If for statement exits by **break**, else statment doesn't run"
   ]
  },
  {
   "cell_type": "markdown",
   "id": "50366a3d",
   "metadata": {},
   "source": [
    "# Import System\n",
    "## importlib\n",
    "## pakages\n",
    "### regular pakages\n",
    "###  namespace pakages\n",
    "## Searching\n",
    "### the module caching\n",
    "### finders and loaders\n",
    "### import hooks\n",
    "### the meta path\n",
    "## Loading\n",
    "### loaders\n",
    "### submodules\n",
    "### module spec\n",
    "### import-related module attributes\n",
    "### module."
   ]
  },
  {
   "cell_type": "markdown",
   "id": "69c2d28b",
   "metadata": {},
   "source": [
    "# PEP8 Style Guide\n",
    "https://peps.python.org/pep-0008/\n",
    "## Snake Style\n",
    "- Function is named by snake style\n",
    "- hello_world()\n",
    "\n",
    "## Pascal Style\n",
    "- Identifiers are named by pascal style\n",
    "- helloWorld\n",
    "\n",
    "## Camel Style\n",
    "- All except above are named by camel style\n",
    "- HelloWorld"
   ]
  },
  {
   "cell_type": "markdown",
   "id": "4f37aa15",
   "metadata": {},
   "source": [
    "# Keyword style\n",
    "## Bold and Green keywords\n",
    "- Python keywords is specified by bold and green letters"
   ]
  },
  {
   "cell_type": "code",
   "execution_count": 3,
   "id": "babfad2e",
   "metadata": {},
   "outputs": [
    {
     "name": "stdout",
     "output_type": "stream",
     "text": [
      "['False', 'None', 'True', 'and', 'as', 'assert', 'async', 'await', 'break', 'class', 'continue', 'def', 'del', 'elif', 'else', 'except', 'finally', 'for', 'from', 'global', 'if', 'import', 'in', 'is', 'lambda', 'nonlocal', 'not', 'or', 'pass', 'raise', 'return', 'try', 'while', 'with', 'yield']\n"
     ]
    }
   ],
   "source": [
    "import keyword\n",
    "print(keyword.kwlist)"
   ]
  },
  {
   "cell_type": "markdown",
   "id": "12e34367",
   "metadata": {},
   "source": [
    "## Green keywords\n",
    "- Python built-in classes and functions is specified by green letters"
   ]
  },
  {
   "cell_type": "code",
   "execution_count": 5,
   "id": "4fe7e35d",
   "metadata": {},
   "outputs": [
    {
     "name": "stdout",
     "output_type": "stream",
     "text": [
      "['ArithmeticError', 'AssertionError', 'AttributeError', 'BaseException', 'BlockingIOError', 'BrokenPipeError', 'BufferError', 'BytesWarning', 'ChildProcessError', 'ConnectionAbortedError', 'ConnectionError', 'ConnectionRefusedError', 'ConnectionResetError', 'DeprecationWarning', 'EOFError', 'Ellipsis', 'EncodingWarning', 'EnvironmentError', 'Exception', 'False', 'FileExistsError', 'FileNotFoundError', 'FloatingPointError', 'FutureWarning', 'GeneratorExit', 'IOError', 'ImportError', 'ImportWarning', 'IndentationError', 'IndexError', 'InterruptedError', 'IsADirectoryError', 'KeyError', 'KeyboardInterrupt', 'LookupError', 'MemoryError', 'ModuleNotFoundError', 'NameError', 'None', 'NotADirectoryError', 'NotImplemented', 'NotImplementedError', 'OSError', 'OverflowError', 'PendingDeprecationWarning', 'PermissionError', 'ProcessLookupError', 'RecursionError', 'ReferenceError', 'ResourceWarning', 'RuntimeError', 'RuntimeWarning', 'StopAsyncIteration', 'StopIteration', 'SyntaxError', 'SyntaxWarning', 'SystemError', 'SystemExit', 'TabError', 'TimeoutError', 'True', 'TypeError', 'UnboundLocalError', 'UnicodeDecodeError', 'UnicodeEncodeError', 'UnicodeError', 'UnicodeTranslateError', 'UnicodeWarning', 'UserWarning', 'ValueError', 'Warning', 'ZeroDivisionError', '__IPYTHON__', '__build_class__', '__debug__', '__doc__', '__import__', '__loader__', '__name__', '__package__', '__spec__', 'abs', 'aiter', 'all', 'anext', 'any', 'ascii', 'bin', 'bool', 'breakpoint', 'bytearray', 'bytes', 'callable', 'chr', 'classmethod', 'compile', 'complex', 'copyright', 'credits', 'delattr', 'dict', 'dir', 'display', 'divmod', 'enumerate', 'eval', 'exec', 'execfile', 'filter', 'float', 'format', 'frozenset', 'get_ipython', 'getattr', 'globals', 'hasattr', 'hash', 'help', 'hex', 'id', 'input', 'int', 'isinstance', 'issubclass', 'iter', 'len', 'license', 'list', 'locals', 'map', 'max', 'memoryview', 'min', 'next', 'object', 'oct', 'open', 'ord', 'pow', 'print', 'property', 'range', 'repr', 'reversed', 'round', 'runfile', 'set', 'setattr', 'slice', 'sorted', 'staticmethod', 'str', 'sum', 'super', 'tuple', 'type', 'vars', 'zip']\n"
     ]
    }
   ],
   "source": [
    "import builtins\n",
    "print(dir(builtins))"
   ]
  }
 ],
 "metadata": {
  "kernelspec": {
   "display_name": "Python 3 (ipykernel)",
   "language": "python",
   "name": "python3"
  },
  "language_info": {
   "codemirror_mode": {
    "name": "ipython",
    "version": 3
   },
   "file_extension": ".py",
   "mimetype": "text/x-python",
   "name": "python",
   "nbconvert_exporter": "python",
   "pygments_lexer": "ipython3",
   "version": "3.10.4"
  }
 },
 "nbformat": 4,
 "nbformat_minor": 5
}

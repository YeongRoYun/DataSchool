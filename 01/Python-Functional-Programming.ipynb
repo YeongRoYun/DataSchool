{
 "cells": [
  {
   "cell_type": "markdown",
   "id": "edb00042",
   "metadata": {},
   "source": [
    "# Functional Programming\n",
    "\n",
    "## Characteristics\n",
    "\n",
    "- Function is a first-class object\n",
    "- Recursion is used as a primary control structure\n",
    "- There is a focus on list processing\n",
    "  - Lists are often used with recursions on sublists as a substitude for loops\n",
    "- The pure functional paradigm has no side effects\n",
    "- Not statements, Use expression like function with arguments\n",
    "- Describe what is to be computed instead of how to be computed\n",
    "- There are higher-order functions that produce functions\n",
    "- Functional Programming supposes data, not datum\n",
    "  - processing several data is default"
   ]
  },
  {
   "cell_type": "code",
   "execution_count": 1,
   "id": "3f70304d",
   "metadata": {},
   "outputs": [],
   "source": [
    "# Statement\n",
    "x = 1 + 1\n",
    "print(x)\n",
    "# Expression\n",
    "plus = lambda x, y: x+y\n",
    "x = plus(1, 1)\n",
    "print(x)"
   ]
  },
  {
   "cell_type": "markdown",
   "id": "6ed6caa9",
   "metadata": {},
   "source": [
    "## Pure Function\n",
    "\n",
    "#### The pure function returns the same result given the same arguments\n",
    "\n",
    "### Benefits\n",
    "- Formal provability\n",
    "  - Can construct a mathematical proof easier\n",
    "- Modularity\n",
    "- Composability\n",
    "- Ease of debugging and testing"
   ]
  },
  {
   "cell_type": "markdown",
   "id": "7c7cbf4c",
   "metadata": {},
   "source": [
    "## Avoiding Flow Control\n",
    "\n",
    "- Typically, loop statements, **for** and **while**, or branch statements, **if** and **try** is used for flow control \n",
    "- But, It can have side effects, so each results can be different\n",
    "- Also, It focus to how to be computed rather than what to be computed\n",
    "\n",
    "### Encapsulation\n",
    "\n",
    "- One simple way to focus **what** is to refactor code, and put the data structure into an isolated place, such as function or method"
   ]
  },
  {
   "cell_type": "code",
   "execution_count": 2,
   "id": "b8b9ee61",
   "metadata": {},
   "outputs": [],
   "source": [
    "# Imperative\n",
    "def condition(state_var):\n",
    "    pass\n",
    "def calculate_from(datum):\n",
    "    pass\n",
    "def modify(datum, stateVar):\n",
    "    pass\n",
    "def processing(thing):\n",
    "    pass\n",
    "\n",
    "collection = []\n",
    "stateVar = None\n",
    "dataset = [i for i in range(1, 10)]\n",
    "for datum in dataset:\n",
    "    if condition(stateVar):\n",
    "        stateVar = calculate_from(datum)\n",
    "        new = modify(datum, stateVar)\n",
    "        collection.append(new)\n",
    "        \n",
    "# Encapsulation\n",
    "def make_collection():\n",
    "    collection = []\n",
    "    stateVar = None\n",
    "    dataset = [i for i in range(1, 10)]\n",
    "    for datum in dataset:\n",
    "        if condition(stateVar):\n",
    "            stateVar = calculate_from(datum)\n",
    "            new = modify(datum, stateVar)\n",
    "            collection.append(new)\n",
    "    return collection\n",
    "\n",
    "collection = make_collection()\n",
    "\n",
    "for thing in collection:\n",
    "    processing(thing)"
   ]
  },
  {
   "cell_type": "markdown",
   "id": "74a0216c",
   "metadata": {},
   "source": [
    "### Comprehension\n",
    "\n",
    "- The comprehension is an expression that uses same keywords as loop and condition blocks, but inverts their order to focus on data\n",
    "- The comprehension is optimistic, so faster but consum larger memory\n",
    "- In Data Analysis, comprehension may not be used 'cause memory. Instead, use generator or iterator like **map or filter**"
   ]
  },
  {
   "cell_type": "code",
   "execution_count": 3,
   "id": "9cd64fd5",
   "metadata": {},
   "outputs": [
    {
     "name": "stdout",
     "output_type": "stream",
     "text": [
      "Requirement already satisfied: memory_profiler in /Users/teddy/miniforge3/envs/Data/lib/python3.10/site-packages (0.60.0)\r\n",
      "Requirement already satisfied: psutil in /Users/teddy/miniforge3/envs/Data/lib/python3.10/site-packages (from memory_profiler) (5.9.1)\r\n"
     ]
    }
   ],
   "source": [
    "!pip install memory_profiler\n",
    "%load_ext memory_profiler"
   ]
  },
  {
   "cell_type": "code",
   "execution_count": 4,
   "id": "b60eba0a",
   "metadata": {},
   "outputs": [
    {
     "name": "stdout",
     "output_type": "stream",
     "text": [
      "peak memory: 462.77 MiB, increment: 0.34 MiB\n",
      "peak memory: 546.25 MiB, increment: 0.00 MiB\n"
     ]
    }
   ],
   "source": [
    "def condition(datum):\n",
    "    pass\n",
    "def modify(datum):\n",
    "    pass\n",
    "dataset = [i for i in range(10000000)]\n",
    "\n",
    "# Imperative\n",
    "collection = []\n",
    "%memit\n",
    "for datum in dataset:\n",
    "    if condition(datum):\n",
    "        collection.append(datum)\n",
    "    else:\n",
    "        new = modify(datum)\n",
    "        collection.append(new)\n",
    "\n",
    "# Comprehension\n",
    "%memit\n",
    "collection = [datum if condition(datum) else modify(datum) for datum in dataset]"
   ]
  },
  {
   "cell_type": "markdown",
   "id": "51c2308b",
   "metadata": {},
   "source": [
    "### Generators\n",
    "\n",
    "- The generator comprehension has same syntax as list comprehension except square brackets, using parenthesis\n",
    "- Use lazy-evaluation, so how to get datum is hiden until it is needed, just describe what data is\n",
    "- **.next()** or **next looping** are used to access datum\n",
    "\n",
    "### Iterator\n",
    "\n",
    "```\n",
    "iterCon = iter(iterable)\n",
    "nextVal = next(iterCon)\n",
    "```\n",
    "- **itertools** module is used to control iterator\n",
    "- Generator and Iterator is same internal logic, but make different ways\n",
    "  - Generator is useful to make user-defined dataset\n",
    "  - Iterator is useful to transform extra-defined dataset"
   ]
  },
  {
   "cell_type": "code",
   "execution_count": 5,
   "id": "768dbe77",
   "metadata": {},
   "outputs": [],
   "source": [
    "def read_line(hugLogFile):\n",
    "    pass\n",
    "def complex_condition(line):\n",
    "    pass\n",
    "\n",
    "hugLogFile = [i for i in range(10)]\n",
    "\n",
    "# Literal\n",
    "#logLines = (line for line in read_line(hugLogFile) if complex_condition(line))\n",
    "\n",
    "# Imperative\n",
    "def get_log_lines(logFile):\n",
    "    line = read_line(hugLogFile)\n",
    "    while True:\n",
    "        try:\n",
    "            if complex_condition(line):\n",
    "                yield line # Generator raise StopIteration when return statement occur(implicit or explicit)\n",
    "            line = read_line(hugLogFile)\n",
    "        except StopIteration:\n",
    "            raise # same exception is passed\n",
    "\n",
    "#logLines = get_log_lines(hugLogFile)\n",
    "\n",
    "# Use Iterator protocol\n",
    "class GetLogLines(object):\n",
    "    def __init__(self, logFile):\n",
    "        self.__logFile = logFile\n",
    "        self.__line = None\n",
    "    def __iter__(self):\n",
    "        return self\n",
    "    def __next__(self):\n",
    "        if self.__line == None:\n",
    "            self.__line = read_line(self.__logFile)\n",
    "        while not complex_condition(self.__line):\n",
    "            self.__line = read_line(self.__logFile)\n",
    "        return self.__line\n",
    "\n",
    "#logLines = getLogLines(hugLogFile)\n",
    "\n",
    "# To compact dataset to memory size, use iterator\n",
    "dataset = [i for i in range(100000)]\n",
    "batch = next(iter(dataset))"
   ]
  },
  {
   "cell_type": "code",
   "execution_count": 6,
   "id": "e2bea59f",
   "metadata": {},
   "outputs": [
    {
     "name": "stdout",
     "output_type": "stream",
     "text": [
      "True\n",
      "True\n",
      "peak memory: 262.02 MiB, increment: -0.09 MiB\n",
      "2\n"
     ]
    },
    {
     "data": {
      "text/plain": [
       "'sepal_length'"
      ]
     },
     "execution_count": 6,
     "metadata": {},
     "output_type": "execute_result"
    }
   ],
   "source": [
    "# file I/O\n",
    "x = open(r'./모든 컴퓨터 과학자가 알아야 할 부동 소수점의 모든것.pdf')\n",
    "print('__iter__' in dir(x))\n",
    "print('__next__' in dir(x))\n",
    "\n",
    "#pandas I/O is not use iterable, so faster but, consum memory\n",
    "#When changing iterator, the reference counts are decreased without current accessed datum. So, gc can clean memory\n",
    "import sys\n",
    "import seaborn as sns\n",
    "\n",
    "%memit\n",
    "iris = sns.load_dataset('iris')\n",
    "print(sys.getrefcount(iris)) # To check current datum reference count\n",
    "iris = iter(iris)\n",
    "next(iris)"
   ]
  },
  {
   "cell_type": "code",
   "execution_count": 7,
   "id": "3c7d60f1",
   "metadata": {},
   "outputs": [
    {
     "name": "stdout",
     "output_type": "stream",
     "text": [
      "True\n",
      "True\n"
     ]
    }
   ],
   "source": [
    "# map and filter make iterator\n",
    "x = map(lambda x: x, range(100))\n",
    "print('__iter__' in dir(x) and '__next__' in dir(x))\n",
    "x = filter(lambda x: x%2 == 0, range(100)) # Passed function of filter must be the predicate function, return T/F\n",
    "print('__iter__' in dir(x) and '__next__' in dir(x))"
   ]
  },
  {
   "cell_type": "markdown",
   "id": "258584a6",
   "metadata": {},
   "source": [
    "### Dics and Sets\n",
    "\n",
    "#### Dics\n",
    "```\n",
    "{key: val for key, val in zip(keys, values)}\n",
    "```\n",
    "\n",
    "#### Sets\n",
    "```\n",
    "{mem for mem in data}\n",
    "```"
   ]
  },
  {
   "cell_type": "markdown",
   "id": "c4ce3532",
   "metadata": {},
   "source": [
    "### Recursion\n",
    "\n",
    "- In functional programming, the recursion expression replaces the loop statement\n",
    "- In recursion style, Must distingush two cases\n",
    "  - Just iteration by another name\n",
    "  - A program can be readily be partitioned into smaller problems\n",
    "- Effective recursion of pure functional language(not python)\n",
    "  - Tail call elimination can be used to save memory\n",
    "- In python, can be change recursion depth by ```sys.setrecursionlimit(cnt)```, default = 1000\n",
    "- **functools** and **operator** is used to simplify recursion"
   ]
  },
  {
   "cell_type": "code",
   "execution_count": 8,
   "id": "a9911386",
   "metadata": {},
   "outputs": [],
   "source": [
    "# Just Iteration by another name\n",
    "def sum(data):\n",
    "    return data.pop() + sum(data) if data else 0\n",
    "\n",
    "# Divide & Cunquer\n",
    "def search(datum:\"Datum\", searchTree:\"SearchTree\")->\"Node\":\n",
    "    if searchTree.root.datum == datum:\n",
    "        return searchTree.root\n",
    "    elif searchTree.root.datum < datum:\n",
    "        return search(datum, searchTree.leftTree)\n",
    "    else:\n",
    "        return search(datum, searchTree.rightTree)"
   ]
  },
  {
   "cell_type": "code",
   "execution_count": 9,
   "id": "f167065b",
   "metadata": {},
   "outputs": [],
   "source": [
    "from functools import reduce\n",
    "from operator import mul\n",
    "\n",
    "def factorialHOF(n):\n",
    "    return reduce(mul, range(1, n+1), 1)"
   ]
  },
  {
   "cell_type": "markdown",
   "id": "e76fe189",
   "metadata": {},
   "source": [
    "### Eliminating Loop\n",
    "- If function is called in loop simply, just use **map**\n",
    "\n",
    "#### Translate While\n",
    "- Statement based while loop\n",
    "```\n",
    "while <cond>:\n",
    "    <pre-suite>\n",
    "    if <break-condition>:\n",
    "        break\n",
    "    else:\n",
    "        <suite>\n",
    "```\n",
    "- FP based while recursion\n",
    "```\n",
    "def while_block():\n",
    "    <pre-suite>\n",
    "    if <break-condition>:\n",
    "        return 1\n",
    "    else:\n",
    "        <suite>\n",
    "        return 0\n",
    "        \n",
    "whileFP = lambda: (<cond> and while_block()) or whileFP()\n",
    "whileFP()\n",
    "```\n",
    "- It is not pure functional since ```while_block``` has statements"
   ]
  },
  {
   "cell_type": "code",
   "execution_count": 10,
   "id": "40504cc8",
   "metadata": {},
   "outputs": [],
   "source": [
    "dataset = [i for i in range(pow(10,5))]"
   ]
  },
  {
   "cell_type": "code",
   "execution_count": 11,
   "id": "ab128cd1",
   "metadata": {},
   "outputs": [
    {
     "name": "stdout",
     "output_type": "stream",
     "text": [
      "CPU times: user 1 µs, sys: 0 ns, total: 1 µs\n",
      "Wall time: 2.62 µs\n",
      "CPU times: user 0 ns, sys: 0 ns, total: 0 ns\n",
      "Wall time: 3.1 µs\n"
     ]
    },
    {
     "data": {
      "text/plain": [
       "<map at 0x14fc04100>"
      ]
     },
     "execution_count": 11,
     "metadata": {},
     "output_type": "execute_result"
    }
   ],
   "source": [
    "def f(i):\n",
    "    i*i\n",
    "\n",
    "%time\n",
    "for datum in dataset:\n",
    "    f(datum)\n",
    "\n",
    "%time\n",
    "map(f, dataset)"
   ]
  },
  {
   "cell_type": "code",
   "execution_count": 12,
   "id": "ba511d90",
   "metadata": {},
   "outputs": [
    {
     "name": "stdout",
     "output_type": "stream",
     "text": [
      "1 4\n",
      "4 25\n",
      "27 216\n"
     ]
    },
    {
     "data": {
      "text/plain": [
       "[None, None, None]"
      ]
     },
     "execution_count": 12,
     "metadata": {},
     "output_type": "execute_result"
    }
   ],
   "source": [
    "#map with passing arguments\n",
    "do_it = lambda f, *args: f(*args)\n",
    "fs = [lambda x, y: print(x, y), lambda x, y: print(x*x, y*y), lambda x, y: print(x*x*x, y*y*y)]\n",
    "list(map(do_it, fs, [1,2,3], [4,5,6])) #map(func, *iterable, firstArguments, secondArguments, so on)"
   ]
  },
  {
   "cell_type": "code",
   "execution_count": 13,
   "id": "b63ff4ac",
   "metadata": {},
   "outputs": [
    {
     "name": "stdout",
     "output_type": "stream",
     "text": [
      "IMP -- quit\n",
      "quit\n"
     ]
    },
    {
     "data": {
      "text/plain": [
       "True"
      ]
     },
     "execution_count": 13,
     "metadata": {},
     "output_type": "execute_result"
    }
   ],
   "source": [
    "# Concrete version of whileFP\n",
    "# Only expression, No side effects\n",
    "\n",
    "#imperative\n",
    "def echo_IMP():\n",
    "    while True:\n",
    "        x = input(\"IMP -- \")\n",
    "        if x == \"quit\":\n",
    "            break\n",
    "        else:\n",
    "            print(x)\n",
    "\n",
    "from operator import eq\n",
    "#FP\n",
    "def identity_print(x):\n",
    "    print(x)\n",
    "    return x\n",
    "\n",
    "echo_FP = lambda: eq(identity_print(input(\"IMP -- \")),\"quit\") or echo_FP()\n",
    "echo_FP()"
   ]
  },
  {
   "cell_type": "markdown",
   "id": "e62b11e8",
   "metadata": {},
   "source": [
    "### Eliminating recursion\n",
    "- Sometimes recursion do without recursion by using folding operator like functools.reduce\n",
    "\n",
    "#### Reduce\n",
    "- Can be divide-Conquar\n",
    "- In ML, almost operator adopt reduce-mechanism\n",
    "\n",
    "#### Accumulate\n",
    "- Can save memory and partial calculation\n",
    "- But, slower than reduce"
   ]
  },
  {
   "cell_type": "code",
   "execution_count": 14,
   "id": "d1254742",
   "metadata": {},
   "outputs": [
    {
     "name": "stdout",
     "output_type": "stream",
     "text": [
      "1\n",
      "3\n",
      "6\n",
      "15\n",
      "[ 1  3  6 10 15]\n"
     ]
    }
   ],
   "source": [
    "from operator import add\n",
    "from functools import reduce\n",
    "reduce(add, [1,2,3], 0)\n",
    "\n",
    "# Accumulate is used for reducing iterable\n",
    "from itertools import accumulate\n",
    "x = accumulate([1,2,3], add)\n",
    "print(next(x))\n",
    "print(next(x))\n",
    "print(next(x))\n",
    "\n",
    "#numpy examples\n",
    "import numpy as np\n",
    "print(np.add.reduce([1,2,3,4,5]))\n",
    "print(np.add.accumulate([1,2,3,4,5]))"
   ]
  },
  {
   "cell_type": "markdown",
   "id": "27194b69",
   "metadata": {},
   "source": [
    "## Callable\n",
    "\n",
    "### Python Callable List\n",
    "- Regular functions created by **def** keywords and given a name at definition time\n",
    "- Anonymous functions created by **lambda** keywords\n",
    "- Instances of classes that define a **__call__** method\n",
    "- Closures returned by function factories\n",
    "- Static methods of instances, either via the **@staticmethod** decorator or via the class **__dict__**\n",
    "- Generator functions\n",
    "\n",
    "### Non-static and Non-class methods of Class\n",
    "- Usually used to access and modify members\n",
    "- So, There are opposite to the functional paradigm, which emphisizes immutability and pure function\n",
    "- There are used to implement OOP style"
   ]
  },
  {
   "cell_type": "markdown",
   "id": "3de779cc",
   "metadata": {},
   "source": [
    "### Named functions and Lambdas\n",
    "- The only in principle difference between them is simply whether its **\\_\\_qualname\\_\\_** is function name or not\n",
    "- lambda is usually used when inlining or short expression\n",
    "- lambda is **erased** when reference count is zero, but named functions remain over time"
   ]
  },
  {
   "cell_type": "code",
   "execution_count": 15,
   "id": "f24faad0",
   "metadata": {},
   "outputs": [
    {
     "name": "stdout",
     "output_type": "stream",
     "text": [
      "f\n",
      "<lambda>\n"
     ]
    }
   ],
   "source": [
    "def f():\n",
    "    pass\n",
    "g = lambda x: x\n",
    "print(f.__qualname__)\n",
    "print(g.__qualname__)"
   ]
  },
  {
   "cell_type": "markdown",
   "id": "8c9a8123",
   "metadata": {},
   "source": [
    "### Closures and Callable instances\n",
    "- Class is data with operations attached while Closure is operations with data attached\n",
    "  - Class emphasizes mutable or rebindable states\n",
    "  - Closure emphasizes immutability and pure functions\n",
    "- Closure binds name rather than value\n",
    "  - Scope manner is followed"
   ]
  },
  {
   "cell_type": "code",
   "execution_count": 16,
   "id": "4d6a2ac3",
   "metadata": {},
   "outputs": [
    {
     "name": "stdout",
     "output_type": "stream",
     "text": [
      "10\n",
      "15\n",
      "10\n",
      "10\n",
      "[14, 14, 14, 14]\n",
      "[11, 12, 13, 14]\n",
      "True\n"
     ]
    }
   ],
   "source": [
    "# Callable Instances\n",
    "class Adder:\n",
    "    def __init__(self, n):\n",
    "        self.n = n\n",
    "    def __call__(self, m):\n",
    "        return self.n + m\n",
    "\n",
    "adderI = Adder(5)\n",
    "\n",
    "# Closure\n",
    "def make_adder(n):\n",
    "    def adder(m):\n",
    "        return n + m\n",
    "    return adder\n",
    "\n",
    "adderF = make_adder(5)\n",
    "\n",
    "# Callable Instances have dependency to prior flows\n",
    "print(adderI(5))\n",
    "adderI.n = 10\n",
    "print(adderI(5))\n",
    "\n",
    "# Closure is pure\n",
    "print(adderF(5))\n",
    "adderF.n = 10 # Add member n, but it is different with adder's n\n",
    "print(adderF.n)\n",
    "\n",
    "# Bind name examples\n",
    "adders = []\n",
    "for n in range(1, 5):\n",
    "    adders.append(lambda m: m+n)\n",
    "print([adder(10) for adder in adders]) # bound n is current 4\n",
    "\n",
    "adders = []\n",
    "for n in range(1, 5):\n",
    "    adders.append(lambda m, n=n: m+n) # explicit binding n=n\n",
    "print([adder(10) for adder in adders])\n",
    "\n",
    "def make_adder(n):\n",
    "    def adder(m):\n",
    "        return n + m\n",
    "    n = 30 # binding n is here\n",
    "    return adder\n",
    "\n",
    "adderF = make_adder(10)\n",
    "print(adderF(5) == 35)"
   ]
  },
  {
   "cell_type": "markdown",
   "id": "64f364a8",
   "metadata": {},
   "source": [
    "### Method of Classes\n",
    "- Calling method usually means modifying members\n",
    "\n",
    "#### Accessors and Operators\n",
    "- getter uses **@property** decorator\n",
    "- setter uses **@member.setter** decorator\n",
    "- In accessors, can co-opt the python syntax of assignment to pass arguments instead"
   ]
  },
  {
   "cell_type": "code",
   "execution_count": 17,
   "id": "fca314c4",
   "metadata": {},
   "outputs": [
    {
     "name": "stdout",
     "output_type": "stream",
     "text": [
      "Car's speed is 80\n",
      "Modified speed is 100\n",
      "Car's speed is 100\n",
      "origin 1 by 3\n",
      "8\n"
     ]
    }
   ],
   "source": [
    "class Car:\n",
    "    def __init__(self):\n",
    "        self.__speed = 80\n",
    "    @property\n",
    "    def speed(self):\n",
    "        print(\"Car's speed is \", end='')\n",
    "        return self.__speed\n",
    "    \n",
    "    @speed.setter\n",
    "    def speed(self, new):\n",
    "        print(\"Modified speed is\", new)\n",
    "        self.__speed = new\n",
    "        \n",
    "car = Car()\n",
    "print(car.speed)\n",
    "car.speed = 100\n",
    "print(car.speed)\n",
    "\n",
    "#Co-Opt python syntax\n",
    "class TalkativeInt(int):\n",
    "    def __lshift__(self, other):\n",
    "        print('origin', self, 'by', other)\n",
    "        return int.__lshift__(self, other)\n",
    "\n",
    "x = TalkativeInt(1)\n",
    "print(x << 3)"
   ]
  },
  {
   "cell_type": "markdown",
   "id": "7c796c20",
   "metadata": {},
   "source": [
    "#### Static methods of Instances\n",
    "- Use class just like namespace\n",
    "- More functional style\n",
    "- In python 3.x, **@staticmethod** decorator isn't needed, but if accessing static method in an instance, **Must** specify the decorator "
   ]
  },
  {
   "cell_type": "code",
   "execution_count": 18,
   "id": "223d6bb7",
   "metadata": {},
   "outputs": [
    {
     "name": "stdout",
     "output_type": "stream",
     "text": [
      "5.0\n",
      "0.8\n",
      "0.6\n",
      "0.75\n"
     ]
    },
    {
     "ename": "TypeError",
     "evalue": "RightTriangle.cos() takes 2 positional arguments but 3 were given",
     "output_type": "error",
     "traceback": [
      "\u001b[0;31m---------------------------------------------------------------------------\u001b[0m",
      "\u001b[0;31mTypeError\u001b[0m                                 Traceback (most recent call last)",
      "Input \u001b[0;32mIn [18]\u001b[0m, in \u001b[0;36m<cell line: 19>\u001b[0;34m()\u001b[0m\n\u001b[1;32m     16\u001b[0m \u001b[38;5;28mprint\u001b[39m(RightTriangle\u001b[38;5;241m.\u001b[39mtan(\u001b[38;5;241m3\u001b[39m, \u001b[38;5;241m4\u001b[39m))\n\u001b[1;32m     18\u001b[0m rt \u001b[38;5;241m=\u001b[39m RightTriangle()\n\u001b[0;32m---> 19\u001b[0m \u001b[43mrt\u001b[49m\u001b[38;5;241;43m.\u001b[39;49m\u001b[43mcos\u001b[49m\u001b[43m(\u001b[49m\u001b[38;5;241;43m3\u001b[39;49m\u001b[43m,\u001b[49m\u001b[43m \u001b[49m\u001b[38;5;241;43m4\u001b[39;49m\u001b[43m)\u001b[49m\n",
      "\u001b[0;31mTypeError\u001b[0m: RightTriangle.cos() takes 2 positional arguments but 3 were given"
     ]
    }
   ],
   "source": [
    "import math\n",
    "class RightTriangle:\n",
    "    '''Class used solely as namespace for related functions'''\n",
    "    def hypotenuse(a:int, b:int) -> int:\n",
    "        return math.sqrt(a**2+b**2)\n",
    "    def sin(a:int, b:int) -> float:\n",
    "        return a / RightTriangle.hypotenuse(a, b)\n",
    "    def cos(a:int, b:int) -> float:\n",
    "        return b / RightTriangle.hypotenuse(a, b)\n",
    "    def tan(a:int, b:int) -> float:\n",
    "        return a / b\n",
    "    \n",
    "print(RightTriangle.hypotenuse(3, 4))\n",
    "print(RightTriangle.cos(3, 4))\n",
    "print(RightTriangle.sin(3, 4))\n",
    "print(RightTriangle.tan(3, 4))\n",
    "\n",
    "rt = RightTriangle()\n",
    "rt.cos(3, 4) # Error since self isn't passed"
   ]
  },
  {
   "cell_type": "markdown",
   "id": "44b5cf3b",
   "metadata": {},
   "source": [
    "### Generator Functions\n",
    "- function that contains **yield** statements\n",
    "- Calling **next**, produce the sequence of values\n",
    "- It use memory efficiently 'cause **lazy-evalutaion**\n",
    "- Generator seems not to pure function since every calling **next()** may be different\n",
    "- But, because First input affects the entire sequence of outputs, it is side-effect-free **blackbox** and pure function in a large category"
   ]
  },
  {
   "cell_type": "code",
   "execution_count": 19,
   "id": "af50dbfc",
   "metadata": {},
   "outputs": [
    {
     "name": "stdout",
     "output_type": "stream",
     "text": [
      "2 3 5 7 11 13 17 19 23 29 31 37 41 43 47 53 59 61 67 71 "
     ]
    }
   ],
   "source": [
    "def get_primes():\n",
    "    '''Simple lazy Sieve of Erasthenes'''\n",
    "    candidate = 2\n",
    "    primes = []\n",
    "    while True:\n",
    "        if all(candidate%prime for prime in primes):\n",
    "            yield candidate\n",
    "            primes.append(candidate)\n",
    "        else:\n",
    "            candidate += 1\n",
    "\n",
    "primes = get_primes()\n",
    "for _ in range(10):\n",
    "    print(next(primes), end = ' ')\n",
    "for _, prime in zip(range(10), primes):\n",
    "    print(prime, end = ' ')"
   ]
  },
  {
   "cell_type": "markdown",
   "id": "0c917c3b",
   "metadata": {},
   "source": [
    "### Multiple Dispatch/Multi-Method\n",
    "- Multiple Dispatch is the technique that is programming multiple path of executions\n",
    "\n",
    "#### Idea\n",
    "- Declare multiple signitures for a single function and call the actual computation that matches types or properties of calling parameters\n",
    "\n",
    "#### Benefits\n",
    "- Avoid explicit condition branches\n",
    "- Instead substitute the use of more intuitive pattern descriptions of arguments"
   ]
  },
  {
   "cell_type": "code",
   "execution_count": 20,
   "id": "80b07eb7",
   "metadata": {},
   "outputs": [
    {
     "name": "stdout",
     "output_type": "stream",
     "text": [
      "x(Rock), y(Rock): Tie\n",
      "x(Rock), y(Paper): y win\n",
      "x(Rock), y(Scissors): x win\n",
      "x(Paper), y(Rock): x win\n",
      "x(Paper), y(Paper): tie\n",
      "x(Paper), y(Scissors): y win\n",
      "x(Scissors), y(Rock): y win\n",
      "x(Scissors), y(Paper): x win\n",
      "x(Scissors), y(Scissors): tie\n"
     ]
    }
   ],
   "source": [
    "class Thing(object):\n",
    "    ...\n",
    "class Rock(Thing):\n",
    "    ...\n",
    "class Paper(Thing):\n",
    "    ...\n",
    "class Scissors(Thing):\n",
    "    ...\n",
    "\n",
    "# Imperative version\n",
    "def beats(x, y):\n",
    "    if not isinstance(x, Thing) or not isinstance(y, Thing):\n",
    "        raise TypeError\n",
    "    if isinstance(x, Rock):\n",
    "        if isinstance(y, Rock):\n",
    "            print(\"x(Rock), y(Rock): Tie\")\n",
    "        elif isinstance(y, Paper):\n",
    "            print(\"x(Rock), y(Paper): y win\")\n",
    "        elif isinstance(y, Scissors):\n",
    "            print(\"x(Rock), y(Scissors): x win\")\n",
    "        else:\n",
    "            raise TypeError\n",
    "    elif isinstance(x, Paper):\n",
    "        if isinstance(y, Rock):\n",
    "            print(\"x(Paper), y(Rock): x win\")\n",
    "        elif isinstance(y, Paper):\n",
    "            print(\"x(Paper), y(Paper): tie\")\n",
    "        elif isinstance(y, Scissors):\n",
    "            print(\"x(Paper), y(Scissors): y win\")\n",
    "        else:\n",
    "            raise TypeError  \n",
    "    elif isinstance(x, Scissors):\n",
    "        if isinstance(y, Rock):\n",
    "            print(\"x(Scissors), y(Rock): y win\")\n",
    "        elif isinstance(y, Paper):\n",
    "            print(\"x(Scissors), y(Paper): x win\")\n",
    "        elif isinstance(y, Scissors):\n",
    "            print(\"x(Scissors), y(Scissors): tie\")\n",
    "        else:\n",
    "            raise TypeError   \n",
    "    else:\n",
    "        raise TypeError\n",
    "    return\n",
    "\n",
    "cmb = Rock(), Paper(), Scissors()\n",
    "for i in range(3):\n",
    "    for j in range(3):\n",
    "        beats(cmb[i], cmb[j])\n"
   ]
  },
  {
   "cell_type": "markdown",
   "id": "39d3fcac",
   "metadata": {},
   "source": [
    "#### Delgate to the Objects\n",
    "- With **duck-typing**, eleminate branches\n",
    "- Actually, by nesting branches in each classes, reduce complexity code and the level of nested\n",
    "- But, the amount of code isn't reduced\n",
    "- In OOP, can use delegate patterns to delate dispatch to the object"
   ]
  },
  {
   "cell_type": "code",
   "execution_count": 21,
   "id": "59ef07de",
   "metadata": {},
   "outputs": [
    {
     "name": "stdout",
     "output_type": "stream",
     "text": [
      "x(Rock), y(Rock): Tie\n",
      "x(Rock), y(Paper): y win\n",
      "x(Rock), y(Scissors): x win\n",
      "x(Paper), y(Rock): x win\n",
      "x(Paper), y(Paper): tie\n",
      "x(Paper), y(Scissors): y win\n",
      "x(Scissors), y(Rock): y win\n",
      "x(Scissors), y(Paper): x win\n",
      "x(Scissors), y(Scissors): tie\n"
     ]
    }
   ],
   "source": [
    "class DuckRock(Rock):\n",
    "    def beat(self, other):\n",
    "        if isinstance(other, Rock):\n",
    "            print(\"x(Rock), y(Rock): Tie\")\n",
    "        elif isinstance(other, Paper):\n",
    "            print(\"x(Rock), y(Paper): y win\")\n",
    "        elif isinstance(other, Scissors):\n",
    "            print(\"x(Rock), y(Scissors): x win\")\n",
    "        else:\n",
    "            raise TypeError\n",
    "        \n",
    "class DuckPaper(Paper):\n",
    "    def beat(self, other):\n",
    "        if isinstance(other, Rock):\n",
    "            print(\"x(Paper), y(Rock): x win\")\n",
    "        elif isinstance(other, Paper):\n",
    "            print(\"x(Paper), y(Paper): tie\")\n",
    "        elif isinstance(other, Scissors):\n",
    "            print(\"x(Paper), y(Scissors): y win\")\n",
    "        else:\n",
    "            raise TypeError         \n",
    "    \n",
    "class DuckScissors(Scissors):\n",
    "    def beat(self, other):\n",
    "        if isinstance(other, Rock):\n",
    "            print(\"x(Scissors), y(Rock): y win\")\n",
    "        elif isinstance(other, Paper):\n",
    "            print(\"x(Scissors), y(Paper): x win\")\n",
    "        elif isinstance(other, Scissors):\n",
    "            print(\"x(Scissors), y(Scissors): tie\")\n",
    "        else:\n",
    "            raise TypeError \n",
    "\n",
    "# Delegate version\n",
    "def beats2(x, y):\n",
    "    if hasattr(x, 'beat'):\n",
    "        return x.beat(y)\n",
    "    else:\n",
    "        raise TypeError\n",
    "    return\n",
    "\n",
    "duckCmb = DuckRock(), DuckPaper(), DuckScissors()\n",
    "for i in range(3):\n",
    "    for j in range(3):\n",
    "        beats2(duckCmb[i], duckCmb[j])\n"
   ]
  },
  {
   "cell_type": "markdown",
   "id": "21ebbc16",
   "metadata": {},
   "source": [
    "#### Pattern-Matching\n",
    "- Using multiple dispatches, can express branches more directly\n",
    "- this should be more readable, though still a number of case defined"
   ]
  },
  {
   "cell_type": "code",
   "execution_count": null,
   "id": "8ebe9b3c",
   "metadata": {},
   "outputs": [],
   "source": [
    "!pip install multipledispatch"
   ]
  },
  {
   "cell_type": "code",
   "execution_count": 22,
   "id": "aeaf5847",
   "metadata": {},
   "outputs": [
    {
     "name": "stdout",
     "output_type": "stream",
     "text": [
      "tie\n",
      "y win\n",
      "x win\n",
      "x win\n",
      "tie\n",
      "y win\n",
      "y win\n",
      "x win\n",
      "tie\n"
     ]
    }
   ],
   "source": [
    "from multipledispatch import dispatch\n",
    "\n",
    "@dispatch(Rock, Rock)\n",
    "def beats3(x, y): print('tie')\n",
    "@dispatch(Rock, Paper)\n",
    "def beats3(x, y): print('y win')\n",
    "@dispatch(Rock, Scissors)\n",
    "def beats3(x, y): print('x win')\n",
    "@dispatch(Paper, Rock)\n",
    "def beats3(x, y): print('x win')\n",
    "@dispatch(Paper, Paper)\n",
    "def beats3(x, y): print('tie')\n",
    "@dispatch(Paper, Scissors)\n",
    "def beats3(x, y): print('y win')\n",
    "@dispatch(Scissors, Rock)\n",
    "def beats3(x, y): print('y win')\n",
    "@dispatch(Scissors, Paper)\n",
    "def beats3(x, y): print('x win')\n",
    "@dispatch(Scissors, Scissors)\n",
    "def beats3(x, y): print('tie')\n",
    "@dispatch(object, object)\n",
    "def beats3(x, y):\n",
    "    raise TypeError\n",
    "\n",
    "\n",
    "cmb = Rock(), Paper(), Scissors()\n",
    "for i in range(3):\n",
    "    for j in range(3):\n",
    "        beats3(cmb[i], cmb[j])"
   ]
  },
  {
   "cell_type": "markdown",
   "id": "20e1724c",
   "metadata": {},
   "source": [
    "#### Predicate-based Dispatch\n",
    "- A real exotic approach to expressing conditionals as dispatch decisions is to include predicates directly within the function signatures\n",
    "- Or perhaps within decorators on them, as with multipledispatch\n",
    "- No eligble library in python. So, illustrate imaginary library\n",
    "- Predicate is placed outside function, thus the depth of condition is shallower and more readable"
   ]
  },
  {
   "cell_type": "code",
   "execution_count": 23,
   "id": "2d175f35",
   "metadata": {},
   "outputs": [
    {
     "ename": "ModuleNotFoundError",
     "evalue": "No module named 'predicate_dispatch'",
     "output_type": "error",
     "traceback": [
      "\u001b[0;31m---------------------------------------------------------------------------\u001b[0m",
      "\u001b[0;31mModuleNotFoundError\u001b[0m                       Traceback (most recent call last)",
      "Input \u001b[0;32mIn [23]\u001b[0m, in \u001b[0;36m<cell line: 1>\u001b[0;34m()\u001b[0m\n\u001b[0;32m----> 1\u001b[0m \u001b[38;5;28;01mfrom\u001b[39;00m \u001b[38;5;21;01mpredicate_dispatch\u001b[39;00m \u001b[38;5;28;01mimport\u001b[39;00m predicate\n\u001b[1;32m      3\u001b[0m \u001b[38;5;129m@predicate\u001b[39m(\u001b[38;5;28;01mlambda\u001b[39;00m x: x \u001b[38;5;241m<\u001b[39m \u001b[38;5;241m0\u001b[39m, \u001b[38;5;28;01mlambda\u001b[39;00m y: \u001b[38;5;28;01mTrue\u001b[39;00m)\n\u001b[1;32m      4\u001b[0m \u001b[38;5;28;01mdef\u001b[39;00m \u001b[38;5;21msign\u001b[39m(x, y):\n\u001b[1;32m      5\u001b[0m     \u001b[38;5;28mprint\u001b[39m(\u001b[38;5;124m\"\u001b[39m\u001b[38;5;124mx is negative, y =\u001b[39m\u001b[38;5;124m\"\u001b[39m, y)\n",
      "\u001b[0;31mModuleNotFoundError\u001b[0m: No module named 'predicate_dispatch'"
     ]
    }
   ],
   "source": [
    "from predicate_dispatch import predicate\n",
    "\n",
    "@predicate(lambda x: x < 0, lambda y: True)\n",
    "def sign(x, y):\n",
    "    print(\"x is negative, y =\", y)\n",
    "@predicate(lambda x: x == 0, lambda y: True)\n",
    "def sign(x, y):\n",
    "    print(\"x is zero, y =\", y)\n",
    "@predicate(lambda x: x > 0, lambda y: True)\n",
    "def sign(x, y):\n",
    "    print(\"x is positive, y =\", y)\n",
    "    "
   ]
  },
  {
   "cell_type": "markdown",
   "id": "9a056453",
   "metadata": {},
   "source": [
    "## Lazy Evaluation\n",
    "\n",
    "- Python doesn't quite offer **lazy data structures** in the sense of Haskell. But, with **iterator protocol** and builtin or standard libraries for **iterable**, it can be accomplished\n",
    "  - Haskell's lazy data structure example\n",
    "  ```\n",
    "  primes = sieve [2 ..]\n",
    "    where sieve (p:xs) = p :sieve [x|x <- xs, (x `rem` p) /= 0]\n",
    "  ```\n",
    "  - Python's lazy data structure example "
   ]
  },
  {
   "cell_type": "code",
   "execution_count": 24,
   "id": "9d2b1b06",
   "metadata": {},
   "outputs": [
    {
     "name": "stdout",
     "output_type": "stream",
     "text": [
      "0\n",
      "547\n",
      "101\n"
     ]
    }
   ],
   "source": [
    "# Lazy and Indexible data structure\n",
    "\n",
    "from collections.abc import Sequence\n",
    "from operator import eq, le\n",
    "class ExpandingSequence(Sequence):\n",
    "    def __init__(self, it):\n",
    "        self.__it = it\n",
    "        self.__cache = []\n",
    "    def __len__(self):\n",
    "        return len(self.__cache)\n",
    "    def __getitem__(self, idx):\n",
    "        lazyEval = lambda: self.__cache.append(next(self.__it))\n",
    "        lazySeq = lambda: le(len(self.__cache), idx) and eq(lazyEval(), None) and lazySeq()\n",
    "        lazySeq()\n",
    "        return self.__cache[idx]\n",
    "\n",
    "primes = ExpandingSequence(get_primes())\n",
    "print(len(primes))\n",
    "print(primes[100])\n",
    "print(len(primes))"
   ]
  },
  {
   "cell_type": "markdown",
   "id": "b1901c61",
   "metadata": {},
   "source": [
    "### Iterator protocol\n",
    "- The easiest way to **create** an iterator, that is, a lazy sequence, in Python is to define **generator** \n",
    "- The easiest way to **use** an iterator, is to use one of many iterable objects already produced by builtin or standard libraries\n",
    "- By duck-typing, iterable objects must have **\\_\\_iter\\_\\_** method, which return **iterator**\n",
    "  - To make the iterator of the iterable object, simply use **iter(iterable)** builtin function. It return iterable.\\_\\_iter\\_\\_()\n",
    "- With **\\_\\_next\\_\\_()** method, **\\_\\_iter\\_\\_()** just returns itself and calcuate the next by **\\_\\_next\\_\\_** method\n",
    "\n",
    "#### Abstract class\n",
    "- Iterable is the protocol to make iterable structures\n",
    "  - \\_\\_iter\\_\\_(self) is the only interface to fulfill iterable\n",
    "  - To convert it to iterator, \\_\\_iter\\_\\_ **must** return **the iterator**\n",
    "  - **iter(iterable) returns iterable.\\_\\_iter\\_\\_(self)**\n",
    "- Iterator is the protocol to make iterator structures\n",
    "  - Iterator is a subclass of Iterable\n",
    "  - \\_\\_next\\_\\_(self) is the interface to fulfill iterator\n",
    "  - **next(iterator) returns iterator.\\_\\_next\\_\\_(self)**\n",
    "  \n",
    "#### Idempotent of iterators\n",
    "- An iterator is the iterator. So, ```iter(iterator) == iterator``` and ```iter(iterator) is iterator```"
   ]
  },
  {
   "cell_type": "code",
   "execution_count": 25,
   "id": "b4a72269",
   "metadata": {},
   "outputs": [
    {
     "name": "stdout",
     "output_type": "stream",
     "text": [
      "True\n",
      "fibo0: 1, runing sum: 1\n",
      "fibo1: 1, runing sum: 2\n",
      "fibo2: 2, runing sum: 4\n",
      "fibo3: 3, runing sum: 7\n",
      "fibo4: 5, runing sum: 12\n",
      "fibo5: 8, runing sum: 20\n",
      "fibo6: 13, runing sum: 33\n",
      "fibo7: 21, runing sum: 54\n",
      "fibo8: 34, runing sum: 88\n",
      "fibo9: 55, runing sum: 143\n"
     ]
    }
   ],
   "source": [
    "# Use iterator protocol\n",
    "from collections.abc import Iterator, Iterable\n",
    "\n",
    "print(issubclass(Iterator, Iterable))\n",
    "\n",
    "class Fibonacci(Iterator):\n",
    "    def __init__(self):\n",
    "        self.__a, self.__b = 0, 1\n",
    "        self.__total = 0\n",
    "    def __iter__(self):\n",
    "        return self\n",
    "    def __next__(self):\n",
    "        self.__a, self.__b = self.__b, self.__a + self.__b\n",
    "        self.__total += self.__a\n",
    "        return self.__a\n",
    "    def get_running_sum(self):\n",
    "        return self.__total\n",
    "\n",
    "fibo = Fibonacci()\n",
    "for i in range(10):\n",
    "    print(\"fibo{idx}: {val}, runing sum: {sum}\".format(idx=i, val=next(fibo), sum=fibo.get_running_sum()))\n"
   ]
  },
  {
   "cell_type": "markdown",
   "id": "09b10ab1",
   "metadata": {},
   "source": [
    "### Module: Itertools\n",
    "- A collection of very useful functions for performing iterator algebra\n",
    "- **more_itertools** is also an useful third-party librariy\n",
    "\n",
    "#### Goal\n",
    "- Avoid evalutaions it is really required. So, reduce memory and very slow I/O oepration"
   ]
  },
  {
   "cell_type": "code",
   "execution_count": null,
   "id": "806fd8b7",
   "metadata": {},
   "outputs": [],
   "source": [
    "!pip install more_itertools"
   ]
  },
  {
   "cell_type": "code",
   "execution_count": 26,
   "id": "4c915028",
   "metadata": {},
   "outputs": [
    {
     "name": "stdout",
     "output_type": "stream",
     "text": [
      "1 1\n",
      "1 2\n",
      "2 4\n",
      "3 7\n",
      "5 12\n",
      "8 20\n",
      "13 33\n",
      "21 54\n",
      "34 88\n",
      "55 143\n"
     ]
    }
   ],
   "source": [
    "# Simplify Above Fibonacci Class\n",
    "\n",
    "from itertools import tee, accumulate\n",
    "\n",
    "def fibonacci():\n",
    "    a, b = 1, 1\n",
    "    while True:\n",
    "        yield a\n",
    "        a, b = b, a + b\n",
    "\n",
    "s, t = tee(fibonacci()) # tee split an iteator as two independent same iterators\n",
    "fibo = zip(s, accumulate(t)) # accumulate do partial summing\n",
    "for _, (x, y) in zip(range(10), fibo):\n",
    "    print(x, y)"
   ]
  },
  {
   "cell_type": "markdown",
   "id": "c92cd12b",
   "metadata": {},
   "source": [
    "#### Chaning Iteratables\n",
    "\n",
    "- ```itertools.chain()``` or ```itertools.chain.from_iterable()``` functions combine multiple iterables\n",
    "  - **chain(\\*iterable)** concatenates the iterables in the manner of end to begin\n",
    "  - **chain.from_iterable(iterable)** make chain object with next(iterable) as its arguments\n",
    "  \n",
    "- ```zip()``` or ```itertools.zip_longest()``` functions also do this"
   ]
  },
  {
   "cell_type": "code",
   "execution_count": 27,
   "id": "23801d5c",
   "metadata": {
    "scrolled": true
   },
   "outputs": [
    {
     "name": "stdout",
     "output_type": "stream",
     "text": [
      "1\n",
      "2\n",
      "1\n",
      "2\n",
      "next g()\n",
      "1\n",
      "2\n",
      "next g()\n",
      "1\n",
      "2\n",
      "next g()\n",
      "1\n",
      "2\n",
      "next g()\n",
      "1\n",
      "2\n",
      "1 1\n",
      "None 2\n"
     ]
    }
   ],
   "source": [
    "from itertools import chain, zip_longest\n",
    "\n",
    "x = chain([1], [2])\n",
    "for _ in range(2):\n",
    "    print(next(x))\n",
    "\n",
    "def f():\n",
    "    def g():\n",
    "        x = 1\n",
    "        while x < 3:\n",
    "            yield x\n",
    "            x += 1\n",
    "    while True:\n",
    "        yield g()\n",
    "        print('next g()')\n",
    "\n",
    "x = chain.from_iterable(f())\n",
    "for _ in range(10):\n",
    "    print(next(x))\n",
    "\n",
    "for x, y in zip_longest([1], [1,2]): # shorter iterable fill its place default value, such as None\n",
    "    print(x, y)"
   ]
  },
  {
   "cell_type": "markdown",
   "id": "654ab371",
   "metadata": {},
   "source": [
    "#### Chaining Other structures\n",
    "- ```collections.ChainMap``` concatenates maps, generally subclass of ```collections.abs.Mapping``` like Dictionary\n",
    "- It also iterable over their keys\n",
    "- Without creating Single larger Map, just concatenate maps"
   ]
  },
  {
   "cell_type": "code",
   "execution_count": 28,
   "id": "6aa9a724",
   "metadata": {},
   "outputs": [],
   "source": [
    "from collections import ChainMap\n",
    "\n",
    "x = ChainMap({1: 1}, {2:2})"
   ]
  },
  {
   "cell_type": "markdown",
   "id": "1d04bcbc",
   "metadata": {},
   "source": [
    "## Higher-order functions(HOFs)\n",
    "- Like iterable algebra, HOFs provide similar building blocks to express the complex concept\n",
    "- In general, HOF means that the function takes functions and produce a function\n",
    "- ```functools``` has useful HOFs\n",
    "  - ```reduce``` is an useful HOF\n",
    "- ```map```, ```filter``` are also useful builtin HOFs\n",
    "\n",
    "### Basic HOFs\n",
    "- ```map```, ```filter```, ```functools.reduce``` are basic building blocks\n",
    "  - ```map``` and ```filter``` are equivalent to comprehensions\n",
    "  - ```functools.reduce``` can produce other HOFs\n",
    "    - Anything that can be computed from a sequence of successive elements can be expressed as **reduce**\n",
    "- ```functools.partial``` is also useful. It makes **currying**"
   ]
  },
  {
   "cell_type": "code",
   "execution_count": 29,
   "id": "a7508247",
   "metadata": {},
   "outputs": [
    {
     "name": "stdout",
     "output_type": "stream",
     "text": [
      "1 2 3 4 5\n"
     ]
    }
   ],
   "source": [
    "from functools import reduce, partial\n",
    "\n",
    "# Classic FP-style\n",
    "transformed = map(lambda x: x + 1, [1,2,3])\n",
    "\n",
    "# Comprehension\n",
    "def transform(x): return x + 1\n",
    "transformed = (transform(x) for x in [1,2,3])\n",
    "\n",
    "# Classic FP-style\n",
    "filtered = filter(lambda x: x%2 == 0, [1,2,3,4])\n",
    "\n",
    "# Comprehension\n",
    "def predicate(x): return x%2 == 0\n",
    "filtered = (x for x in [1,2,3,4] if predicate(x))\n",
    "\n",
    "# Make map by reduce\n",
    "def add5(x): return x + 5\n",
    "map_by_reduce = lambda f, lst: iter(reduce(lambda l, x: l + [f(x)], lst, []))\n",
    "\n",
    "# Make filter by reduce\n",
    "def predicate(x): return x % 2 == 0\n",
    "filter_by_reduce = lambda f, lst: iter(reduce(lambda l, x: l + [x] if predicate(x) else l, lst, []))\n",
    "\n",
    "# partial\n",
    "def f(a, b, c, d, e):\n",
    "    print(a, b, c, d,e)\n",
    "partialF = partial(f, 1, 2, 3)\n",
    "partialF(4,5)"
   ]
  },
  {
   "cell_type": "markdown",
   "id": "d3e26112",
   "metadata": {},
   "source": [
    "### The operator Module\n",
    "- Every operations that can be done with Python's infix and prefix operators corresponds to a named function in **operator** module"
   ]
  },
  {
   "cell_type": "code",
   "execution_count": null,
   "id": "68edf234",
   "metadata": {},
   "outputs": [],
   "source": [
    "from operator import add\n",
    "add(3,4)"
   ]
  },
  {
   "cell_type": "markdown",
   "id": "392e620f",
   "metadata": {},
   "source": [
    "### The functools Module\n",
    "- Python's HOFs is placed in **functools** obviously\n",
    "\n",
    "### Decorator\n",
    "- The most common use of HOFs is as decorators\n",
    "- A decorator is just a **syntax sugar** that takes a function as an argument and produce the enhanced function as result\n",
    "- In some ways, decorator tie in **Aspect Oriented Programming**\n",
    "- Decorators in general are more useful when you want to **poke into the guts of a function** than when you want to treat it as a pluggable component in a flow or composition of functions, often done to mark the purpose or capabilities of a particular function.\n",
    "\n",
    "#### Functools's decorators\n",
    "- ```functools.lru_cache```\n",
    "  - memorize function's arguments and result pair and return stored value rather than re-computation\n",
    "  - To use it, decorated function **must be pure**\n",
    "- ```functools.total_ordering```\n",
    "  - make it easier to write costum classes that want to use inequality operators\n",
    "  - If implementing ```\\_\\_eq\\_\\_``` and one of ```\\_\\_gt\\_\\_```, ```\\_\\_ge\\_\\_```, ```\\_\\_lt\\_\\_```, ```\\_\\_le\\_\\_```, then remains are written automatically\n",
    "  - But, its speed is slower than explicit implemantations\n",
    "- ```functools.wraps```\n",
    "  - make it easier to write custom decorators"
   ]
  },
  {
   "cell_type": "code",
   "execution_count": 30,
   "id": "ebd903e1",
   "metadata": {},
   "outputs": [
    {
     "name": "stdout",
     "output_type": "stream",
     "text": [
      "enhanced\n"
     ]
    }
   ],
   "source": [
    "def enhanced(f):\n",
    "    print(\"enhanced\")\n",
    "    return f\n",
    "\n",
    "@enhanced\n",
    "def something(x):\n",
    "    print(x)"
   ]
  },
  {
   "cell_type": "code",
   "execution_count": 31,
   "id": "9e3f0799",
   "metadata": {},
   "outputs": [
    {
     "name": "stdout",
     "output_type": "stream",
     "text": [
      "Calling decorated function\n",
      "Called example function\n"
     ]
    }
   ],
   "source": [
    "from functools import lru_cache, total_ordering, wraps\n",
    "\n",
    "x = 1\n",
    "@lru_cache\n",
    "def f():\n",
    "    global x\n",
    "    print('calculated')\n",
    "    return x*x\n",
    "# print(f())\n",
    "# x = 2\n",
    "# print(f()) # Unexpected result 'cause f isn't pure\n",
    "\n",
    "@lru_cache\n",
    "def f(x):\n",
    "    print('calculated')\n",
    "    return x*x\n",
    "# print(f(1))\n",
    "# print(f(1))\n",
    "\n",
    "@total_ordering\n",
    "class customInt:\n",
    "    def __init__(self, n):\n",
    "        self.n = n\n",
    "    def __eq__(self, other):\n",
    "        if isinstance(other, A):\n",
    "            return self.n == other.n\n",
    "        return False\n",
    "    def __lt__(self, other):\n",
    "        if isinstance(other, A):\n",
    "            return self.n < other.n\n",
    "        return False\n",
    "\n",
    "x = customInt(1)\n",
    "y = customInt(2)\n",
    "# print(x < y)\n",
    "# print(x > y)\n",
    "# print(x <= y)\n",
    "# print(x >= y)\n",
    "# print(x == y)\n",
    "\n",
    "def custom_decorator(f):\n",
    "    @wraps(f)\n",
    "    def wrapper(*args:\"cool\", **kwds:\"happy\")->\"join\":\n",
    "        '''wrapper docstring'''\n",
    "        print('Calling decorated function')\n",
    "        return f(*args, **kwds)\n",
    "    return wrapper\n",
    "\n",
    "@custom_decorator\n",
    "def example():\n",
    "    '''Docstring'''\n",
    "    print('Called example function')\n",
    "example()\n",
    "# print(example.__name__) #without wraps, name is wrapper\n",
    "# print(example.__doc__) #without wraps, doc is wrapper's docstring\n",
    "# example #witout wraps, signiture's annotation is wrapper's annotation"
   ]
  }
 ],
 "metadata": {
  "kernelspec": {
   "display_name": "Python 3 (ipykernel)",
   "language": "python",
   "name": "python3"
  },
  "language_info": {
   "codemirror_mode": {
    "name": "ipython",
    "version": 3
   },
   "file_extension": ".py",
   "mimetype": "text/x-python",
   "name": "python",
   "nbconvert_exporter": "python",
   "pygments_lexer": "ipython3",
   "version": "3.10.4"
  }
 },
 "nbformat": 4,
 "nbformat_minor": 5
}

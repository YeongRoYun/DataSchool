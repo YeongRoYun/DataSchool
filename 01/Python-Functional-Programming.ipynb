{
 "cells": [
  {
   "cell_type": "markdown",
   "id": "edb00042",
   "metadata": {},
   "source": [
    "# Functional Programming\n",
    "\n",
    "## Characteristics\n",
    "\n",
    "- Function is a first-class object\n",
    "- Recursion is used as a primary control structure\n",
    "- There is a focus on list processing\n",
    "  - Lists are often used with recursions on sublists as a substitude for loops\n",
    "- The pure functional paradigm has no side effects\n",
    "- Not statements, Use expression like function with arguments\n",
    "- Describe what is to be computed instead of how to be computed\n",
    "- There are higher-order functions that produce functions\n",
    "- Functional Programming supposes data, not datum\n",
    "  - processing several data is default"
   ]
  },
  {
   "cell_type": "code",
   "execution_count": 4,
   "id": "3f70304d",
   "metadata": {},
   "outputs": [
    {
     "name": "stdout",
     "output_type": "stream",
     "text": [
      "2\n",
      "2\n"
     ]
    }
   ],
   "source": [
    "# Statement\n",
    "x = 1 + 1\n",
    "print(x)\n",
    "# Expression\n",
    "plus = lambda x, y: x+y\n",
    "x = plus(1, 1)\n",
    "print(x)"
   ]
  },
  {
   "cell_type": "markdown",
   "id": "6ed6caa9",
   "metadata": {},
   "source": [
    "## Pure Function\n",
    "\n",
    "#### The pure function returns the same result given the same arguments\n",
    "\n",
    "### Benefits\n",
    "- Formal provability\n",
    "  - Can construct a mathematical proof easier\n",
    "- Modularity\n",
    "- Composability\n",
    "- Ease of debugging and testing"
   ]
  },
  {
   "cell_type": "markdown",
   "id": "7c7cbf4c",
   "metadata": {},
   "source": [
    "## Avoiding Flow Control\n",
    "\n",
    "- Typically, loop statements, **for** and **while**, or branch statements, **if** and **try** is used for flow control \n",
    "- But, It can have side effects, so each results can be different\n",
    "- Also, It focus to how to be computed rather than what to be computed\n",
    "\n",
    "### Encapsulation\n",
    "\n",
    "- One simple way to focus **what** is to refactor code, and put the data structure into an isolated place, such as function or method"
   ]
  },
  {
   "cell_type": "code",
   "execution_count": 9,
   "id": "b8b9ee61",
   "metadata": {},
   "outputs": [],
   "source": [
    "# Imperative\n",
    "def condition(state_var):\n",
    "    pass\n",
    "def calculate_from(datum):\n",
    "    pass\n",
    "def modify(datum, stateVar):\n",
    "    pass\n",
    "def processing(thing):\n",
    "    pass\n",
    "\n",
    "collection = []\n",
    "stateVar = None\n",
    "dataset = [i for i in range(1, 10)]\n",
    "for datum in dataset:\n",
    "    if condition(stateVar):\n",
    "        stateVar = calculate_from(datum)\n",
    "        new = modify(datum, stateVar)\n",
    "        collection.append(new)\n",
    "        \n",
    "# Encapsulation\n",
    "def make_collection():\n",
    "    collection = []\n",
    "    stateVar = None\n",
    "    dataset = [i for i in range(1, 10)]\n",
    "    for datum in dataset:\n",
    "        if condition(stateVar):\n",
    "            stateVar = calculate_from(datum)\n",
    "            new = modify(datum, stateVar)\n",
    "            collection.append(new)\n",
    "    return collection\n",
    "\n",
    "collection = make_collection()\n",
    "\n",
    "for thing in collection:\n",
    "    processing(thing)"
   ]
  },
  {
   "cell_type": "markdown",
   "id": "74a0216c",
   "metadata": {},
   "source": [
    "### Comprehension\n",
    "\n",
    "- The comprehension is an expression that uses same keywords as loop and condition blocks, but inverts their order to focus on data\n",
    "- The comprehension is optimistic, so faster but consum larger memory"
   ]
  },
  {
   "cell_type": "code",
   "execution_count": 1,
   "id": "9cd64fd5",
   "metadata": {},
   "outputs": [
    {
     "name": "stdout",
     "output_type": "stream",
     "text": [
      "Collecting memory_profiler\n",
      "  Downloading memory_profiler-0.60.0.tar.gz (38 kB)\n",
      "  Preparing metadata (setup.py) ... \u001b[?25ldone\n",
      "\u001b[?25hRequirement already satisfied: psutil in /Users/teddy/miniforge3/envs/Data/lib/python3.10/site-packages (from memory_profiler) (5.9.1)\n",
      "Building wheels for collected packages: memory_profiler\n",
      "  Building wheel for memory_profiler (setup.py) ... \u001b[?25ldone\n",
      "\u001b[?25h  Created wheel for memory_profiler: filename=memory_profiler-0.60.0-py3-none-any.whl size=31267 sha256=b05aff6cbbbd87d33934bce61ffec9e0730f9cf258c476de34a7fffe51111ab6\n",
      "  Stored in directory: /Users/teddy/Library/Caches/pip/wheels/1e/2f/ec/05ba593810ab1a8f607baaec73f43a9238627f12e7bbb0d1a7\n",
      "Successfully built memory_profiler\n",
      "Installing collected packages: memory_profiler\n",
      "Successfully installed memory_profiler-0.60.0\n"
     ]
    }
   ],
   "source": [
    "!pip install memory_profiler\n",
    "%load_ext memory_profiler"
   ]
  },
  {
   "cell_type": "code",
   "execution_count": 5,
   "id": "b60eba0a",
   "metadata": {},
   "outputs": [
    {
     "name": "stdout",
     "output_type": "stream",
     "text": [
      "peak memory: 486.25 MiB, increment: -0.02 MiB\n",
      "peak memory: 562.55 MiB, increment: 0.00 MiB\n"
     ]
    }
   ],
   "source": [
    "def condition(datum):\n",
    "    pass\n",
    "def modify(datum):\n",
    "    pass\n",
    "dataset = [i for i in range(10000000)]\n",
    "\n",
    "# Imperative\n",
    "collection = []\n",
    "%memit\n",
    "for datum in dataset:\n",
    "    if condition(datum):\n",
    "        collection.append(datum)\n",
    "    else:\n",
    "        new = modify(datum)\n",
    "        collection.append(new)\n",
    "\n",
    "# Comprehension\n",
    "%memit\n",
    "collection = [datum if condition(datum) else modify(datum) for datum in dataset]"
   ]
  },
  {
   "cell_type": "markdown",
   "id": "51c2308b",
   "metadata": {},
   "source": [
    "### Generators\n",
    "\n",
    "- The generator comprehension has same syntax as list comprehension except square brackets, using parenthesis\n",
    "- Use lazy-evaluation, so how to get datum is hiden until it is needed, just describe what data is\n",
    "- **.next()** or **next looping** are used to access datum\n",
    "- **itertools** module is used to make generators"
   ]
  },
  {
   "cell_type": "code",
   "execution_count": null,
   "id": "9685e7a2",
   "metadata": {},
   "outputs": [],
   "source": [
    "import itertools\n",
    "itertools."
   ]
  },
  {
   "cell_type": "code",
   "execution_count": 13,
   "id": "768dbe77",
   "metadata": {},
   "outputs": [],
   "source": [
    "def read_line(hugLogFile):\n",
    "    pass\n",
    "def complex_condition(line):\n",
    "    pass\n",
    "\n",
    "hugLogFile = [i for i in range(10)]\n",
    "\n",
    "# Literal\n",
    "logLines = (line for line in read_line(hugLogFile) if complex_condition(line))\n",
    "\n",
    "# Imperative\n",
    "def get_log_lines(logFile):\n",
    "    line = read_line(hugLogFile)\n",
    "    while True:\n",
    "        try:\n",
    "            if complex_condition(line):\n",
    "                yield line\n",
    "            line = read_line(hugLogFile)\n",
    "        except StopIteration:\n",
    "            raise # same exception is passed\n",
    "\n",
    "logLines = get_log_lines(hugLogFile)\n",
    "\n",
    "# Use Iterator protocol\n",
    "class GetLogLines(object):\n",
    "    def __init__(self, logFile):\n",
    "        self.__logFile = logFile\n",
    "        self.__line = None\n",
    "    def __iter__(self):\n",
    "        return self\n",
    "    def __next__(self):\n",
    "        if self.__line == None:\n",
    "            self.__line = read_line(self.__logFile)\n",
    "        while not complex_condition(self.__line):\n",
    "            self.__line = read_line(self.__logFile)\n",
    "        return self.__line\n",
    "\n",
    "logLines = getLogLines(hugLogFile)"
   ]
  },
  {
   "cell_type": "markdown",
   "id": "258584a6",
   "metadata": {},
   "source": [
    "### Dics and Sets\n",
    "\n",
    "#### Dics\n",
    "```\n",
    "{key: val for key, val in zip(keys, values)}\n",
    "```\n",
    "\n",
    "#### Sets\n",
    "```\n",
    "{mem for mem in data}\n",
    "```"
   ]
  },
  {
   "cell_type": "markdown",
   "id": "c4ce3532",
   "metadata": {},
   "source": [
    "### Recursion\n",
    "\n",
    "- In functional programming, the recursion expression replaces the loop statement\n",
    "- In recursion style, Must distingush two cases\n",
    "  - Just iteration by another name\n",
    "  - A program can be readily be partitioned into smaller problems\n",
    "- Effective recursion of pure functional language(not python)\n",
    "  - Tail call elimination can be used to save memory\n",
    "- In python, can be change recursion depth by ```sys.setrecursionlimit(cnt)```, default = 1000\n",
    "- **functools** and **operator** is used to simplify recursion"
   ]
  },
  {
   "cell_type": "code",
   "execution_count": 15,
   "id": "a9911386",
   "metadata": {},
   "outputs": [],
   "source": [
    "# Just Iteration by another name\n",
    "def sum(data):\n",
    "    return data.pop() + sum(data) if data else 0\n",
    "\n",
    "# Divide & Cunquer\n",
    "def search(datum:\"Datum\", searchTree:\"SearchTree\")->\"Node\":\n",
    "    if searchTree.root.datum == datum:\n",
    "        return searchTree.root\n",
    "    elif searchTree.root.datum < datum:\n",
    "        return search(datum, searchTree.leftTree)\n",
    "    else:\n",
    "        return search(datum, searchTree.rightTree)"
   ]
  },
  {
   "cell_type": "code",
   "execution_count": 24,
   "id": "f167065b",
   "metadata": {},
   "outputs": [
    {
     "data": {
      "text/plain": [
       "24"
      ]
     },
     "execution_count": 24,
     "metadata": {},
     "output_type": "execute_result"
    }
   ],
   "source": [
    "from functools import reduce\n",
    "from operator import mul\n",
    "\n",
    "def factorialHOF(n):\n",
    "    return reduce(mul, range(1, n+1), 1)"
   ]
  },
  {
   "cell_type": "markdown",
   "id": "e76fe189",
   "metadata": {},
   "source": [
    "### Eliminating Loop\n",
    "- If function is called in loop, just use **map**\n",
    "- \n"
   ]
  },
  {
   "cell_type": "code",
   "execution_count": 6,
   "id": "40504cc8",
   "metadata": {},
   "outputs": [],
   "source": [
    "dataset = [i for i in range(pow(10,5))]"
   ]
  },
  {
   "cell_type": "code",
   "execution_count": 9,
   "id": "ab128cd1",
   "metadata": {},
   "outputs": [
    {
     "name": "stdout",
     "output_type": "stream",
     "text": [
      "CPU times: user 2 µs, sys: 1 µs, total: 3 µs\n",
      "Wall time: 7.15 µs\n",
      "CPU times: user 2 µs, sys: 1 µs, total: 3 µs\n",
      "Wall time: 5.25 µs\n"
     ]
    },
    {
     "data": {
      "text/plain": [
       "<map at 0x1112a7ca0>"
      ]
     },
     "execution_count": 9,
     "metadata": {},
     "output_type": "execute_result"
    }
   ],
   "source": [
    "def f(i):\n",
    "    i*i\n",
    "\n",
    "%time\n",
    "for datum in dataset:\n",
    "    f(datum)\n",
    "\n",
    "%time\n",
    "map(f, dataset)"
   ]
  }
 ],
 "metadata": {
  "kernelspec": {
   "display_name": "Python 3 (ipykernel)",
   "language": "python",
   "name": "python3"
  },
  "language_info": {
   "codemirror_mode": {
    "name": "ipython",
    "version": 3
   },
   "file_extension": ".py",
   "mimetype": "text/x-python",
   "name": "python",
   "nbconvert_exporter": "python",
   "pygments_lexer": "ipython3",
   "version": "3.10.4"
  }
 },
 "nbformat": 4,
 "nbformat_minor": 5
}

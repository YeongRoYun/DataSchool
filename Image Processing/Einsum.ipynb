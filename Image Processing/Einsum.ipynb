{
 "cells": [
  {
   "cell_type": "markdown",
   "id": "e685dd41",
   "metadata": {},
   "source": [
    "# Einsum\n",
    "\n",
    "## Einsum Notation\n",
    "- Using DSL, simplify the **tensor operation**\n",
    "- About almost operations, calculate it **without inter-operations**\n",
    "- It's po\n",
    "\n",
    "## Frameworks\n",
    "- Numpy via np.einsum\n",
    "- Pytorch via torch.einsum\n",
    "- Tensorflow via tf.einsum\n",
    "\n",
    "## Numpy Einsum\n",
    "```numpy.einsum(equation, operands)```\n",
    "- Equation is a string representation the Einstein summation\n",
    "- Operands are the sequences of tnesors\n",
    "\n",
    "### Equation\n",
    "- 1D tensor inner product ```a,a->```\n",
    "- 1D tensor elemetwise product ```a,a->a```\n",
    "- 1D tensor outer product ```a,b->ab```\n",
    "- Matrix transposition ```ab->ba```\n",
    "- Matrix diagonal ```ii-i```\n",
    "- Matrix trace ```ii->```\n",
    "- 1D sum ```a->```\n",
    "- 2D sum ```ab->```\n",
    "- 3D sum ```abc->```\n",
    "- 2D tensor inner product ```ab,ab->```\n",
    "- Left-multiplication Matrix-Vector ```ab,b->a```\n",
    "- Right-multiplication Vector-Matrix ```a,ab->b```\n",
    "- Matrix multiplication ```ab,bc->ac```\n",
    "- Batch Matrix Multiply ```Yab,Ybc->Yac```\n",
    "- "
   ]
  },
  {
   "cell_type": "code",
   "execution_count": 10,
   "id": "aa77361e",
   "metadata": {},
   "outputs": [
    {
     "data": {
      "text/plain": [
       "3"
      ]
     },
     "execution_count": 10,
     "metadata": {},
     "output_type": "execute_result"
    }
   ],
   "source": [
    "import numpy as np\n",
    "\n",
    "for i in range(10):\n",
    "    exec(\"a{}=np.random.normal()\".format(i))"
   ]
  },
  {
   "cell_type": "code",
   "execution_count": 15,
   "id": "bdf1695a",
   "metadata": {},
   "outputs": [
    {
     "data": {
      "text/plain": [
       "(4,)"
      ]
     },
     "execution_count": 15,
     "metadata": {},
     "output_type": "execute_result"
    }
   ],
   "source": [
    "np.random.normal((3,4, 4, 5)).shape"
   ]
  }
 ],
 "metadata": {
  "kernelspec": {
   "display_name": "Python 3 (ipykernel)",
   "language": "python",
   "name": "python3"
  },
  "language_info": {
   "codemirror_mode": {
    "name": "ipython",
    "version": 3
   },
   "file_extension": ".py",
   "mimetype": "text/x-python",
   "name": "python",
   "nbconvert_exporter": "python",
   "pygments_lexer": "ipython3",
   "version": "3.10.4"
  }
 },
 "nbformat": 4,
 "nbformat_minor": 5
}

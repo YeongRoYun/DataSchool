{
 "cells": [
  {
   "cell_type": "code",
   "execution_count": 2,
   "id": "9fc7c332",
   "metadata": {},
   "outputs": [],
   "source": [
    "import numpy as np\n",
    "import pandas as pd\n",
    "import matplotlib.pyplot as plt\n",
    "import seaborn as sns"
   ]
  },
  {
   "cell_type": "markdown",
   "id": "f50fa791",
   "metadata": {},
   "source": [
    "# Numpy\n",
    "https://numpy.org/doc/stable/\n",
    "- Implemented by C\n",
    "- Based on **CPU** (Vectorization)\n",
    "- Doesn't support Python generic, DL/ML functions\n",
    "\n",
    "## + DL + GPU\n",
    "- Pytorch(Facebook) -> Tensor based on NUMPY\n",
    "- Tensorflow(Google) -> based on NUMPY\n",
    "- SKlearn -> based on NUMPY, but doesn't support GPU\n",
    "  - \n",
    "\n",
    "## NDArray\n",
    "```Block memory + Indexing Scheme + Data Type Descriptor```\n",
    "- Row-major\n",
    "- Homogeneous Type\n",
    "  - All elements in ndarray are the same type\n",
    "  - Faster\n",
    "- Implemented by **Array**, not **Linked List**\n",
    "  - Python List is implemented by Linked List\n",
    "- If objects have ```\\_\\_array\\_\\_``` method, it can be compatible with NDArray\n",
    "  - ```np.array``` method is used for converting object to NDArray\n",
    "  \n",
    "### dType\n",
    "- It's important for the time and space performance\n",
    "- Both the types of C and the types of Python are supported\n",
    "  - C is faster\n",
    "  - **Smaller type is better than larger**\n",
    "- Since NDArray is homogeneous, type is adjusted as the most general type\n",
    "- Specify dType is ```dtype = np.Type```\n",
    "- Check dType is ```object.dtype```\n",
    "- Convert dType is ```object.astype(np.Type)```\n"
   ]
  },
  {
   "cell_type": "code",
   "execution_count": 106,
   "id": "fdf837f2",
   "metadata": {},
   "outputs": [
    {
     "name": "stdout",
     "output_type": "stream",
     "text": [
      "dict_keys(['?', 0, 'byte', 'b', 1, 'ubyte', 'B', 2, 'short', 'h', 3, 'ushort', 'H', 4, 'i', 5, 'uint', 'I', 6, 'intp', 'p', 7, 'uintp', 'P', 8, 'long', 'l', 'L', 'longlong', 'q', 9, 'ulonglong', 'Q', 10, 'half', 'e', 23, 'f', 11, 'double', 'd', 12, 'longdouble', 'g', 13, 'cfloat', 'F', 14, 'cdouble', 'D', 15, 'clongdouble', 'G', 16, 'O', 17, 'S', 18, 'unicode', 'U', 19, 'void', 'V', 20, 'M', 21, 'm', 22, 'bool8', 'b1', 'int64', 'i8', 'uint64', 'u8', 'float16', 'f2', 'float32', 'f4', 'float64', 'f8', 'complex64', 'c8', 'complex128', 'c16', 'object0', 'bytes0', 'str0', 'void0', 'datetime64', 'M8', 'timedelta64', 'm8', 'int32', 'i4', 'uint32', 'u4', 'int16', 'i2', 'uint16', 'u2', 'int8', 'i1', 'uint8', 'u1', 'complex_', 'int0', 'uint0', 'single', 'csingle', 'singlecomplex', 'float_', 'intc', 'uintc', 'int_', 'longfloat', 'clongfloat', 'longcomplex', 'bool_', 'bytes_', 'string_', 'str_', 'unicode_', 'object_', 'int', 'float', 'complex', 'bool', 'object', 'str', 'bytes', 'a'])\n",
      "4.14 s ± 126 ms per loop (mean ± std. dev. of 7 runs, 1 loop each)\n",
      "481 ms ± 109 ms per loop (mean ± std. dev. of 7 runs, 1 loop each)\n"
     ]
    }
   ],
   "source": [
    "# Check supported type\n",
    "print(np.sctypeDict.keys())\n",
    "\n",
    "# Performance\n",
    "x = np.ones((int(1e9),), dtype=np.int64)\n",
    "y = np.zeros((int(1e9),), dtype=np.int16)\n",
    "\n",
    "%timeit x*x\n",
    "%timeit y*y"
   ]
  },
  {
   "cell_type": "markdown",
   "id": "c2e129dd",
   "metadata": {},
   "source": [
    "## Vectorization\n",
    "- Arrays enable to express **batch operations** on data without any loop 'cause **sequential**\n",
    "- Vectorization means the operations of sequential data on elementwise\n",
    "- Numpy's ndarray is array-like. So, it can do parallels but it's important that the numpy is optimied at Big-Data. Thus, in small data, basic python list can be faster\n",
    "\n",
    "\n",
    "\n",
    "## Shape and Stride\n",
    "\n",
    "### Shape\n",
    "- ```(z, y, x)```\n",
    "- Each ```vector``` has x elements\n",
    "- Each ```matrix``` has y vectors\n",
    "- Each ```3D array``` has z matrics\n",
    "- **NDIM** is equals to ```len(shape)```\n",
    "- Each ndarray is called by **NDIM** Tensor\n",
    "  - shape = (n,) is 1st tensor, same as vector\n",
    "  - shape = (m,n,) is 2nd tensor, same as matrix\n",
    "  - shape = (p,m,n,) is 3rd tensor\n",
    "- Examples(Dataset structure)\n",
    "  - ```Vector Data```\n",
    "    - Simple Dataset\n",
    "    - 2D tensor(samples, features)\n",
    "  - ```Timeseries or Sequential Data```\n",
    "    - NL or Audio\n",
    "    - 3D tensor(samples, timesteps, features)\n",
    "  - ```Images Data```\n",
    "    - 4D tensor(samples, height, width, channels) or (samples, channels, height, width)\n",
    "  - ```Videos Data```\n",
    "    - 5D tensor(samples, frames, Image)\n",
    "    \n",
    "### Stride\n",
    "- ```(matrix's stride, vector's stride, element's stride)```\n",
    "- stride is based on **octet**\n",
    "- ```transpose``` changes the strides of ndarray and set flag **transpose** so just **O(1)**"
   ]
  },
  {
   "cell_type": "code",
   "execution_count": 45,
   "id": "f4a55c24",
   "metadata": {},
   "outputs": [],
   "source": [
    "tensor = np.arange(100, dtype=np.int32).reshape((5, 5, 4, 1))\n",
    "assert tensor.ndim == 4 == len(tensor.shape)\n",
    "assert tensor.strides == (4*20, 4*4, 4*1, 4*1)\n",
    "assert tensor.transpose().strides == (4*1, 4*1, 4*4, 4*20)"
   ]
  },
  {
   "cell_type": "markdown",
   "id": "4ee94599",
   "metadata": {},
   "source": [
    "## Broadcasting\n",
    "- Operation with **different-shape** arrays\n",
    "- Basic numeric operation aren't applied at different shapes\n",
    "- By **PULLING** tensor, the operation can be done\n",
    "- **PULLING** doesn't copy memory. Just re-use if it is fulfilled\n",
    "\n",
    "### Pulling Condition\n",
    "- The paired dimension is same\n",
    "- Pairing can't be transposed\n",
    "- Pulled demension **must** be ```1```\n",
    "- Pulling follows tensor definition\n",
    "  - 1D -> 2D -> 3D -> ..."
   ]
  },
  {
   "cell_type": "code",
   "execution_count": 68,
   "id": "3120e0c0",
   "metadata": {},
   "outputs": [
    {
     "ename": "ValueError",
     "evalue": "operands could not be broadcast together with shapes (10,) (2,) ",
     "output_type": "error",
     "traceback": [
      "\u001b[0;31m---------------------------------------------------------------------------\u001b[0m",
      "\u001b[0;31mValueError\u001b[0m                                Traceback (most recent call last)",
      "Input \u001b[0;32mIn [68]\u001b[0m, in \u001b[0;36m<cell line: 5>\u001b[0;34m()\u001b[0m\n\u001b[1;32m      3\u001b[0m x \u001b[38;5;241m+\u001b[39m y\n\u001b[1;32m      4\u001b[0m z \u001b[38;5;241m=\u001b[39m np\u001b[38;5;241m.\u001b[39mones((\u001b[38;5;241m2\u001b[39m,))\n\u001b[0;32m----> 5\u001b[0m \u001b[43mx\u001b[49m\u001b[43m \u001b[49m\u001b[38;5;241;43m+\u001b[39;49m\u001b[43m \u001b[49m\u001b[43mz\u001b[49m\n",
      "\u001b[0;31mValueError\u001b[0m: operands could not be broadcast together with shapes (10,) (2,) "
     ]
    }
   ],
   "source": [
    "x = np.ones((10,))\n",
    "y = np.ones((1,))\n",
    "x + y\n",
    "z = np.ones((2,))\n",
    "x + z # Error"
   ]
  },
  {
   "cell_type": "code",
   "execution_count": 73,
   "id": "5f1d8934",
   "metadata": {
    "scrolled": true
   },
   "outputs": [
    {
     "ename": "ValueError",
     "evalue": "operands could not be broadcast together with shapes (2,3) (3,1) ",
     "output_type": "error",
     "traceback": [
      "\u001b[0;31m---------------------------------------------------------------------------\u001b[0m",
      "\u001b[0;31mValueError\u001b[0m                                Traceback (most recent call last)",
      "Input \u001b[0;32mIn [73]\u001b[0m, in \u001b[0;36m<cell line: 9>\u001b[0;34m()\u001b[0m\n\u001b[1;32m      6\u001b[0m x \u001b[38;5;241m+\u001b[39m z\n\u001b[1;32m      8\u001b[0m w \u001b[38;5;241m=\u001b[39m np\u001b[38;5;241m.\u001b[39mones((\u001b[38;5;241m3\u001b[39m, \u001b[38;5;241m1\u001b[39m)) \u001b[38;5;66;03m# shape = (3, 1)\u001b[39;00m\n\u001b[0;32m----> 9\u001b[0m \u001b[43mx\u001b[49m\u001b[43m \u001b[49m\u001b[38;5;241;43m+\u001b[39;49m\u001b[43m \u001b[49m\u001b[43mw\u001b[49m\n",
      "\u001b[0;31mValueError\u001b[0m: operands could not be broadcast together with shapes (2,3) (3,1) "
     ]
    }
   ],
   "source": [
    "x = np.ones((2, 3)) # shape = (2, 3)\n",
    "y = np.ones((3,)) # shape = (1, 3)\n",
    "x + y\n",
    "\n",
    "z = np.ones((2, 1)) # shape = (2,1)\n",
    "x + z\n",
    "\n",
    "w = np.ones((3, 1)) # shape = (3, 1)\n",
    "x + w # Error"
   ]
  },
  {
   "cell_type": "code",
   "execution_count": 84,
   "id": "2a7f966c",
   "metadata": {},
   "outputs": [
    {
     "ename": "ValueError",
     "evalue": "operands could not be broadcast together with shapes (3,4,5) (3,4) ",
     "output_type": "error",
     "traceback": [
      "\u001b[0;31m---------------------------------------------------------------------------\u001b[0m",
      "\u001b[0;31mValueError\u001b[0m                                Traceback (most recent call last)",
      "Input \u001b[0;32mIn [84]\u001b[0m, in \u001b[0;36m<cell line: 9>\u001b[0;34m()\u001b[0m\n\u001b[1;32m      6\u001b[0m x \u001b[38;5;241m+\u001b[39m z \n\u001b[1;32m      8\u001b[0m w \u001b[38;5;241m=\u001b[39m np\u001b[38;5;241m.\u001b[39mones((\u001b[38;5;241m3\u001b[39m, \u001b[38;5;241m4\u001b[39m)) \u001b[38;5;66;03m# shape = (3, 4)\u001b[39;00m\n\u001b[0;32m----> 9\u001b[0m \u001b[43mx\u001b[49m\u001b[43m \u001b[49m\u001b[38;5;241;43m+\u001b[39;49m\u001b[43m \u001b[49m\u001b[43mw\u001b[49m\n",
      "\u001b[0;31mValueError\u001b[0m: operands could not be broadcast together with shapes (3,4,5) (3,4) "
     ]
    }
   ],
   "source": [
    "x = np.ones((3, 4, 5)) # shape = (3, 4, 5)\n",
    "y = np.ones((5, )) # shape = (1, 5)\n",
    "x + y\n",
    "\n",
    "z = np.ones((4, 5)) # shape = (1, 4, 5)\n",
    "x + z \n",
    "\n",
    "w = np.ones((3, 4)) # shape = (3, 4)\n",
    "x + w # Error 'cause (3, 4) is higher dimension in 3D tensor"
   ]
  },
  {
   "cell_type": "markdown",
   "id": "178bb4b9",
   "metadata": {},
   "source": [
    "## ufunc(universal Functions)\n",
    "- Numpy supports vectorized operations already compiled\n",
    "- The operations apply elementwise defaultly\n",
    "- It is **UFUNC**\n",
    "\n",
    "### Benefits\n",
    "- Simple and Optimistic\n",
    "- How to do is better, faster than What to do\n",
    "  - By using dtype, the performance can be upgraded\n",
    "- Vectorization is better than loop\n",
    "- **DON't** mix default python functions"
   ]
  },
  {
   "cell_type": "code",
   "execution_count": 91,
   "id": "8d9670ad",
   "metadata": {},
   "outputs": [
    {
     "data": {
      "text/plain": [
       "array([-20, -19, -18, -17, -16, -15, -14, -13, -12, -11, -10,  -9,  -8,\n",
       "        -7,  -6,  -5,  -4,  -3,  -2,  -1])"
      ]
     },
     "execution_count": 91,
     "metadata": {},
     "output_type": "execute_result"
    }
   ],
   "source": [
    "# ufunc for one-tensor\n",
    "x = np.arange(-20, 0)\n",
    "np.abs(x)\n",
    "\n",
    "# ufunc for more tensors\n",
    "y = np.arange(1, 2)\n",
    "np.add(x, y) # broadcasting and casting is supported\n",
    "np.floor_divide(x, y)"
   ]
  },
  {
   "cell_type": "code",
   "execution_count": null,
   "id": "de16f56a",
   "metadata": {},
   "outputs": [],
   "source": []
  }
 ],
 "metadata": {
  "kernelspec": {
   "display_name": "Python 3 (ipykernel)",
   "language": "python",
   "name": "python3"
  },
  "language_info": {
   "codemirror_mode": {
    "name": "ipython",
    "version": 3
   },
   "file_extension": ".py",
   "mimetype": "text/x-python",
   "name": "python",
   "nbconvert_exporter": "python",
   "pygments_lexer": "ipython3",
   "version": "3.10.4"
  }
 },
 "nbformat": 4,
 "nbformat_minor": 5
}

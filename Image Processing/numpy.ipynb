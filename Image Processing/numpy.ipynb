{
 "cells": [
  {
   "cell_type": "code",
   "execution_count": 2,
   "id": "9fc7c332",
   "metadata": {},
   "outputs": [],
   "source": [
    "import numpy as np\n",
    "import pandas as pd\n",
    "import matplotlib.pyplot as plt\n",
    "import seaborn as sns"
   ]
  },
  {
   "cell_type": "markdown",
   "id": "f50fa791",
   "metadata": {},
   "source": [
    "# Numpy\n",
    "https://numpy.org/doc/stable/\n",
    "- Implemented by C\n",
    "- Based on **CPU** (Vectorization)\n",
    "- Doesn't support Python generic, DL/ML functions\n",
    "\n",
    "## + DL + GPU\n",
    "- Pytorch(Facebook) -> Tensor based on NUMPY\n",
    "- Tensorflow(Google) -> based on NUMPY\n",
    "- SKlearn -> based on NUMPY, but doesn't support GPU\n",
    "  - \n",
    "\n",
    "## NDArray\n",
    "```Block memory + Indexing Scheme + Data Type Descriptor```\n",
    "- Row-major\n",
    "- Homogeneous Type\n",
    "  - All elements in ndarray are the same type\n",
    "  - Faster\n",
    "- Implemented by **Array**, not **Linked List**\n",
    "  - Python List is implemented by Linked List\n",
    "- If objects have ```\\_\\_array\\_\\_``` method, it can be compatible with NDArray\n",
    "  - ```np.array``` method is used for converting object to NDArray\n",
    "  \n",
    "### dType\n",
    "- It's important for the time and space performance\n",
    "- Both the types of C and the types of Python are supported\n",
    "  - C is faster\n",
    "  - **Smaller type is better than larger**\n",
    "- Since NDArray is homogeneous, type is adjusted as the most general type\n",
    "- Specify dType is ```dtype = np.Type```\n",
    "- Check dType is ```object.dtype```\n",
    "- Convert dType is ```object.astype(np.Type)```\n",
    "- Re-interpret dType ```object.view(np.Type)```. **The memory remains**"
   ]
  },
  {
   "cell_type": "code",
   "execution_count": 78,
   "id": "fdf837f2",
   "metadata": {},
   "outputs": [
    {
     "name": "stdout",
     "output_type": "stream",
     "text": [
      "dict_keys(['?', 0, 'byte', 'b', 1, 'ubyte', 'B', 2, 'short', 'h', 3, 'ushort', 'H', 4, 'i', 5, 'uint', 'I', 6, 'intp', 'p', 7, 'uintp', 'P', 8, 'long', 'l', 'L', 'longlong', 'q', 9, 'ulonglong', 'Q', 10, 'half', 'e', 23, 'f', 11, 'double', 'd', 12, 'longdouble', 'g', 13, 'cfloat', 'F', 14, 'cdouble', 'D', 15, 'clongdouble', 'G', 16, 'O', 17, 'S', 18, 'unicode', 'U', 19, 'void', 'V', 20, 'M', 21, 'm', 22, 'bool8', 'b1', 'int64', 'i8', 'uint64', 'u8', 'float16', 'f2', 'float32', 'f4', 'float64', 'f8', 'complex64', 'c8', 'complex128', 'c16', 'object0', 'bytes0', 'str0', 'void0', 'datetime64', 'M8', 'timedelta64', 'm8', 'int32', 'i4', 'uint32', 'u4', 'int16', 'i2', 'uint16', 'u2', 'int8', 'i1', 'uint8', 'u1', 'complex_', 'int0', 'uint0', 'single', 'csingle', 'singlecomplex', 'float_', 'intc', 'uintc', 'int_', 'longfloat', 'clongfloat', 'longcomplex', 'bool_', 'bytes_', 'string_', 'str_', 'unicode_', 'object_', 'int', 'float', 'complex', 'bool', 'object', 'str', 'bytes', 'a'])\n",
      "117 ms ± 12.6 ms per loop (mean ± std. dev. of 7 runs, 1 loop each)\n",
      "20.4 ms ± 228 µs per loop (mean ± std. dev. of 7 runs, 10 loops each)\n",
      "[1 2 3]\n",
      "[1 2 3]\n",
      "[1 0 2 0 3 0]\n"
     ]
    }
   ],
   "source": [
    "# Check supported type\n",
    "print(np.sctypeDict.keys())\n",
    "\n",
    "# Performance\n",
    "x = np.ones((int(1e8),), dtype=np.int64)\n",
    "y = np.zeros((int(1e8),), dtype=np.int16)\n",
    "\n",
    "%timeit x*x\n",
    "%timeit y*y\n",
    "\n",
    "x = np.array([1,2,3], dtype=np.int64)\n",
    "y = x.astype(np.int32)\n",
    "z = x.view(np.int32)\n",
    "print(x)\n",
    "print(y)\n",
    "print(z)"
   ]
  },
  {
   "cell_type": "markdown",
   "id": "c2e129dd",
   "metadata": {},
   "source": [
    "## Vectorization\n",
    "- Arrays enable to express **batch operations** on data without any loop 'cause **sequential**\n",
    "- Vectorization means the operations of sequential data on elementwise\n",
    "- Numpy's ndarray is array-like. So, it can do parallels but it's important that the numpy is optimied at Big-Data. Thus, in small data, basic python list can be faster\n",
    "\n",
    "\n",
    "\n",
    "## Shape, Size and Stride\n",
    "\n",
    "### Shape\n",
    "- ```(z, y, x)```\n",
    "- Each ```vector``` has x elements\n",
    "- Each ```matrix``` has y vectors\n",
    "- Each ```3D array``` has z matrics\n",
    "- **NDIM** is equals to ```len(shape)```\n",
    "- Each ndarray is called by **NDIM** Tensor\n",
    "  - shape = (n,) is 1st tensor, same as vector\n",
    "  - shape = (m,n,) is 2nd tensor, same as matrix\n",
    "  - shape = (p,m,n,) is 3rd tensor\n",
    "- Examples(Dataset structure)\n",
    "  - ```Vector Data```\n",
    "    - Simple Dataset\n",
    "    - 2D tensor(samples, features)\n",
    "  - ```Timeseries or Sequential Data```\n",
    "    - NL or Audio\n",
    "    - 3D tensor(samples, timesteps, features)\n",
    "  - ```Images Data```\n",
    "    - 4D tensor(samples, height, width, channels) or (samples, channels, height, width)\n",
    "  - ```Videos Data```\n",
    "    - 5D tensor(samples, frames, Image)\n",
    "    \n",
    "### Size\n",
    "- The size of the object\n",
    "  - ```size = The products of all the shape of ndarray```\n",
    "- ```object.itemsize``` shows element's bytes\n",
    "  - The real size of objects is ```object.itemsize * object.size```\n",
    "- ```np.resize``` changes the size of objects, so can loss its data\n",
    "  - ```obj.resize``` can onnly change its own data\n",
    "\n",
    "### Stride\n",
    "- ```(matrix's stride, vector's stride, element's stride)```\n",
    "- stride is based on **octet**\n",
    "- ```transpose``` changes the strides of ndarray and set flag **transpose** so just **O(1)**\n",
    "\n",
    "\n",
    "### Memory block\n",
    "- Memory block maybe **shared**\n",
    "- ```ndarray.data``` shows the memory block of objects, sequential\n",
    "- ```ndarray.base``` refers to base object if ndarray is created by other ndarray\n",
    "- **COPY-ON-DEMAND** isn't supported. For using independently, use **COPY**\n",
    "\n",
    "\n",
    "### Byte order\n",
    "- **=** := native\n",
    "- **<** := little-endian\n",
    "- **>** := big-endian\n",
    "- **|** := not-relevant(endian doesn't matter)\n",
    "\n",
    "### Row-major(C-style) vs Column-major(Fortran-style)\n",
    "- The stride is applied by row/column\n",
    "- Numpy is defaultly row-major. The ```order='C'|'F'``` specifies the major\n",
    "\n",
    "### Axis\n",
    "- The axis of an array describes the position of indexing\n",
    "```\n",
    "[[1,2], \n",
    " [3,4]]\n",
    " \n",
    " arr[x,:] is [1,2] or [3,4] <-- axis = 0\n",
    " arr[:, y] is [1,3] or [2,4] <-- axis = 1\n",
    "```"
   ]
  },
  {
   "cell_type": "code",
   "execution_count": 66,
   "id": "f4a55c24",
   "metadata": {},
   "outputs": [
    {
     "name": "stdout",
     "output_type": "stream",
     "text": [
      "[48.5 49.5 50.5 51.5 52.5]\n",
      "[ 3.  8. 13. 18. 23. 28. 33. 38. 43. 48. 53. 58. 63. 68. 73. 78. 83. 88.\n",
      " 93. 98.]\n",
      "real memory size: 48\n"
     ]
    }
   ],
   "source": [
    "tensor = np.arange(100, dtype=np.int32).reshape((5, 5, 4, 1))\n",
    "assert tensor.ndim == 4 == len(tensor.shape)\n",
    "assert tensor.strides == (4*20, 4*4, 4*1, 4*1)\n",
    "assert tensor.transpose().strides == (4*1, 4*1, 4*4, 4*20)\n",
    "\n",
    "# Axis\n",
    "print(np.mean(np.arange(1, 101).reshape(20,5), axis=0)) # The elements in axis=0 are reduced by mean operation\n",
    "print(np.mean(np.arange(1, 101).reshape(20,5), axis=1)) # The elemetns in axis=1 are reduced by mean operation\n",
    "\n",
    "x = np.resize(tensor, (3,4))\n",
    "assert x.size == 3*4\n",
    "print(\"real memory size:\", x.size * x.itemsize)"
   ]
  },
  {
   "cell_type": "markdown",
   "id": "4ee94599",
   "metadata": {},
   "source": [
    "## Broadcasting\n",
    "- Operation with **different-shape** arrays\n",
    "- Basic numeric operation aren't applied at different shapes\n",
    "- By **PULLING** tensor, the operation can be done\n",
    "- **PULLING** doesn't copy memory. Just re-use if it is fulfilled\n",
    "\n",
    "### Pulling Condition\n",
    "- The paired dimension is same\n",
    "- Pairing can't be transposed\n",
    "- Pulled demension **must** be ```1```\n",
    "- Pulling follows tensor definition\n",
    "  - 1D -> 2D -> 3D -> ...\n",
    "  - If operands are the same demension, Pulling is possible if Pulled demension is **1**"
   ]
  },
  {
   "cell_type": "code",
   "execution_count": 68,
   "id": "3120e0c0",
   "metadata": {},
   "outputs": [
    {
     "ename": "ValueError",
     "evalue": "operands could not be broadcast together with shapes (10,) (2,) ",
     "output_type": "error",
     "traceback": [
      "\u001b[0;31m---------------------------------------------------------------------------\u001b[0m",
      "\u001b[0;31mValueError\u001b[0m                                Traceback (most recent call last)",
      "Input \u001b[0;32mIn [68]\u001b[0m, in \u001b[0;36m<cell line: 5>\u001b[0;34m()\u001b[0m\n\u001b[1;32m      3\u001b[0m x \u001b[38;5;241m+\u001b[39m y\n\u001b[1;32m      4\u001b[0m z \u001b[38;5;241m=\u001b[39m np\u001b[38;5;241m.\u001b[39mones((\u001b[38;5;241m2\u001b[39m,))\n\u001b[0;32m----> 5\u001b[0m \u001b[43mx\u001b[49m\u001b[43m \u001b[49m\u001b[38;5;241;43m+\u001b[39;49m\u001b[43m \u001b[49m\u001b[43mz\u001b[49m\n",
      "\u001b[0;31mValueError\u001b[0m: operands could not be broadcast together with shapes (10,) (2,) "
     ]
    }
   ],
   "source": [
    "x = np.ones((10,))\n",
    "y = np.ones((1,))\n",
    "x + y\n",
    "z = np.ones((2,))\n",
    "x + z # Error"
   ]
  },
  {
   "cell_type": "code",
   "execution_count": 73,
   "id": "5f1d8934",
   "metadata": {
    "scrolled": true
   },
   "outputs": [
    {
     "ename": "ValueError",
     "evalue": "operands could not be broadcast together with shapes (2,3) (3,1) ",
     "output_type": "error",
     "traceback": [
      "\u001b[0;31m---------------------------------------------------------------------------\u001b[0m",
      "\u001b[0;31mValueError\u001b[0m                                Traceback (most recent call last)",
      "Input \u001b[0;32mIn [73]\u001b[0m, in \u001b[0;36m<cell line: 9>\u001b[0;34m()\u001b[0m\n\u001b[1;32m      6\u001b[0m x \u001b[38;5;241m+\u001b[39m z\n\u001b[1;32m      8\u001b[0m w \u001b[38;5;241m=\u001b[39m np\u001b[38;5;241m.\u001b[39mones((\u001b[38;5;241m3\u001b[39m, \u001b[38;5;241m1\u001b[39m)) \u001b[38;5;66;03m# shape = (3, 1)\u001b[39;00m\n\u001b[0;32m----> 9\u001b[0m \u001b[43mx\u001b[49m\u001b[43m \u001b[49m\u001b[38;5;241;43m+\u001b[39;49m\u001b[43m \u001b[49m\u001b[43mw\u001b[49m\n",
      "\u001b[0;31mValueError\u001b[0m: operands could not be broadcast together with shapes (2,3) (3,1) "
     ]
    }
   ],
   "source": [
    "x = np.ones((2, 3)) # shape = (2, 3)\n",
    "y = np.ones((3,)) # shape = (1, 3)\n",
    "x + y\n",
    "\n",
    "z = np.ones((2, 1)) # shape = (2,1)\n",
    "x + z\n",
    "\n",
    "w = np.ones((3, 1)) # shape = (3, 1)\n",
    "x + w # Error"
   ]
  },
  {
   "cell_type": "code",
   "execution_count": 84,
   "id": "2a7f966c",
   "metadata": {},
   "outputs": [
    {
     "ename": "ValueError",
     "evalue": "operands could not be broadcast together with shapes (3,4,5) (3,4) ",
     "output_type": "error",
     "traceback": [
      "\u001b[0;31m---------------------------------------------------------------------------\u001b[0m",
      "\u001b[0;31mValueError\u001b[0m                                Traceback (most recent call last)",
      "Input \u001b[0;32mIn [84]\u001b[0m, in \u001b[0;36m<cell line: 9>\u001b[0;34m()\u001b[0m\n\u001b[1;32m      6\u001b[0m x \u001b[38;5;241m+\u001b[39m z \n\u001b[1;32m      8\u001b[0m w \u001b[38;5;241m=\u001b[39m np\u001b[38;5;241m.\u001b[39mones((\u001b[38;5;241m3\u001b[39m, \u001b[38;5;241m4\u001b[39m)) \u001b[38;5;66;03m# shape = (3, 4)\u001b[39;00m\n\u001b[0;32m----> 9\u001b[0m \u001b[43mx\u001b[49m\u001b[43m \u001b[49m\u001b[38;5;241;43m+\u001b[39;49m\u001b[43m \u001b[49m\u001b[43mw\u001b[49m\n",
      "\u001b[0;31mValueError\u001b[0m: operands could not be broadcast together with shapes (3,4,5) (3,4) "
     ]
    }
   ],
   "source": [
    "x = np.ones((3, 4, 5)) # shape = (3, 4, 5)\n",
    "y = np.ones((5, )) # shape = (1, 5)\n",
    "x + y\n",
    "\n",
    "z = np.ones((4, 5)) # shape = (1, 4, 5)\n",
    "x + z \n",
    "\n",
    "w = np.ones((3, 4)) # shape = (3, 4)\n",
    "x + w # Error 'cause (3, 4) is higher dimension in 3D tensor"
   ]
  },
  {
   "cell_type": "markdown",
   "id": "178bb4b9",
   "metadata": {},
   "source": [
    "## ufunc(universal Functions)\n",
    "- Numpy supports vectorized operations already compiled\n",
    "- The operations apply elementwise defaultly\n",
    "- It is **UFUNC**\n",
    "\n",
    "### Benefits\n",
    "- Simple and Optimistic\n",
    "- How to do is better, faster than What to do\n",
    "  - By using dtype, the performance can be upgraded\n",
    "- Vectorization is better than loop\n",
    "- **DON't** mix default python functions"
   ]
  },
  {
   "cell_type": "code",
   "execution_count": 91,
   "id": "8d9670ad",
   "metadata": {},
   "outputs": [
    {
     "data": {
      "text/plain": [
       "array([-20, -19, -18, -17, -16, -15, -14, -13, -12, -11, -10,  -9,  -8,\n",
       "        -7,  -6,  -5,  -4,  -3,  -2,  -1])"
      ]
     },
     "execution_count": 91,
     "metadata": {},
     "output_type": "execute_result"
    }
   ],
   "source": [
    "# ufunc for one-tensor\n",
    "x = np.arange(-20, 0)\n",
    "np.abs(x)\n",
    "\n",
    "# ufunc for more tensors\n",
    "y = np.arange(1, 2)\n",
    "np.add(x, y) # broadcasting and casting is supported\n",
    "np.floor_divide(x, y)"
   ]
  },
  {
   "cell_type": "markdown",
   "id": "01d1acef",
   "metadata": {},
   "source": [
    "## Creation"
   ]
  },
  {
   "cell_type": "code",
   "execution_count": 37,
   "id": "1f6ebed3",
   "metadata": {},
   "outputs": [
    {
     "name": "stdout",
     "output_type": "stream",
     "text": [
      "[[0 0 0]\n",
      " [0 0 0]\n",
      " [0 0 0]\n",
      " [0 0 0]]\n",
      "[[1. 0. 0.]\n",
      " [0. 1. 0.]\n",
      " [0. 0. 1.]]\n",
      "[ 0  1  2  3  4  5  6  7  8 10]\n",
      "[   1    2    4   10   21   47  101  219  474 1024]\n"
     ]
    }
   ],
   "source": [
    "import numpy as np\n",
    "\n",
    "# Constructor\n",
    "x = np.ndarray(shape=(4, 3), dtype=np.uint8) # Fill random elements\n",
    "print(x)\n",
    "\n",
    "# Convert sequence objects to ndarray\n",
    "x = np.array([1,2,3], dtype=np.uint8) # Copy default\n",
    "y = np.asarray(x) # If x is ndarray, then share it. Otherwise copy it\n",
    "assert x is y\n",
    "\n",
    "# Like builtin range but return ndarray\n",
    "x = np.arange(10, dtype=np.uint8)\n",
    "\n",
    "# Fill ones\n",
    "\n",
    "x = np.ones(shape = (3,4), dtype=np.uint8)\n",
    "\n",
    "y = np.ones_like(x, dtype=np.float32) # Fill ones like x's shape\n",
    "assert x.shape == y.shape\n",
    "\n",
    "# Fill zeros\n",
    "\n",
    "x = np.zeros(shape = (3,4), dtype=np.uint8)\n",
    "y = np.zeros_like(x)\n",
    "assert x.shape == y.shape\n",
    "\n",
    "# Allocate memory but don't populate with any values\n",
    "x = np.empty(shape=(3,4))\n",
    "y = np.empty_like(x)\n",
    "assert x.shape == y.shape\n",
    "\n",
    "# identical matrix, 2D tensor\n",
    "x = np.eye(3)\n",
    "y = np.identity(3)\n",
    "print(x)\n",
    "\n",
    "# Create with interval\n",
    "x = np.linspace(0, 10, num=10, dtype=np.uint8)\n",
    "print(x)\n",
    "x = np.logspace(0, 10, base=2, num=10, dtype=np.uint16) # logscale\n",
    "print(x)"
   ]
  },
  {
   "cell_type": "markdown",
   "id": "f98976cd",
   "metadata": {},
   "source": [
    "## NDArray vs Matrix(MATLAB support)\n",
    "||NDArray|Matrix|\n",
    "|------|---|---|\n",
    "|Demension|Tensor|2D|\n",
    "|\\* operator|Elementwise|Matrix|\n",
    "|numpy.multiply|Elementwise|Elementwise|\n",
    "|numpy.dot|Matrix|Matrix"
   ]
  },
  {
   "cell_type": "code",
   "execution_count": 351,
   "id": "3d05f0e1",
   "metadata": {},
   "outputs": [
    {
     "name": "stdout",
     "output_type": "stream",
     "text": [
      "[[ 7 10]\n",
      " [15 22]]\n",
      "[[ 1  4]\n",
      " [ 9 16]]\n"
     ]
    }
   ],
   "source": [
    "import numpy as np\n",
    "\n",
    "mat = np.matrix([1,2])\n",
    "assert matX.shape == (1,2)\n",
    "\n",
    "mat1 = np.matrix([[1,2],\n",
    "                 [3,4]])\n",
    "mat2 = np.matrix([[1,2],\n",
    "                 [3,4]])\n",
    "\n",
    "tensor1 = np.array([[1,2],\n",
    "                   [3,4]])\n",
    "\n",
    "tensor2 = np.array([[1,2],\n",
    "                   [3,4]])\n",
    "\n",
    "print(mat1*mat2)\n",
    "print(tensor1 * tensor2)\n",
    "\n",
    "# tensor multiplication\n",
    "# Saclar, 1D, 2D tensor is same as matrix\n",
    "x = np.array([1,2])\n",
    "assert np.all(x*2 == np.dot(x, 2))\n",
    "y = np.array([3,4])\n",
    "assert np.all(np.dot(x, y) == 11)\n",
    "\n",
    "x = np.array([[1, 2],\n",
    "             [3, 4]])\n",
    "assert np.all(np.dot(x, x) == np.array([[7, 10],\n",
    "                                       [15, 22]]))\n",
    "\n",
    "# Ndarray, is calcuated by\n",
    "x = np.arange(150).reshape(2, 3, 5, 5)\n",
    "r = np.dot(x, x)\n",
    "assert r.shape == (2, 3, 5, 2, 3, 5)\n",
    "assert r[0,0,0,0,0,3] == np.sum(x[0,0,0,:] * x[0,0,:,3])\n",
    "\n",
    "# The last sub-tensor of first tensor and the second last sub-tensor of second tensor is calculated by the sum-production"
   ]
  },
  {
   "cell_type": "markdown",
   "id": "a1b3d563",
   "metadata": {},
   "source": [
    "## Casting&Indexing&Slicing&Searching\n",
    "\n",
    "### Casting\n",
    "- Casting is only types, **not value**\n",
    "- Casting largest type is safe\n",
    "- ```astype```, ```view```\n",
    "\n",
    "### Indexing & Slicing & Searching\n",
    "- If indexing or Slicing returns ndarray, they share base object\n",
    "- A single ellipsis can occur\n",
    "- Searching is done by ```np.where()``` or statical methods like ```np.max/min```\n",
    "  - ```np.where(condition, [x, y])```\n",
    "    - If condition == True then yield x. Otherwise yield y"
   ]
  },
  {
   "cell_type": "code",
   "execution_count": 244,
   "id": "8f31043e",
   "metadata": {},
   "outputs": [
    {
     "name": "stdout",
     "output_type": "stream",
     "text": [
      "[16 17 18 19]\n",
      "[3 3 3 3 3]\n"
     ]
    }
   ],
   "source": [
    "import numpy as np\n",
    "\n",
    "x = np.array([1,2,3])\n",
    "y = x[0:1]\n",
    "\n",
    "assert x.base is None\n",
    "assert y.base is x\n",
    "\n",
    "# But not the same object\n",
    "assert not x is y\n",
    "\n",
    "x = np.arange(100).reshape((10,5,2))\n",
    "\n",
    "# Slicing with referneces\n",
    "# refArr is 1D tensor and the shape must be same with corresponding axis\n",
    "x = np.arange(20).reshape((5,4))\n",
    "refAxis0 = np.array(['A', 'B', 'A', 'C', 'C'])\n",
    "refAxis1 = np.array(['A', 'B', 'C', 'D'])\n",
    "x[refAxis0=='A']\n",
    "x[refAxis0=='A', refAxis1=='C']\n",
    "\n",
    "# Copy sliced array(Fancy indexing)\n",
    "# Sliced array remains its original dimension\n",
    "# Wrap the copied subarray with the square brakets\n",
    "# The order in brakets can be arbitrary\n",
    "y = x[[1, 0]]\n",
    "assert len(x.shape) == 2\n",
    "assert len(y.shape) == 2\n",
    "\n",
    "\n",
    "# Negative Index refers from end to start\n",
    "x[-1,-1]\n",
    "\n",
    "# Searching\n",
    "print(x.max(axis=0)) # Search maximum in axis-0\n",
    "print(x.argmax(axis=1)) # Search maximum, default axis is 0 and at then, just return scalar\n",
    "\n",
    "x = np.array([1,2,3,4,5])\n",
    "np.where(x > 3) # Search the indice of fulfilling conditions\n",
    "# Search the indice and then find the elements\n",
    "assert np.all(x[np.where(x > 3)] == x[x > 3] )\n",
    "\n",
    "# Ellipsis\n",
    "x = np.arange(100).reshape((2,2,5,5))\n",
    "assert x[...,0].shape == (2, 2, 5) # Ellipsis skip all axis before explicitly denoted\n",
    "\n",
    "# Advanced\n",
    "\n",
    "# In python list, ::n means per interval\n",
    "assert [1,2,3][::-1] == [3,2,1]\n",
    "assert [1,2,3,4,5][::2] == [1,3,5]\n",
    "\n",
    "# wrap array one more dimension\n",
    "# If None is indexed, the dimension is increased\n",
    "x = np.arange(10).reshape(2, 5)\n",
    "assert np.newaxis == None\n",
    "assert x[np.newaxis].shape == (1, 2, 5)\n",
    "assert x[:,np.newaxis].shape == (2, 1, 5)\n",
    "assert x[...,np.newaxis].shape == (2, 5, 1)"
   ]
  },
  {
   "cell_type": "code",
   "execution_count": 234,
   "id": "820489bd",
   "metadata": {},
   "outputs": [
    {
     "data": {
      "text/plain": [
       "array([[1, 2, 3]])"
      ]
     },
     "execution_count": 234,
     "metadata": {},
     "output_type": "execute_result"
    }
   ],
   "source": [
    "x = np.array([1,2,3])\n",
    "x[None]"
   ]
  },
  {
   "cell_type": "markdown",
   "id": "443d347e",
   "metadata": {},
   "source": [
    "### Examples\n",
    "\n",
    "#### Substitude negative values as zero"
   ]
  },
  {
   "cell_type": "code",
   "execution_count": 149,
   "id": "5be7b04c",
   "metadata": {},
   "outputs": [
    {
     "name": "stdout",
     "output_type": "stream",
     "text": [
      "[0, 0, 0, 0, 0, 0, 1, 2, 3, 4]\n",
      "[0 0 0 0 0 0 1 2 3 4]\n",
      "[0 0 0 0 0 0 1 2 3 4]\n",
      "[0 0 0 0 0 0 1 2 3 4]\n",
      "[0 0 0 0 0 0 1 2 3 4]\n"
     ]
    }
   ],
   "source": [
    "import numpy as np\n",
    "\n",
    "x = np.arange(-5, 5)\n",
    "\n",
    "#1. List comprehension\n",
    "y = [datum if datum >= 0 else 0 for datum in x]\n",
    "print(y)\n",
    "\n",
    "#2. Indexing\n",
    "y = np.array(x)\n",
    "y[y < 0] = 0\n",
    "print(y)\n",
    "\n",
    "#3. where\n",
    "y = np.where(x < 0, 0, x)\n",
    "print(y)\n",
    "\n",
    "#4. Clip\n",
    "# np.clip(array-like, min, max) clips the array in [min, max]\n",
    "y = np.clip(x, 0, 4)\n",
    "print(y)\n",
    "print(x.clip(0)) # clips the current array with interval"
   ]
  },
  {
   "cell_type": "markdown",
   "id": "eecc47d4",
   "metadata": {},
   "source": [
    "## Shape"
   ]
  },
  {
   "cell_type": "code",
   "execution_count": 202,
   "id": "6fba9f3f",
   "metadata": {},
   "outputs": [
    {
     "name": "stdout",
     "output_type": "stream",
     "text": [
      "[ 1  2  3  4  5  6  7  8  9 10 11 12]\n",
      "[[ 1  2  3  4]\n",
      " [ 5  6  7  8]\n",
      " [ 9 10 11 12]]\n",
      "[ 1  2  3  4  5  6  7  8  9 10 11 12]\n"
     ]
    }
   ],
   "source": [
    "import numpy as np\n",
    "x = np.arange(1, 13) # (12,)\n",
    "print(x)\n",
    "y = x.reshape((3,4), order='C')\n",
    "print(y)\n",
    "\n",
    "# Return to the flatten array\n",
    "# To flatten original x, the order MUST be same\n",
    "x = y.ravel(order='C') # Return the \"view\" if possible, share memory\n",
    "x = y.flatten('C') # Return the \"copy\"\n",
    "print(x)\n",
    "\n",
    "# Reshape with negative, interpreted by maximum\n",
    "y = x.reshape((3, -100))\n",
    "assert y.shape == (3,4) # 3 * x = 12; x = 4"
   ]
  },
  {
   "cell_type": "markdown",
   "id": "c21fc185",
   "metadata": {},
   "source": [
    "## Stacking"
   ]
  },
  {
   "cell_type": "code",
   "execution_count": 245,
   "id": "3e83abe7",
   "metadata": {},
   "outputs": [
    {
     "name": "stdout",
     "output_type": "stream",
     "text": [
      "[[ 1  2  3  4  5  6  7  8  9 10 11 12]\n",
      " [13 14 15 16 17 18 19 20 21 22 23 24]]\n",
      "[[ 1 13]\n",
      " [ 2 14]\n",
      " [ 3 15]\n",
      " [ 4 16]\n",
      " [ 5 17]\n",
      " [ 6 18]\n",
      " [ 7 19]\n",
      " [ 8 20]\n",
      " [ 9 21]\n",
      " [10 22]\n",
      " [11 23]\n",
      " [12 24]]\n"
     ]
    }
   ],
   "source": [
    "# Stack at Axis, the stacked dimension must be same\n",
    "# The shape of returned array is (..., the number of stacked arr(at axis), ...)\n",
    "x = np.arange(1, 13)\n",
    "y = np.arange(13, 25)\n",
    "z = np.stack((x, y)) # Default axis is 0\n",
    "print(z)\n",
    "z = np.stack((x, y), axis = 1)\n",
    "print(z)\n",
    "\n",
    "x = x.reshape((3,4))\n",
    "y = y.reshape((3,4))\n",
    "assert np.stack((x, y)).shape[0] == 2\n",
    "assert np.stack((x,y), axis=1).shape[1] == 2"
   ]
  },
  {
   "cell_type": "markdown",
   "id": "53ac2d53",
   "metadata": {},
   "source": [
    "## Split\n",
    "\n",
    "```numpy.split(array-like, indices or sections, axis = 0)```\n",
    "- indices or sections is ```int or 1D tensor```\n",
    "  - integer means that the array-like is divided by n-equal subarries\n",
    "  - 1D tensor means that the array-like is divided by slicing\n",
    "  \n",
    "- ```numpy.hsplit == numpy.split(axis = 1)```\n",
    "- ```numpy.vsplit == numpy.split(axis = 0)```"
   ]
  },
  {
   "cell_type": "code",
   "execution_count": 246,
   "id": "b2a3b590",
   "metadata": {},
   "outputs": [
    {
     "name": "stdout",
     "output_type": "stream",
     "text": [
      "(6, 1)\n",
      "(6, 1)\n",
      "(6, 1)\n"
     ]
    }
   ],
   "source": [
    "import numpy as np\n",
    "x = np.arange(18).reshape(6, 3)\n",
    "y = np.split(x, 6, axis = 0)\n",
    "assert len(y) == 6\n",
    "\n",
    "try:\n",
    "    y = np.split(x, 4) # Error. array split doesn't result in an equal division\n",
    "except ValueError:\n",
    "    pass\n",
    "\n",
    "y = np.split(x, [1,2], axis = 1) #split to x[, :1], x[, 1:2], x[, 2:] \n",
    "for arr in y:\n",
    "    print(arr.shape)"
   ]
  },
  {
   "cell_type": "markdown",
   "id": "cb101a2a",
   "metadata": {},
   "source": [
    "## Concatenate\n",
    "```\n",
    "numpy.concatenate((x, y), axis=0)\n",
    "```\n",
    "- Concatenate arraies at axis's **tensorwise**\n",
    "```\n",
    "x = [1,2,3], y = [4,5,6] ==> [ [1,2,3],\n",
    "                               [4,5,6] ]\n",
    "```\n",
    "``` \n",
    "numpy.concatenate((x,y), axis = 0) ==\n",
    "numpy.vstack([x,y])\n",
    "```\n",
    "\n",
    "```\n",
    "x = [1,2,3], y = [4,5,6] ==> [ 1, 2, 3, 4, 5, 6 ]\n",
    "```\n",
    "```\n",
    "numpy.concatenate(axis = 1) == \n",
    "numpy.hstack([x, y])\n",
    "```\n",
    "\n",
    "```\n",
    "x = [1,2,3], y = [4,5,6] ==> [ [1, 4],\n",
    "                               [2, 5],\n",
    "                               [3, 6] ]\n",
    "```\n",
    "```\n",
    "numpy.concatenate((x.T, y.T), axis=1)\n",
    "```"
   ]
  },
  {
   "cell_type": "code",
   "execution_count": 276,
   "id": "58bf8f2d",
   "metadata": {},
   "outputs": [
    {
     "name": "stdout",
     "output_type": "stream",
     "text": [
      "[[1 2 3]\n",
      " [4 5 6]]\n",
      "=====================\n",
      "[[1 2 3 4 5 6]]\n",
      "=====================\n",
      "[[1 4]\n",
      " [2 5]\n",
      " [3 6]]\n"
     ]
    }
   ],
   "source": [
    "import numpy as np\n",
    "\n",
    "x = np.array([1,2,3]).reshape(1,3)\n",
    "y = np.array([4,5,6]).reshape(1,3)\n",
    "\n",
    "z = np.concatenate((x, y), axis = 0) # Default = 0\n",
    "w = np.vstack((x,y))\n",
    "r = np.r_[x, y]\n",
    "print(z)\n",
    "assert np.all(z == w)\n",
    "assert np.all(z == r)\n",
    "print(\"=====================\")\n",
    "z = np.concatenate((x, y), axis = 1)\n",
    "w = np.hstack((x, y))\n",
    "print(z)\n",
    "assert np.all(z == w)\n",
    "\n",
    "print(\"=====================\")\n",
    "z = np.concatenate((x.T, y.T), axis = 1)\n",
    "print(z)"
   ]
  },
  {
   "cell_type": "markdown",
   "id": "32e53e46",
   "metadata": {},
   "source": [
    "## Transpose and Swap axis\n",
    "- Transpose changes **the stride** and set **transpose flag**"
   ]
  },
  {
   "cell_type": "code",
   "execution_count": 296,
   "id": "ff552336",
   "metadata": {},
   "outputs": [
    {
     "name": "stdout",
     "output_type": "stream",
     "text": [
      "[[1 4]\n",
      " [2 5]\n",
      " [3 6]]\n"
     ]
    }
   ],
   "source": [
    "import numpy as np\n",
    "x = np.arange(210).reshape(2,3,5,7)\n",
    "\n",
    "assert np.all(x.T[0,0,0,:] == x[:,0,0,0])\n",
    "assert np.all(x.T[0,:,0,0] == x[0,0,:,0])\n",
    "\n",
    "# Swap axis\n",
    "\n",
    "x = np.array([[1,2,3],\n",
    "             [4,5,6]])\n",
    "y = np.swapaxes(x, 0, 1)\n",
    "print(y)"
   ]
  },
  {
   "cell_type": "markdown",
   "id": "d120776b",
   "metadata": {},
   "source": [
    "## Adding new axis"
   ]
  },
  {
   "cell_type": "code",
   "execution_count": 305,
   "id": "bc9d0a64",
   "metadata": {},
   "outputs": [],
   "source": [
    "import numpy as np\n",
    "x = np.arange(100).reshape(2,2,5,5)\n",
    "\n",
    "assert x[np.newaxis,...].shape == (1, 2, 2, 5, 5)\n",
    "assert x[:,np.newaxis,...].shape == (2, 1, 2, 5, 5)\n",
    "\n",
    "# Repeat an array\n",
    "# np.tile(x, (repeated axis))\n",
    "x = np.arange(6).reshape(2, 3)\n",
    "y = np.tile(x, (2, 3))\n",
    "assert y.shape == (2*2, 3*3)"
   ]
  },
  {
   "cell_type": "markdown",
   "id": "398b9f96",
   "metadata": {},
   "source": [
    "## Sorting"
   ]
  },
  {
   "cell_type": "code",
   "execution_count": 312,
   "id": "966521ac",
   "metadata": {},
   "outputs": [
    {
     "name": "stdout",
     "output_type": "stream",
     "text": [
      "[[0.15095565 0.0119836  0.12172796 0.25271014]\n",
      " [0.32672276 0.88939201 0.37612024 0.38790659]\n",
      " [0.66201004 0.92629705 0.81595164 0.55727674]]\n",
      "[[0.12172796 0.15095565 0.25271014 0.88939201]\n",
      " [0.0119836  0.32672276 0.37612024 0.38790659]\n",
      " [0.55727674 0.66201004 0.81595164 0.92629705]]\n"
     ]
    }
   ],
   "source": [
    "import numpy as np\n",
    "x = np.random.random((3,4))\n",
    "\n",
    "y = np.sort(x, axis = 0) # Sorting each column 'cause the baseline is axis=0\n",
    "y = np.sort(x, axis = 1) # Sorting each row 'cause the baseline is axis=1\n",
    "\n",
    "# Reverse sorting\n",
    "y = np.sort(x, axis = 0)[::-1]"
   ]
  },
  {
   "cell_type": "markdown",
   "id": "657f5651",
   "metadata": {},
   "source": [
    "## Save and Load"
   ]
  },
  {
   "cell_type": "code",
   "execution_count": 329,
   "id": "cf27b3e7",
   "metadata": {},
   "outputs": [
    {
     "name": "stdout",
     "output_type": "stream",
     "text": [
      "[1 2 3]\n",
      "[1 2 3] [4 5 6]\n",
      "[1 2 3] [4 5 6]\n",
      "[1. 2. 3.]\n"
     ]
    }
   ],
   "source": [
    "import numpy as np\n",
    "\n",
    "x = np.array([1,2,3])\n",
    "y = np.array([4,5,6])\n",
    "\n",
    "# Single array\n",
    "np.save(r\"./single.npy\", x)\n",
    "z = np.load(r'./single.npy')\n",
    "print(z)\n",
    "\n",
    "# Several arrays\n",
    "np.savez(r\"./several.npz\", x=x, y=y) # For indexing, specify the identifiers\n",
    "with np.load(r\"./several.npz\") as l:\n",
    "    print(l['x'], l['y'])\n",
    "\n",
    "# Compressed Several arrays\n",
    "np.savez_compressed(r\"./compressed.npz\", x=x, y=y) # For indexing, specify the identifiers\n",
    "with np.load(r\"./compressed.npz\") as l:\n",
    "    print(l['x'], l['y'])\n",
    "    \n",
    "# Save textfile\n",
    "# 1D or 2D only\n",
    "np.savetxt(r\"arr.txt\", x)\n",
    "z = np.loadtxt(r'arr.txt')\n",
    "print(z)"
   ]
  }
 ],
 "metadata": {
  "kernelspec": {
   "display_name": "Python 3 (ipykernel)",
   "language": "python",
   "name": "python3"
  },
  "language_info": {
   "codemirror_mode": {
    "name": "ipython",
    "version": 3
   },
   "file_extension": ".py",
   "mimetype": "text/x-python",
   "name": "python",
   "nbconvert_exporter": "python",
   "pygments_lexer": "ipython3",
   "version": "3.10.4"
  }
 },
 "nbformat": 4,
 "nbformat_minor": 5
}
